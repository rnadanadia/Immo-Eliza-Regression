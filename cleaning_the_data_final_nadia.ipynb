{
 "cells": [
  {
   "cell_type": "markdown",
   "id": "0bc7145f",
   "metadata": {},
   "source": [
    "# Housing data cleaning\n"
   ]
  },
  {
   "cell_type": "markdown",
   "id": "5b7d0e24",
   "metadata": {},
   "source": [
    "### THE QUESTIONS\n",
    "##### You must be able to answer :\n",
    "1. Which variable is the target ? -> Price\n",
    "2. How many rows and columns ?\n",
    "3. What is the correlation between the variables and the target ? (Why might that be?)\n",
    "4. What is the correlation between the variables and the other variables ? (Why?)\n",
    "5. Which variables have the greatest influence on the target ?\n",
    "6. Which variables have the least influence on the target ?\n",
    "7. How many qualitative and quantitative variables are there ? How would you transform these values into numerical values ?\n",
    "8. Percentage of missing values per column ?"
   ]
  },
  {
   "cell_type": "code",
   "execution_count": 367,
   "id": "3833103a",
   "metadata": {},
   "outputs": [],
   "source": [
    "import pandas as pd\n",
    "import pickle\n",
    "import matplotlib.pyplot as plt\n",
    "import numpy as np\n",
    "\n"
   ]
  },
  {
   "cell_type": "code",
   "execution_count": 368,
   "id": "765fca76",
   "metadata": {},
   "outputs": [
    {
     "data": {
      "text/plain": [
       "(14625, 113)"
      ]
     },
     "execution_count": 368,
     "metadata": {},
     "output_type": "execute_result"
    }
   ],
   "source": [
    "def read_df(filename: str) -> pd.DataFrame:\n",
    "    \"\"\"Reads a DataFrame from a binary file \n",
    "    :return: A DataFrame that contains all the data from ImmoWeb properties \"\"\"\n",
    "    open_file = open(filename, \"rb\")\n",
    "    loaded_data = pickle.load(open_file)\n",
    "    print(type(loaded_data))\n",
    "    open_file.close()\n",
    "    return loaded_data\n",
    "\n",
    "houses = pd.read_csv('housing_data.csv')\n",
    "houses.head()\n",
    "houses.shape"
   ]
  },
  {
   "cell_type": "code",
   "execution_count": 369,
   "id": "92ce38d6",
   "metadata": {},
   "outputs": [
    {
     "data": {
      "text/plain": [
       "113"
      ]
     },
     "execution_count": 369,
     "metadata": {},
     "output_type": "execute_result"
    }
   ],
   "source": [
    "len(houses.columns)\n"
   ]
  },
  {
   "cell_type": "markdown",
   "id": "161a7b8a",
   "metadata": {},
   "source": [
    "## Drop the unnecessary columns"
   ]
  },
  {
   "cell_type": "code",
   "execution_count": null,
   "id": "424238b1",
   "metadata": {},
   "outputs": [],
   "source": []
  },
  {
   "cell_type": "markdown",
   "id": "6de92501",
   "metadata": {},
   "source": [
    "## Then calculate again the number of columns"
   ]
  },
  {
   "cell_type": "code",
   "execution_count": 370,
   "id": "726712b3",
   "metadata": {},
   "outputs": [
    {
     "data": {
      "text/plain": [
       "113"
      ]
     },
     "execution_count": 370,
     "metadata": {},
     "output_type": "execute_result"
    }
   ],
   "source": [
    "len(houses.columns)"
   ]
  },
  {
   "cell_type": "markdown",
   "id": "2b30b29b",
   "metadata": {},
   "source": [
    "## 1. Price (Jari)\n"
   ]
  },
  {
   "cell_type": "markdown",
   "id": "3df3ed53",
   "metadata": {},
   "source": [
    "### Removing empty sales values and rows with price range"
   ]
  },
  {
   "cell_type": "markdown",
   "id": "72b88232",
   "metadata": {},
   "source": []
  },
  {
   "cell_type": "markdown",
   "id": "984e6934",
   "metadata": {},
   "source": [
    "Number of rows before"
   ]
  },
  {
   "cell_type": "code",
   "execution_count": 371,
   "id": "e6e90a43",
   "metadata": {},
   "outputs": [
    {
     "data": {
      "text/plain": [
       "14625"
      ]
     },
     "execution_count": 371,
     "metadata": {},
     "output_type": "execute_result"
    }
   ],
   "source": [
    "houses['Immoweb ID'].count()"
   ]
  },
  {
   "cell_type": "markdown",
   "id": "a7e0f1b2",
   "metadata": {},
   "source": [
    "Count rows to remove"
   ]
  },
  {
   "cell_type": "code",
   "execution_count": 372,
   "id": "2ab8ff2e",
   "metadata": {},
   "outputs": [
    {
     "data": {
      "text/plain": [
       "14625"
      ]
     },
     "execution_count": 372,
     "metadata": {},
     "output_type": "execute_result"
    }
   ],
   "source": [
    "houses['Immoweb ID'].loc[houses['Price']!= houses['Price (sr only)']].count()"
   ]
  },
  {
   "cell_type": "markdown",
   "id": "78b2241d",
   "metadata": {},
   "source": [
    "#### Remove the rows"
   ]
  },
  {
   "cell_type": "markdown",
   "id": "c1dbff34",
   "metadata": {},
   "source": [
    "Rows after the remove"
   ]
  },
  {
   "cell_type": "markdown",
   "id": "dcb68b17",
   "metadata": {},
   "source": [
    "Convert the values to integers and check that it really happened"
   ]
  },
  {
   "cell_type": "code",
   "execution_count": 373,
   "id": "980775bc",
   "metadata": {},
   "outputs": [],
   "source": [
    "def price_empty_conv(value : str) -> str:\n",
    "    if pd.isna(value) or pd.isnull(value):\n",
    "        return value\n",
    "    if len(value) > 10:\n",
    "        return 'KILL_ME'\n",
    "    return value\n",
    "\n",
    "houses['Price'] = houses['Price'].apply(price_empty_conv)"
   ]
  },
  {
   "cell_type": "code",
   "execution_count": 374,
   "id": "eb892f7d",
   "metadata": {},
   "outputs": [
    {
     "data": {
      "text/html": [
       "<div>\n",
       "<style scoped>\n",
       "    .dataframe tbody tr th:only-of-type {\n",
       "        vertical-align: middle;\n",
       "    }\n",
       "\n",
       "    .dataframe tbody tr th {\n",
       "        vertical-align: top;\n",
       "    }\n",
       "\n",
       "    .dataframe thead th {\n",
       "        text-align: right;\n",
       "    }\n",
       "</style>\n",
       "<table border=\"1\" class=\"dataframe\">\n",
       "  <thead>\n",
       "    <tr style=\"text-align: right;\">\n",
       "      <th></th>\n",
       "      <th>Immoweb ID</th>\n",
       "      <th>Price</th>\n",
       "    </tr>\n",
       "  </thead>\n",
       "  <tbody>\n",
       "  </tbody>\n",
       "</table>\n",
       "</div>"
      ],
      "text/plain": [
       "Empty DataFrame\n",
       "Columns: [Immoweb ID, Price]\n",
       "Index: []"
      ]
     },
     "execution_count": 374,
     "metadata": {},
     "output_type": "execute_result"
    }
   ],
   "source": [
    "houses[['Immoweb ID', 'Price']].loc[(houses['Price'].str.len()) > 10]"
   ]
  },
  {
   "cell_type": "code",
   "execution_count": 255,
   "id": "ab4b52af",
   "metadata": {},
   "outputs": [
    {
     "data": {
      "text/plain": [
       "14625"
      ]
     },
     "execution_count": 255,
     "metadata": {},
     "output_type": "execute_result"
    }
   ],
   "source": [
    "houses[['Immoweb ID', 'Price']].loc[houses['Price']== 'KILL_ME']\n",
    "houses['Immoweb ID'].count()"
   ]
  },
  {
   "cell_type": "code",
   "execution_count": 256,
   "id": "9f5e2e7d",
   "metadata": {},
   "outputs": [
    {
     "data": {
      "text/plain": [
       "14621"
      ]
     },
     "execution_count": 256,
     "metadata": {},
     "output_type": "execute_result"
    }
   ],
   "source": [
    "houses = houses[houses['Price'] != 'KILL_ME']\n",
    "houses['Immoweb ID'].count()"
   ]
  },
  {
   "cell_type": "code",
   "execution_count": 257,
   "id": "6fedb399",
   "metadata": {},
   "outputs": [],
   "source": [
    "houses['Price'] = houses['Price'].astype('int')"
   ]
  },
  {
   "cell_type": "code",
   "execution_count": 258,
   "id": "72386cce",
   "metadata": {},
   "outputs": [
    {
     "data": {
      "text/plain": [
       "dtype('int64')"
      ]
     },
     "execution_count": 258,
     "metadata": {},
     "output_type": "execute_result"
    }
   ],
   "source": [
    "houses['Price'].dtype"
   ]
  },
  {
   "cell_type": "markdown",
   "id": "232b3537",
   "metadata": {},
   "source": [
    "## 2. Living area (Jari)"
   ]
  },
  {
   "cell_type": "markdown",
   "id": "cfbfc45a",
   "metadata": {},
   "source": [
    "#### Remove the rows that has no 'living area' information (and set the type to int)"
   ]
  },
  {
   "cell_type": "code",
   "execution_count": 259,
   "id": "f9bec165",
   "metadata": {},
   "outputs": [],
   "source": [
    "houses = houses.loc[pd.notna(houses['Living area'])]\n",
    "houses['Living area'] = houses['Living area'].astype('int')"
   ]
  },
  {
   "cell_type": "code",
   "execution_count": 260,
   "id": "521d3c2d",
   "metadata": {},
   "outputs": [
    {
     "data": {
      "text/plain": [
       "11446"
      ]
     },
     "execution_count": 260,
     "metadata": {},
     "output_type": "execute_result"
    }
   ],
   "source": [
    "houses['Immoweb ID'].count()"
   ]
  },
  {
   "cell_type": "markdown",
   "id": "a0f14e02",
   "metadata": {},
   "source": [
    "## 3. Price / Square meter (eur/m2) (Jari)"
   ]
  },
  {
   "cell_type": "markdown",
   "id": "aff1b9e7",
   "metadata": {},
   "source": [
    "#### Let's rename 'Price (sr only)' to 'Eur/m2'"
   ]
  },
  {
   "cell_type": "code",
   "execution_count": 261,
   "id": "b48b2c4c",
   "metadata": {},
   "outputs": [
    {
     "data": {
      "text/html": [
       "<div>\n",
       "<style scoped>\n",
       "    .dataframe tbody tr th:only-of-type {\n",
       "        vertical-align: middle;\n",
       "    }\n",
       "\n",
       "    .dataframe tbody tr th {\n",
       "        vertical-align: top;\n",
       "    }\n",
       "\n",
       "    .dataframe thead th {\n",
       "        text-align: right;\n",
       "    }\n",
       "</style>\n",
       "<table border=\"1\" class=\"dataframe\">\n",
       "  <thead>\n",
       "    <tr style=\"text-align: right;\">\n",
       "      <th></th>\n",
       "      <th>Unnamed: 0</th>\n",
       "      <th>Immoweb ID</th>\n",
       "      <th>Property type</th>\n",
       "      <th>property sub-type</th>\n",
       "      <th>Price</th>\n",
       "      <th>Eur/m2</th>\n",
       "      <th>Price HTML</th>\n",
       "      <th>Post code</th>\n",
       "      <th>Available as of</th>\n",
       "      <th>Property name</th>\n",
       "      <th>...</th>\n",
       "      <th>Professional space surface</th>\n",
       "      <th>Land is facing street</th>\n",
       "      <th>Flat land</th>\n",
       "      <th>Current monthly revenue</th>\n",
       "      <th>Wooded land</th>\n",
       "      <th>Plot at rear</th>\n",
       "      <th>Percentage rented</th>\n",
       "      <th>EPC description</th>\n",
       "      <th>Venue of the sale</th>\n",
       "      <th>Date of the sale</th>\n",
       "    </tr>\n",
       "  </thead>\n",
       "  <tbody>\n",
       "    <tr>\n",
       "      <th>0</th>\n",
       "      <td>0</td>\n",
       "      <td>9739983</td>\n",
       "      <td>APARTMENT</td>\n",
       "      <td>PENTHOUSE</td>\n",
       "      <td>476000</td>\n",
       "      <td>476000.0</td>\n",
       "      <td>\\n€476,000 476000€\\n</td>\n",
       "      <td>1130</td>\n",
       "      <td>After signing the deed</td>\n",
       "      <td>MIDDLE WAY</td>\n",
       "      <td>...</td>\n",
       "      <td>NaN</td>\n",
       "      <td>NaN</td>\n",
       "      <td>NaN</td>\n",
       "      <td>NaN</td>\n",
       "      <td>NaN</td>\n",
       "      <td>NaN</td>\n",
       "      <td>NaN</td>\n",
       "      <td>NaN</td>\n",
       "      <td>NaN</td>\n",
       "      <td>NaN</td>\n",
       "    </tr>\n",
       "  </tbody>\n",
       "</table>\n",
       "<p>1 rows × 113 columns</p>\n",
       "</div>"
      ],
      "text/plain": [
       "   Unnamed: 0  Immoweb ID Property type property sub-type   Price    Eur/m2  \\\n",
       "0           0     9739983     APARTMENT         PENTHOUSE  476000  476000.0   \n",
       "\n",
       "             Price HTML  Post code         Available as of Property name  ...  \\\n",
       "0  \\n€476,000 476000€\\n       1130  After signing the deed    MIDDLE WAY  ...   \n",
       "\n",
       "   Professional space surface  Land is facing street  Flat land  \\\n",
       "0                         NaN                    NaN        NaN   \n",
       "\n",
       "  Current monthly revenue  Wooded land Plot at rear  Percentage rented  \\\n",
       "0                     NaN          NaN          NaN                NaN   \n",
       "\n",
       "   EPC description Venue of the sale Date of the sale  \n",
       "0              NaN               NaN              NaN  \n",
       "\n",
       "[1 rows x 113 columns]"
      ]
     },
     "execution_count": 261,
     "metadata": {},
     "output_type": "execute_result"
    }
   ],
   "source": [
    "houses = houses.rename(columns={'Price (sr only)': 'Eur/m2'})\n",
    "houses.head(1)\n"
   ]
  },
  {
   "cell_type": "markdown",
   "id": "450f9c1b",
   "metadata": {},
   "source": [
    "#### Calculate the price/m2"
   ]
  },
  {
   "cell_type": "code",
   "execution_count": 262,
   "id": "6e409bda",
   "metadata": {},
   "outputs": [],
   "source": [
    "houses['Eur/m2'] = (houses['Price'])/(houses['Living area'])\n"
   ]
  },
  {
   "cell_type": "code",
   "execution_count": 263,
   "id": "900fb9ca",
   "metadata": {},
   "outputs": [
    {
     "data": {
      "text/html": [
       "<div>\n",
       "<style scoped>\n",
       "    .dataframe tbody tr th:only-of-type {\n",
       "        vertical-align: middle;\n",
       "    }\n",
       "\n",
       "    .dataframe tbody tr th {\n",
       "        vertical-align: top;\n",
       "    }\n",
       "\n",
       "    .dataframe thead th {\n",
       "        text-align: right;\n",
       "    }\n",
       "</style>\n",
       "<table border=\"1\" class=\"dataframe\">\n",
       "  <thead>\n",
       "    <tr style=\"text-align: right;\">\n",
       "      <th></th>\n",
       "      <th>Unnamed: 0</th>\n",
       "      <th>Immoweb ID</th>\n",
       "      <th>Property type</th>\n",
       "      <th>property sub-type</th>\n",
       "      <th>Price</th>\n",
       "      <th>Eur/m2</th>\n",
       "      <th>Price HTML</th>\n",
       "      <th>Post code</th>\n",
       "      <th>Available as of</th>\n",
       "      <th>Property name</th>\n",
       "      <th>...</th>\n",
       "      <th>Professional space surface</th>\n",
       "      <th>Land is facing street</th>\n",
       "      <th>Flat land</th>\n",
       "      <th>Current monthly revenue</th>\n",
       "      <th>Wooded land</th>\n",
       "      <th>Plot at rear</th>\n",
       "      <th>Percentage rented</th>\n",
       "      <th>EPC description</th>\n",
       "      <th>Venue of the sale</th>\n",
       "      <th>Date of the sale</th>\n",
       "    </tr>\n",
       "  </thead>\n",
       "  <tbody>\n",
       "    <tr>\n",
       "      <th>0</th>\n",
       "      <td>0</td>\n",
       "      <td>9739983</td>\n",
       "      <td>APARTMENT</td>\n",
       "      <td>PENTHOUSE</td>\n",
       "      <td>476000</td>\n",
       "      <td>3051.282051</td>\n",
       "      <td>\\n€476,000 476000€\\n</td>\n",
       "      <td>1130</td>\n",
       "      <td>After signing the deed</td>\n",
       "      <td>MIDDLE WAY</td>\n",
       "      <td>...</td>\n",
       "      <td>NaN</td>\n",
       "      <td>NaN</td>\n",
       "      <td>NaN</td>\n",
       "      <td>NaN</td>\n",
       "      <td>NaN</td>\n",
       "      <td>NaN</td>\n",
       "      <td>NaN</td>\n",
       "      <td>NaN</td>\n",
       "      <td>NaN</td>\n",
       "      <td>NaN</td>\n",
       "    </tr>\n",
       "  </tbody>\n",
       "</table>\n",
       "<p>1 rows × 113 columns</p>\n",
       "</div>"
      ],
      "text/plain": [
       "   Unnamed: 0  Immoweb ID Property type property sub-type   Price  \\\n",
       "0           0     9739983     APARTMENT         PENTHOUSE  476000   \n",
       "\n",
       "        Eur/m2            Price HTML  Post code         Available as of  \\\n",
       "0  3051.282051  \\n€476,000 476000€\\n       1130  After signing the deed   \n",
       "\n",
       "  Property name  ...  Professional space surface  Land is facing street  \\\n",
       "0    MIDDLE WAY  ...                         NaN                    NaN   \n",
       "\n",
       "   Flat land Current monthly revenue  Wooded land Plot at rear  \\\n",
       "0        NaN                     NaN          NaN          NaN   \n",
       "\n",
       "   Percentage rented  EPC description Venue of the sale Date of the sale  \n",
       "0                NaN              NaN               NaN              NaN  \n",
       "\n",
       "[1 rows x 113 columns]"
      ]
     },
     "execution_count": 263,
     "metadata": {},
     "output_type": "execute_result"
    }
   ],
   "source": [
    "houses.head(1)"
   ]
  },
  {
   "cell_type": "markdown",
   "id": "cf91a681",
   "metadata": {},
   "source": [
    "## 4. The Building Condition"
   ]
  },
  {
   "cell_type": "code",
   "execution_count": 264,
   "id": "714405dd",
   "metadata": {
    "scrolled": true
   },
   "outputs": [
    {
     "data": {
      "text/html": [
       "<div>\n",
       "<style scoped>\n",
       "    .dataframe tbody tr th:only-of-type {\n",
       "        vertical-align: middle;\n",
       "    }\n",
       "\n",
       "    .dataframe tbody tr th {\n",
       "        vertical-align: top;\n",
       "    }\n",
       "\n",
       "    .dataframe thead th {\n",
       "        text-align: right;\n",
       "    }\n",
       "</style>\n",
       "<table border=\"1\" class=\"dataframe\">\n",
       "  <thead>\n",
       "    <tr style=\"text-align: right;\">\n",
       "      <th></th>\n",
       "      <th>Unnamed: 0</th>\n",
       "    </tr>\n",
       "    <tr>\n",
       "      <th>Building condition</th>\n",
       "      <th></th>\n",
       "    </tr>\n",
       "  </thead>\n",
       "  <tbody>\n",
       "    <tr>\n",
       "      <th>As new</th>\n",
       "      <td>3526</td>\n",
       "    </tr>\n",
       "    <tr>\n",
       "      <th>Good</th>\n",
       "      <td>3114</td>\n",
       "    </tr>\n",
       "    <tr>\n",
       "      <th>Just renovated</th>\n",
       "      <td>538</td>\n",
       "    </tr>\n",
       "    <tr>\n",
       "      <th>To be done up</th>\n",
       "      <td>743</td>\n",
       "    </tr>\n",
       "    <tr>\n",
       "      <th>To renovate</th>\n",
       "      <td>755</td>\n",
       "    </tr>\n",
       "    <tr>\n",
       "      <th>To restore</th>\n",
       "      <td>71</td>\n",
       "    </tr>\n",
       "  </tbody>\n",
       "</table>\n",
       "</div>"
      ],
      "text/plain": [
       "                    Unnamed: 0\n",
       "Building condition            \n",
       "As new                    3526\n",
       "Good                      3114\n",
       "Just renovated             538\n",
       "To be done up              743\n",
       "To renovate                755\n",
       "To restore                  71"
      ]
     },
     "execution_count": 264,
     "metadata": {},
     "output_type": "execute_result"
    }
   ],
   "source": [
    "houses.groupby(['Building condition']).count().iloc[:,:1]\n"
   ]
  },
  {
   "cell_type": "code",
   "execution_count": 265,
   "id": "d859ea0c",
   "metadata": {},
   "outputs": [],
   "source": [
    "houses = houses.loc[pd.notna(houses['Building condition'])]"
   ]
  },
  {
   "cell_type": "code",
   "execution_count": 266,
   "id": "74082031",
   "metadata": {},
   "outputs": [
    {
     "data": {
      "text/plain": [
       "0"
      ]
     },
     "execution_count": 266,
     "metadata": {},
     "output_type": "execute_result"
    }
   ],
   "source": [
    "houses['Immoweb ID'].loc[pd.isna(houses['Building condition'])].count()"
   ]
  },
  {
   "cell_type": "code",
   "execution_count": 267,
   "id": "dcff6b10",
   "metadata": {},
   "outputs": [],
   "source": [
    "def building_condition_conv(value : str) -> int:\n",
    "    if pd.isna(value) or pd.isnull(value):\n",
    "        return value\n",
    "    elif value == 'As new' or value == 'Just renovated':\n",
    "        return 4\n",
    "    elif value == 'Good':\n",
    "        return 3\n",
    "    elif value == 'To be done up':\n",
    "        return 2\n",
    "    elif value == 'To renovate':\n",
    "        return 1\n",
    "    elif value == 'To restore':\n",
    "        return 0\n",
    "    else:\n",
    "        return value\n",
    "    \n",
    "houses['Building condition'] = houses['Building condition'].apply(building_condition_conv)\n",
    "\n"
   ]
  },
  {
   "cell_type": "code",
   "execution_count": 268,
   "id": "aac0ce99",
   "metadata": {},
   "outputs": [
    {
     "data": {
      "text/plain": [
       "Unnamed: 0           8747\n",
       "Immoweb ID           8747\n",
       "Property type        8747\n",
       "property sub-type    8747\n",
       "Price                8747\n",
       "                     ... \n",
       "Plot at rear          627\n",
       "Percentage rented      68\n",
       "EPC description         7\n",
       "Venue of the sale       0\n",
       "Date of the sale        0\n",
       "Length: 113, dtype: int64"
      ]
     },
     "execution_count": 268,
     "metadata": {},
     "output_type": "execute_result"
    }
   ],
   "source": [
    "houses.count()\n",
    "\n"
   ]
  },
  {
   "cell_type": "markdown",
   "id": "1d685fa7",
   "metadata": {},
   "source": [
    "## Remove the duplicates (Jari)"
   ]
  },
  {
   "cell_type": "markdown",
   "id": "dadbcbca",
   "metadata": {},
   "source": [
    "#### It seems that there are no more duplicates after fixing the price issues and removing the properties without any living area information."
   ]
  },
  {
   "cell_type": "code",
   "execution_count": 269,
   "id": "1ecdf730",
   "metadata": {},
   "outputs": [
    {
     "data": {
      "text/plain": [
       "8747"
      ]
     },
     "execution_count": 269,
     "metadata": {},
     "output_type": "execute_result"
    }
   ],
   "source": [
    "houses['Immoweb ID'].count() #11446 rows, 25 cols\n",
    "\n"
   ]
  },
  {
   "cell_type": "code",
   "execution_count": 270,
   "id": "f3f77229",
   "metadata": {},
   "outputs": [
    {
     "data": {
      "text/plain": [
       "8747"
      ]
     },
     "execution_count": 270,
     "metadata": {},
     "output_type": "execute_result"
    }
   ],
   "source": [
    "houses.drop_duplicates(subset=['Immoweb ID']) # No duplicates any more!\n",
    "houses['Immoweb ID'].count() #11446 rows, 25 cols"
   ]
  },
  {
   "cell_type": "markdown",
   "id": "08de927d",
   "metadata": {},
   "source": [
    "## EXTRA (Mission objectives: be able to think outside the box.)"
   ]
  },
  {
   "cell_type": "markdown",
   "id": "9d5edabe",
   "metadata": {},
   "source": [
    "Here is the idea: let's use as many columns as possible. For example, if a property has 'swimming pool' it could get 10 points. It an apartment has a elevator it makes for ex. 5 points and so on. All of these points will be sum up and normilized (scale would be from 0 to 5)\n",
    "\n",
    "PROs\n",
    "+ Coverage is high (100%)\n",
    "+ We could get some benefit from the values like garden, terrace, full eguip kitchen and so on\n",
    "+ Out of Box solution (that was requested in the task)\n",
    "\n",
    "\n",
    "CONs\n",
    "- some work to do (convert all the columns that will be used)\n",
    "\n"
   ]
  },
  {
   "cell_type": "markdown",
   "id": "16f7e439",
   "metadata": {},
   "source": [
    "## 5. Swimming pool"
   ]
  },
  {
   "cell_type": "code",
   "execution_count": 271,
   "id": "00869de0",
   "metadata": {},
   "outputs": [
    {
     "data": {
      "text/html": [
       "<div>\n",
       "<style scoped>\n",
       "    .dataframe tbody tr th:only-of-type {\n",
       "        vertical-align: middle;\n",
       "    }\n",
       "\n",
       "    .dataframe tbody tr th {\n",
       "        vertical-align: top;\n",
       "    }\n",
       "\n",
       "    .dataframe thead th {\n",
       "        text-align: right;\n",
       "    }\n",
       "</style>\n",
       "<table border=\"1\" class=\"dataframe\">\n",
       "  <thead>\n",
       "    <tr style=\"text-align: right;\">\n",
       "      <th></th>\n",
       "      <th>Unnamed: 0</th>\n",
       "    </tr>\n",
       "    <tr>\n",
       "      <th>Swimming pool</th>\n",
       "      <th></th>\n",
       "    </tr>\n",
       "  </thead>\n",
       "  <tbody>\n",
       "    <tr>\n",
       "      <th>No</th>\n",
       "      <td>3040</td>\n",
       "    </tr>\n",
       "    <tr>\n",
       "      <th>Yes</th>\n",
       "      <td>420</td>\n",
       "    </tr>\n",
       "  </tbody>\n",
       "</table>\n",
       "</div>"
      ],
      "text/plain": [
       "               Unnamed: 0\n",
       "Swimming pool            \n",
       "No                   3040\n",
       "Yes                   420"
      ]
     },
     "execution_count": 271,
     "metadata": {},
     "output_type": "execute_result"
    }
   ],
   "source": [
    "houses.groupby(['Swimming pool']).count().iloc[:,:1]\n",
    "\n"
   ]
  },
  {
   "cell_type": "code",
   "execution_count": 272,
   "id": "13724851",
   "metadata": {},
   "outputs": [
    {
     "data": {
      "text/plain": [
       "5287"
      ]
     },
     "execution_count": 272,
     "metadata": {},
     "output_type": "execute_result"
    }
   ],
   "source": [
    "houses['Immoweb ID'].loc[pd.isna(houses['Swimming pool'])].count()\n"
   ]
  },
  {
   "cell_type": "markdown",
   "id": "dadb8364",
   "metadata": {},
   "source": [
    "A Swimming pool 10 points!   No: 3568, Yes: 502, NaN: 7376"
   ]
  },
  {
   "cell_type": "code",
   "execution_count": 273,
   "id": "962f0e6a",
   "metadata": {},
   "outputs": [],
   "source": [
    "def swimming_pool(value: str) -> int:\n",
    "    if pd.isna(value) or pd.isnull(value):\n",
    "        return value\n",
    "    elif value == 'Yes' or value == '10.0': #ten is there for the case that this code is re-run\n",
    "        return 10\n",
    "    elif value == 'No' or value == '0.0': #ten is there for the case that this code is re-run\n",
    "        return 0\n",
    "    else:\n",
    "        return 3 \n",
    "\n",
    "\n",
    "houses['Swimming pool'] = houses['Swimming pool'].apply(swimming_pool)"
   ]
  },
  {
   "cell_type": "code",
   "execution_count": 274,
   "id": "0b4f0432",
   "metadata": {},
   "outputs": [
    {
     "data": {
      "text/html": [
       "<div>\n",
       "<style scoped>\n",
       "    .dataframe tbody tr th:only-of-type {\n",
       "        vertical-align: middle;\n",
       "    }\n",
       "\n",
       "    .dataframe tbody tr th {\n",
       "        vertical-align: top;\n",
       "    }\n",
       "\n",
       "    .dataframe thead th {\n",
       "        text-align: right;\n",
       "    }\n",
       "</style>\n",
       "<table border=\"1\" class=\"dataframe\">\n",
       "  <thead>\n",
       "    <tr style=\"text-align: right;\">\n",
       "      <th></th>\n",
       "      <th>Unnamed: 0</th>\n",
       "      <th>Immoweb ID</th>\n",
       "      <th>Property type</th>\n",
       "      <th>property sub-type</th>\n",
       "      <th>Price</th>\n",
       "      <th>Eur/m2</th>\n",
       "      <th>Price HTML</th>\n",
       "      <th>Post code</th>\n",
       "      <th>Available as of</th>\n",
       "      <th>Property name</th>\n",
       "      <th>...</th>\n",
       "      <th>Professional space surface</th>\n",
       "      <th>Land is facing street</th>\n",
       "      <th>Flat land</th>\n",
       "      <th>Current monthly revenue</th>\n",
       "      <th>Wooded land</th>\n",
       "      <th>Plot at rear</th>\n",
       "      <th>Percentage rented</th>\n",
       "      <th>EPC description</th>\n",
       "      <th>Venue of the sale</th>\n",
       "      <th>Date of the sale</th>\n",
       "    </tr>\n",
       "  </thead>\n",
       "  <tbody>\n",
       "    <tr>\n",
       "      <th>0</th>\n",
       "      <td>0</td>\n",
       "      <td>9739983</td>\n",
       "      <td>APARTMENT</td>\n",
       "      <td>PENTHOUSE</td>\n",
       "      <td>476000</td>\n",
       "      <td>3051.282051</td>\n",
       "      <td>\\n€476,000 476000€\\n</td>\n",
       "      <td>1130</td>\n",
       "      <td>After signing the deed</td>\n",
       "      <td>MIDDLE WAY</td>\n",
       "      <td>...</td>\n",
       "      <td>NaN</td>\n",
       "      <td>NaN</td>\n",
       "      <td>NaN</td>\n",
       "      <td>NaN</td>\n",
       "      <td>NaN</td>\n",
       "      <td>NaN</td>\n",
       "      <td>NaN</td>\n",
       "      <td>NaN</td>\n",
       "      <td>NaN</td>\n",
       "      <td>NaN</td>\n",
       "    </tr>\n",
       "  </tbody>\n",
       "</table>\n",
       "<p>1 rows × 113 columns</p>\n",
       "</div>"
      ],
      "text/plain": [
       "   Unnamed: 0  Immoweb ID Property type property sub-type   Price  \\\n",
       "0           0     9739983     APARTMENT         PENTHOUSE  476000   \n",
       "\n",
       "        Eur/m2            Price HTML  Post code         Available as of  \\\n",
       "0  3051.282051  \\n€476,000 476000€\\n       1130  After signing the deed   \n",
       "\n",
       "  Property name  ...  Professional space surface  Land is facing street  \\\n",
       "0    MIDDLE WAY  ...                         NaN                    NaN   \n",
       "\n",
       "   Flat land  Current monthly revenue  Wooded land Plot at rear  \\\n",
       "0        NaN                      NaN          NaN          NaN   \n",
       "\n",
       "   Percentage rented  EPC description Venue of the sale Date of the sale  \n",
       "0                NaN              NaN               NaN              NaN  \n",
       "\n",
       "[1 rows x 113 columns]"
      ]
     },
     "execution_count": 274,
     "metadata": {},
     "output_type": "execute_result"
    }
   ],
   "source": [
    "houses.head(1)"
   ]
  },
  {
   "cell_type": "markdown",
   "id": "629e3ce6",
   "metadata": {},
   "source": [
    "#### Let's change the type to numeric (there are some NaN's as well)"
   ]
  },
  {
   "cell_type": "code",
   "execution_count": 275,
   "id": "cb4fa656",
   "metadata": {},
   "outputs": [
    {
     "data": {
      "text/plain": [
       "0         NaN\n",
       "3         0.0\n",
       "4         0.0\n",
       "5         NaN\n",
       "6         NaN\n",
       "         ... \n",
       "14592     0.0\n",
       "14609    10.0\n",
       "14612     NaN\n",
       "14614     NaN\n",
       "14615     NaN\n",
       "Name: Swimming pool, Length: 8747, dtype: float64"
      ]
     },
     "execution_count": 275,
     "metadata": {},
     "output_type": "execute_result"
    }
   ],
   "source": [
    "pd.to_numeric(houses['Swimming pool'], errors = 'coerce')\n"
   ]
  },
  {
   "cell_type": "code",
   "execution_count": 276,
   "id": "7059719d",
   "metadata": {},
   "outputs": [
    {
     "data": {
      "text/html": [
       "<div>\n",
       "<style scoped>\n",
       "    .dataframe tbody tr th:only-of-type {\n",
       "        vertical-align: middle;\n",
       "    }\n",
       "\n",
       "    .dataframe tbody tr th {\n",
       "        vertical-align: top;\n",
       "    }\n",
       "\n",
       "    .dataframe thead th {\n",
       "        text-align: right;\n",
       "    }\n",
       "</style>\n",
       "<table border=\"1\" class=\"dataframe\">\n",
       "  <thead>\n",
       "    <tr style=\"text-align: right;\">\n",
       "      <th></th>\n",
       "      <th>Unnamed: 0</th>\n",
       "    </tr>\n",
       "    <tr>\n",
       "      <th>Swimming pool</th>\n",
       "      <th></th>\n",
       "    </tr>\n",
       "  </thead>\n",
       "  <tbody>\n",
       "    <tr>\n",
       "      <th>0.0</th>\n",
       "      <td>3040</td>\n",
       "    </tr>\n",
       "    <tr>\n",
       "      <th>10.0</th>\n",
       "      <td>420</td>\n",
       "    </tr>\n",
       "  </tbody>\n",
       "</table>\n",
       "</div>"
      ],
      "text/plain": [
       "               Unnamed: 0\n",
       "Swimming pool            \n",
       "0.0                  3040\n",
       "10.0                  420"
      ]
     },
     "execution_count": 276,
     "metadata": {},
     "output_type": "execute_result"
    }
   ],
   "source": [
    "houses.groupby(['Swimming pool']).count().iloc[:,:1]"
   ]
  },
  {
   "cell_type": "markdown",
   "id": "b4bd6a94",
   "metadata": {},
   "source": [
    "## 6. Kitchen type"
   ]
  },
  {
   "cell_type": "code",
   "execution_count": 277,
   "id": "d89f2909",
   "metadata": {},
   "outputs": [
    {
     "data": {
      "text/html": [
       "<div>\n",
       "<style scoped>\n",
       "    .dataframe tbody tr th:only-of-type {\n",
       "        vertical-align: middle;\n",
       "    }\n",
       "\n",
       "    .dataframe tbody tr th {\n",
       "        vertical-align: top;\n",
       "    }\n",
       "\n",
       "    .dataframe thead th {\n",
       "        text-align: right;\n",
       "    }\n",
       "</style>\n",
       "<table border=\"1\" class=\"dataframe\">\n",
       "  <thead>\n",
       "    <tr style=\"text-align: right;\">\n",
       "      <th></th>\n",
       "      <th>Unnamed: 0</th>\n",
       "    </tr>\n",
       "    <tr>\n",
       "      <th>Kitchen type</th>\n",
       "      <th></th>\n",
       "    </tr>\n",
       "  </thead>\n",
       "  <tbody>\n",
       "    <tr>\n",
       "      <th>Hyper equipped</th>\n",
       "      <td>1509</td>\n",
       "    </tr>\n",
       "    <tr>\n",
       "      <th>Installed</th>\n",
       "      <td>2910</td>\n",
       "    </tr>\n",
       "    <tr>\n",
       "      <th>Not installed</th>\n",
       "      <td>333</td>\n",
       "    </tr>\n",
       "    <tr>\n",
       "      <th>Semi equipped</th>\n",
       "      <td>768</td>\n",
       "    </tr>\n",
       "    <tr>\n",
       "      <th>USA hyper equipped</th>\n",
       "      <td>703</td>\n",
       "    </tr>\n",
       "    <tr>\n",
       "      <th>USA installed</th>\n",
       "      <td>269</td>\n",
       "    </tr>\n",
       "    <tr>\n",
       "      <th>USA semi equipped</th>\n",
       "      <td>55</td>\n",
       "    </tr>\n",
       "    <tr>\n",
       "      <th>USA uninstalled</th>\n",
       "      <td>3</td>\n",
       "    </tr>\n",
       "  </tbody>\n",
       "</table>\n",
       "</div>"
      ],
      "text/plain": [
       "                    Unnamed: 0\n",
       "Kitchen type                  \n",
       "Hyper equipped            1509\n",
       "Installed                 2910\n",
       "Not installed              333\n",
       "Semi equipped              768\n",
       "USA hyper equipped         703\n",
       "USA installed              269\n",
       "USA semi equipped           55\n",
       "USA uninstalled              3"
      ]
     },
     "execution_count": 277,
     "metadata": {},
     "output_type": "execute_result"
    }
   ],
   "source": [
    "houses.groupby(['Kitchen type']).count().iloc[:,:1]\n"
   ]
  },
  {
   "cell_type": "code",
   "execution_count": 278,
   "id": "7119191d",
   "metadata": {},
   "outputs": [
    {
     "data": {
      "text/plain": [
       "2197"
      ]
     },
     "execution_count": 278,
     "metadata": {},
     "output_type": "execute_result"
    }
   ],
   "source": [
    "houses['Immoweb ID'].loc[pd.isna(houses['Kitchen type'])].count()\n"
   ]
  },
  {
   "cell_type": "markdown",
   "id": "6c14b399",
   "metadata": {},
   "source": [
    "Kitchen type max 15 points!  NaN: 3400"
   ]
  },
  {
   "cell_type": "code",
   "execution_count": 279,
   "id": "e8081ee8",
   "metadata": {},
   "outputs": [],
   "source": [
    "def kitchen_type(value: str) -> int:\n",
    "    if pd.isna(value) or pd.isnull(value): \n",
    "        return value  #Keep NaN as Nan\n",
    "    elif value == 'Hyper equipped' or value == 'USA hyper equipped' or value == 10:\n",
    "        return 10\n",
    "    elif value == 'Semi equipped' or value == 'USA semi equipped' or value == 7:\n",
    "        return 7\n",
    "    elif value == 'Installed' or value == 'USA installed' or value == 4:\n",
    "        return 4\n",
    "    elif value == 'Not installed'or value == 'USA uninstalled' or value == 0:\n",
    "        return 0\n",
    "    else:\n",
    "        return 3 #just to notice the error\n",
    "\n",
    "\n",
    "houses['Kitchen type'] = houses['Kitchen type'].apply(kitchen_type)"
   ]
  },
  {
   "cell_type": "markdown",
   "id": "538e20be",
   "metadata": {},
   "source": [
    "#### Let's change the type to numeric (there are some NaN's as well)"
   ]
  },
  {
   "cell_type": "code",
   "execution_count": 280,
   "id": "99fbec32",
   "metadata": {},
   "outputs": [
    {
     "data": {
      "text/plain": [
       "0        10.0\n",
       "3         4.0\n",
       "4        10.0\n",
       "5        10.0\n",
       "6         7.0\n",
       "         ... \n",
       "14592    10.0\n",
       "14609     NaN\n",
       "14612     4.0\n",
       "14614     NaN\n",
       "14615     NaN\n",
       "Name: Kitchen type, Length: 8747, dtype: float64"
      ]
     },
     "execution_count": 280,
     "metadata": {},
     "output_type": "execute_result"
    }
   ],
   "source": [
    "pd.to_numeric(houses['Kitchen type'], errors = 'coerce')\n"
   ]
  },
  {
   "cell_type": "code",
   "execution_count": 281,
   "id": "1068e5a8",
   "metadata": {},
   "outputs": [
    {
     "data": {
      "text/html": [
       "<div>\n",
       "<style scoped>\n",
       "    .dataframe tbody tr th:only-of-type {\n",
       "        vertical-align: middle;\n",
       "    }\n",
       "\n",
       "    .dataframe tbody tr th {\n",
       "        vertical-align: top;\n",
       "    }\n",
       "\n",
       "    .dataframe thead th {\n",
       "        text-align: right;\n",
       "    }\n",
       "</style>\n",
       "<table border=\"1\" class=\"dataframe\">\n",
       "  <thead>\n",
       "    <tr style=\"text-align: right;\">\n",
       "      <th></th>\n",
       "      <th>Unnamed: 0</th>\n",
       "    </tr>\n",
       "    <tr>\n",
       "      <th>Kitchen type</th>\n",
       "      <th></th>\n",
       "    </tr>\n",
       "  </thead>\n",
       "  <tbody>\n",
       "    <tr>\n",
       "      <th>0.0</th>\n",
       "      <td>336</td>\n",
       "    </tr>\n",
       "    <tr>\n",
       "      <th>4.0</th>\n",
       "      <td>3179</td>\n",
       "    </tr>\n",
       "    <tr>\n",
       "      <th>7.0</th>\n",
       "      <td>823</td>\n",
       "    </tr>\n",
       "    <tr>\n",
       "      <th>10.0</th>\n",
       "      <td>2212</td>\n",
       "    </tr>\n",
       "  </tbody>\n",
       "</table>\n",
       "</div>"
      ],
      "text/plain": [
       "              Unnamed: 0\n",
       "Kitchen type            \n",
       "0.0                  336\n",
       "4.0                 3179\n",
       "7.0                  823\n",
       "10.0                2212"
      ]
     },
     "execution_count": 281,
     "metadata": {},
     "output_type": "execute_result"
    }
   ],
   "source": [
    "houses.groupby(['Kitchen type']).count().iloc[:,:1]\n",
    "\n"
   ]
  },
  {
   "cell_type": "code",
   "execution_count": 282,
   "id": "78e4b273",
   "metadata": {},
   "outputs": [
    {
     "data": {
      "text/plain": [
       "2197"
      ]
     },
     "execution_count": 282,
     "metadata": {},
     "output_type": "execute_result"
    }
   ],
   "source": [
    "houses['Immoweb ID'].loc[pd.isna(houses['Kitchen type'])].count()"
   ]
  },
  {
   "cell_type": "markdown",
   "id": "d9dfd53e",
   "metadata": {},
   "source": [
    "## 7. Double glazing\n",
    "\n",
    "'Double glazing', only 2398 empty rows"
   ]
  },
  {
   "cell_type": "code",
   "execution_count": 283,
   "id": "2faa8217",
   "metadata": {},
   "outputs": [
    {
     "data": {
      "text/html": [
       "<div>\n",
       "<style scoped>\n",
       "    .dataframe tbody tr th:only-of-type {\n",
       "        vertical-align: middle;\n",
       "    }\n",
       "\n",
       "    .dataframe tbody tr th {\n",
       "        vertical-align: top;\n",
       "    }\n",
       "\n",
       "    .dataframe thead th {\n",
       "        text-align: right;\n",
       "    }\n",
       "</style>\n",
       "<table border=\"1\" class=\"dataframe\">\n",
       "  <thead>\n",
       "    <tr style=\"text-align: right;\">\n",
       "      <th></th>\n",
       "      <th>Unnamed: 0</th>\n",
       "    </tr>\n",
       "    <tr>\n",
       "      <th>Double glazing</th>\n",
       "      <th></th>\n",
       "    </tr>\n",
       "  </thead>\n",
       "  <tbody>\n",
       "    <tr>\n",
       "      <th>No</th>\n",
       "      <td>497</td>\n",
       "    </tr>\n",
       "    <tr>\n",
       "      <th>Yes</th>\n",
       "      <td>6434</td>\n",
       "    </tr>\n",
       "  </tbody>\n",
       "</table>\n",
       "</div>"
      ],
      "text/plain": [
       "                Unnamed: 0\n",
       "Double glazing            \n",
       "No                     497\n",
       "Yes                   6434"
      ]
     },
     "execution_count": 283,
     "metadata": {},
     "output_type": "execute_result"
    }
   ],
   "source": [
    "houses.groupby(['Double glazing']).count().iloc[:,:1]"
   ]
  },
  {
   "cell_type": "code",
   "execution_count": 284,
   "id": "3309f85e",
   "metadata": {},
   "outputs": [
    {
     "data": {
      "text/plain": [
       "0"
      ]
     },
     "execution_count": 284,
     "metadata": {},
     "output_type": "execute_result"
    }
   ],
   "source": [
    "#Empty rows\n",
    "houses['Immoweb ID'].loc[pd.isna(houses['Energy class'])].count()\n"
   ]
  },
  {
   "cell_type": "markdown",
   "id": "9e4e9ad6",
   "metadata": {},
   "source": [
    "#### Defining the value from zero to ten\n"
   ]
  },
  {
   "cell_type": "code",
   "execution_count": 285,
   "id": "5c8715a4",
   "metadata": {},
   "outputs": [],
   "source": [
    "def double_glazing(value: str) -> int:\n",
    "    if pd.isna(value) or pd.isnull(value):\n",
    "        return value\n",
    "    elif value == 'No':\n",
    "        return 0\n",
    "    elif value == 'Yes':\n",
    "        return 2\n",
    "    else:\n",
    "        return value\n",
    "\n",
    "houses['Double glazing'] = houses['Double glazing'].apply(double_glazing)"
   ]
  },
  {
   "cell_type": "markdown",
   "id": "2237292a",
   "metadata": {},
   "source": [
    "## 8. Surface of the plot "
   ]
  },
  {
   "cell_type": "markdown",
   "id": "94ccf2fc",
   "metadata": {},
   "source": [
    "NO TOO FEW ROWs.     'CO₂ emission' - Not specidied 9023\n",
    "\n",
    "DONE                 'Energy class' - Not specified 3026 <=======\n",
    "\n",
    "Enegy class covers   'Yearly theoretical total energy consumption'- Not specified 9333\n",
    "\n",
    "Enegy class covers   'Primary energy consumption' - Not specified 3155\n",
    "\n",
    "DONE                 'Double glazing' - this is good!! empty : 2398 <======\n",
    "\n",
    "????                 'Construction year' - empty rows: 4294\n",
    "\n",
    "UNDER WORK            'Surface of the plot' 5699 empty rows\n",
    "\n",
    "???                   'Gas, water & electricity' 7074 empty rows, 1123 has none no water or electricity???\n",
    "\n",
    "DONE:                  Swimming pool 502 values only\n"
   ]
  },
  {
   "cell_type": "code",
   "execution_count": 286,
   "id": "328f8277",
   "metadata": {},
   "outputs": [
    {
     "data": {
      "text/plain": [
       "4163"
      ]
     },
     "execution_count": 286,
     "metadata": {},
     "output_type": "execute_result"
    }
   ],
   "source": [
    "houses['Immoweb ID'].loc[pd.isna(houses['Surface of the plot'])].count()"
   ]
  },
  {
   "cell_type": "code",
   "execution_count": 287,
   "id": "1b8bceab",
   "metadata": {},
   "outputs": [
    {
     "data": {
      "text/plain": [
       "dtype('float64')"
      ]
     },
     "execution_count": 287,
     "metadata": {},
     "output_type": "execute_result"
    }
   ],
   "source": [
    "houses['Surface of the plot'].dtypes"
   ]
  },
  {
   "cell_type": "code",
   "execution_count": 288,
   "id": "69c922ae",
   "metadata": {},
   "outputs": [
    {
     "data": {
      "text/html": [
       "<div>\n",
       "<style scoped>\n",
       "    .dataframe tbody tr th:only-of-type {\n",
       "        vertical-align: middle;\n",
       "    }\n",
       "\n",
       "    .dataframe tbody tr th {\n",
       "        vertical-align: top;\n",
       "    }\n",
       "\n",
       "    .dataframe thead th {\n",
       "        text-align: right;\n",
       "    }\n",
       "</style>\n",
       "<table border=\"1\" class=\"dataframe\">\n",
       "  <thead>\n",
       "    <tr style=\"text-align: right;\">\n",
       "      <th></th>\n",
       "      <th>Unnamed: 0</th>\n",
       "    </tr>\n",
       "    <tr>\n",
       "      <th>Surface of the plot</th>\n",
       "      <th></th>\n",
       "    </tr>\n",
       "  </thead>\n",
       "  <tbody>\n",
       "    <tr>\n",
       "      <th>2.0</th>\n",
       "      <td>1</td>\n",
       "    </tr>\n",
       "    <tr>\n",
       "      <th>5.0</th>\n",
       "      <td>2</td>\n",
       "    </tr>\n",
       "    <tr>\n",
       "      <th>6.0</th>\n",
       "      <td>2</td>\n",
       "    </tr>\n",
       "    <tr>\n",
       "      <th>7.0</th>\n",
       "      <td>1</td>\n",
       "    </tr>\n",
       "    <tr>\n",
       "      <th>8.0</th>\n",
       "      <td>1</td>\n",
       "    </tr>\n",
       "    <tr>\n",
       "      <th>...</th>\n",
       "      <td>...</td>\n",
       "    </tr>\n",
       "    <tr>\n",
       "      <th>226952.0</th>\n",
       "      <td>1</td>\n",
       "    </tr>\n",
       "    <tr>\n",
       "      <th>229545.0</th>\n",
       "      <td>1</td>\n",
       "    </tr>\n",
       "    <tr>\n",
       "      <th>250000.0</th>\n",
       "      <td>1</td>\n",
       "    </tr>\n",
       "    <tr>\n",
       "      <th>500000.0</th>\n",
       "      <td>2</td>\n",
       "    </tr>\n",
       "    <tr>\n",
       "      <th>580608.0</th>\n",
       "      <td>1</td>\n",
       "    </tr>\n",
       "  </tbody>\n",
       "</table>\n",
       "<p>1946 rows × 1 columns</p>\n",
       "</div>"
      ],
      "text/plain": [
       "                     Unnamed: 0\n",
       "Surface of the plot            \n",
       "2.0                           1\n",
       "5.0                           2\n",
       "6.0                           2\n",
       "7.0                           1\n",
       "8.0                           1\n",
       "...                         ...\n",
       "226952.0                      1\n",
       "229545.0                      1\n",
       "250000.0                      1\n",
       "500000.0                      2\n",
       "580608.0                      1\n",
       "\n",
       "[1946 rows x 1 columns]"
      ]
     },
     "execution_count": 288,
     "metadata": {},
     "output_type": "execute_result"
    }
   ],
   "source": [
    "houses.groupby(['Surface of the plot']).count().iloc[:,:1]\n",
    "\n"
   ]
  },
  {
   "cell_type": "code",
   "execution_count": 289,
   "id": "e8546114",
   "metadata": {},
   "outputs": [],
   "source": [
    "# min and max values for Extra\n",
    "#pd.to_numeric(houses['Surface of the plot'], errors = 'coerce')\n",
    "#a, b = 0, 5\n",
    "\n",
    "\n",
    "\n",
    "\n",
    "\n",
    "def surface_of_the_plot(value: str) -> int:\n",
    "    if pd.isna(value) or pd.isnull(value):\n",
    "        return value\n",
    "    else:\n",
    "        return float(value)\n",
    "\n",
    "houses['Surface of the plot'] = houses['Surface of the plot'].apply(surface_of_the_plot)\n",
    "\n",
    "# min and max values for 'Surface of the plot'\n",
    "a, b = 0, 30\n",
    "x, y = houses['Surface of the plot'].min(), houses['Surface of the plot'].max()\n",
    "houses['Surface of the plot'] = (houses['Surface of the plot'] - x)/(y - x) * (b - a) + a\n"
   ]
  },
  {
   "cell_type": "markdown",
   "id": "0e71cf4b",
   "metadata": {},
   "source": [
    "## 9. Energy"
   ]
  },
  {
   "cell_type": "code",
   "execution_count": 290,
   "id": "c2474cd4",
   "metadata": {},
   "outputs": [
    {
     "data": {
      "text/plain": [
       "0                    B\n",
       "3                    D\n",
       "4                    C\n",
       "5                    C\n",
       "6                    G\n",
       "             ...      \n",
       "14592                A\n",
       "14609    Not specified\n",
       "14612    Not specified\n",
       "14614    Not specified\n",
       "14615    Not specified\n",
       "Name: Energy class, Length: 8747, dtype: object"
      ]
     },
     "execution_count": 290,
     "metadata": {},
     "output_type": "execute_result"
    }
   ],
   "source": [
    "houses['Energy class']"
   ]
  },
  {
   "cell_type": "code",
   "execution_count": 291,
   "id": "00a9b45d",
   "metadata": {
    "scrolled": false
   },
   "outputs": [
    {
     "data": {
      "text/html": [
       "<div>\n",
       "<style scoped>\n",
       "    .dataframe tbody tr th:only-of-type {\n",
       "        vertical-align: middle;\n",
       "    }\n",
       "\n",
       "    .dataframe tbody tr th {\n",
       "        vertical-align: top;\n",
       "    }\n",
       "\n",
       "    .dataframe thead th {\n",
       "        text-align: right;\n",
       "    }\n",
       "</style>\n",
       "<table border=\"1\" class=\"dataframe\">\n",
       "  <thead>\n",
       "    <tr style=\"text-align: right;\">\n",
       "      <th></th>\n",
       "      <th>Unnamed: 0</th>\n",
       "    </tr>\n",
       "    <tr>\n",
       "      <th>Energy class</th>\n",
       "      <th></th>\n",
       "    </tr>\n",
       "  </thead>\n",
       "  <tbody>\n",
       "    <tr>\n",
       "      <th>A</th>\n",
       "      <td>392</td>\n",
       "    </tr>\n",
       "    <tr>\n",
       "      <th>A+</th>\n",
       "      <td>16</td>\n",
       "    </tr>\n",
       "    <tr>\n",
       "      <th>A++</th>\n",
       "      <td>1</td>\n",
       "    </tr>\n",
       "    <tr>\n",
       "      <th>B</th>\n",
       "      <td>1442</td>\n",
       "    </tr>\n",
       "    <tr>\n",
       "      <th>C</th>\n",
       "      <td>1429</td>\n",
       "    </tr>\n",
       "    <tr>\n",
       "      <th>C_B</th>\n",
       "      <td>1</td>\n",
       "    </tr>\n",
       "    <tr>\n",
       "      <th>D</th>\n",
       "      <td>1172</td>\n",
       "    </tr>\n",
       "    <tr>\n",
       "      <th>D_C</th>\n",
       "      <td>3</td>\n",
       "    </tr>\n",
       "    <tr>\n",
       "      <th>E</th>\n",
       "      <td>828</td>\n",
       "    </tr>\n",
       "    <tr>\n",
       "      <th>E_B</th>\n",
       "      <td>1</td>\n",
       "    </tr>\n",
       "    <tr>\n",
       "      <th>F</th>\n",
       "      <td>831</td>\n",
       "    </tr>\n",
       "    <tr>\n",
       "      <th>F_B</th>\n",
       "      <td>1</td>\n",
       "    </tr>\n",
       "    <tr>\n",
       "      <th>F_D</th>\n",
       "      <td>2</td>\n",
       "    </tr>\n",
       "    <tr>\n",
       "      <th>G</th>\n",
       "      <td>719</td>\n",
       "    </tr>\n",
       "    <tr>\n",
       "      <th>G_C</th>\n",
       "      <td>2</td>\n",
       "    </tr>\n",
       "    <tr>\n",
       "      <th>G_D</th>\n",
       "      <td>2</td>\n",
       "    </tr>\n",
       "    <tr>\n",
       "      <th>G_F</th>\n",
       "      <td>2</td>\n",
       "    </tr>\n",
       "    <tr>\n",
       "      <th>Not specified</th>\n",
       "      <td>1903</td>\n",
       "    </tr>\n",
       "  </tbody>\n",
       "</table>\n",
       "</div>"
      ],
      "text/plain": [
       "               Unnamed: 0\n",
       "Energy class             \n",
       "A                     392\n",
       "A+                     16\n",
       "A++                     1\n",
       "B                    1442\n",
       "C                    1429\n",
       "C_B                     1\n",
       "D                    1172\n",
       "D_C                     3\n",
       "E                     828\n",
       "E_B                     1\n",
       "F                     831\n",
       "F_B                     1\n",
       "F_D                     2\n",
       "G                     719\n",
       "G_C                     2\n",
       "G_D                     2\n",
       "G_F                     2\n",
       "Not specified        1903"
      ]
     },
     "execution_count": 291,
     "metadata": {},
     "output_type": "execute_result"
    }
   ],
   "source": [
    "\n",
    "houses.groupby(['Energy class']).count().iloc[:,:1]\n",
    "\n"
   ]
  },
  {
   "cell_type": "markdown",
   "id": "f35bd125",
   "metadata": {},
   "source": [
    "#### Defining values for 'Energy class'. The values could go from 0 to 16, starting from 0 ( as there are 17 different class). Not specidied is Null"
   ]
  },
  {
   "cell_type": "code",
   "execution_count": 292,
   "id": "106bbdde",
   "metadata": {},
   "outputs": [],
   "source": [
    "def energy_class(value: str) -> int:\n",
    "    if pd.isna(value) or pd.isnull(value):\n",
    "        return value\n",
    "    elif value == 'G_F':\n",
    "        return 0\n",
    "    elif value == 'G_D':\n",
    "        return 0.5\n",
    "    elif value == 'G_C':\n",
    "        return 1\n",
    "    elif value == 'G':\n",
    "        return 1.5\n",
    "    elif value == 'F_D':\n",
    "        return 2\n",
    "    elif value == 'F_B':\n",
    "        return 2.5\n",
    "    elif value == 'F':\n",
    "        return 3\n",
    "    elif value == 'E_B':\n",
    "        return 3.5\n",
    "    elif value == 'E':\n",
    "        return 4\n",
    "    elif value == 'D_C':\n",
    "        return 4.5\n",
    "    elif value == 'D':\n",
    "        return 5\n",
    "    elif value == 'C_B':\n",
    "        return 5.5\n",
    "    elif value == 'C':\n",
    "        return 6\n",
    "    elif value == 'B':\n",
    "        return 6.5\n",
    "    elif value == 'A':\n",
    "        return 7\n",
    "    elif value == 'A+':\n",
    "        return 7.5\n",
    "    elif value == 'A++':\n",
    "        return 8\n",
    "    elif value == 'Not specified':\n",
    "        return np.nan\n",
    "    else:\n",
    "        return value\n",
    "\n",
    "houses['Energy class'] = houses['Energy class'].apply(energy_class)\n",
    "\n"
   ]
  },
  {
   "cell_type": "code",
   "execution_count": 293,
   "id": "f872ca58",
   "metadata": {},
   "outputs": [
    {
     "data": {
      "text/plain": [
       "1903"
      ]
     },
     "execution_count": 293,
     "metadata": {},
     "output_type": "execute_result"
    }
   ],
   "source": [
    "houses['Immoweb ID'].loc[pd.isna(houses['Energy class'])].count()\n"
   ]
  },
  {
   "cell_type": "markdown",
   "id": "2a8747e0",
   "metadata": {},
   "source": [
    "\n",
    "\n"
   ]
  },
  {
   "cell_type": "markdown",
   "id": "6d7f40ed",
   "metadata": {},
   "source": [
    "# Calculating EXTRA\n",
    "## 10. EXTRA"
   ]
  },
  {
   "cell_type": "markdown",
   "id": "d00ecd67",
   "metadata": {},
   "source": [
    "Rename column 'Price HTML' to 'Extra' and SUM all the other columns there"
   ]
  },
  {
   "cell_type": "code",
   "execution_count": 294,
   "id": "2d5adb27",
   "metadata": {},
   "outputs": [],
   "source": [
    "houses = houses.rename(columns={'Price HTML': 'Extra'})\n",
    "houses.head(1)\n",
    "\n",
    "#houses['Eur/m2'] = houses['Swimming pool']+ houses['Kitchen type']+ houses['Energy class'] \n",
    "\n",
    "houses['Extra'] = houses['Swimming pool']+ houses['Kitchen type']+ houses['Energy class'] + houses['Double glazing'] + houses['Surface of the plot']\n",
    "\n",
    "# min and max values for Extra\n",
    "a, b = 0, 5\n",
    "x, y = houses['Extra'].min(), houses['Extra'].max()\n",
    "houses['Extra'] = (houses['Extra'] - x)/(y - x) * (b - a) + a\n",
    "\n",
    "\n",
    "\n"
   ]
  },
  {
   "cell_type": "code",
   "execution_count": 295,
   "id": "699227d9",
   "metadata": {},
   "outputs": [
    {
     "data": {
      "text/html": [
       "<div>\n",
       "<style scoped>\n",
       "    .dataframe tbody tr th:only-of-type {\n",
       "        vertical-align: middle;\n",
       "    }\n",
       "\n",
       "    .dataframe tbody tr th {\n",
       "        vertical-align: top;\n",
       "    }\n",
       "\n",
       "    .dataframe thead th {\n",
       "        text-align: right;\n",
       "    }\n",
       "</style>\n",
       "<table border=\"1\" class=\"dataframe\">\n",
       "  <thead>\n",
       "    <tr style=\"text-align: right;\">\n",
       "      <th></th>\n",
       "      <th>Unnamed: 0</th>\n",
       "    </tr>\n",
       "    <tr>\n",
       "      <th>Extra</th>\n",
       "      <th></th>\n",
       "    </tr>\n",
       "  </thead>\n",
       "  <tbody>\n",
       "    <tr>\n",
       "      <th>0.000000</th>\n",
       "      <td>1</td>\n",
       "    </tr>\n",
       "    <tr>\n",
       "      <th>0.000274</th>\n",
       "      <td>1</td>\n",
       "    </tr>\n",
       "    <tr>\n",
       "      <th>0.224497</th>\n",
       "      <td>1</td>\n",
       "    </tr>\n",
       "    <tr>\n",
       "      <th>0.224514</th>\n",
       "      <td>1</td>\n",
       "    </tr>\n",
       "    <tr>\n",
       "      <th>0.224671</th>\n",
       "      <td>1</td>\n",
       "    </tr>\n",
       "    <tr>\n",
       "      <th>...</th>\n",
       "      <td>...</td>\n",
       "    </tr>\n",
       "    <tr>\n",
       "      <th>3.144674</th>\n",
       "      <td>1</td>\n",
       "    </tr>\n",
       "    <tr>\n",
       "      <th>3.152041</th>\n",
       "      <td>1</td>\n",
       "    </tr>\n",
       "    <tr>\n",
       "      <th>3.162473</th>\n",
       "      <td>1</td>\n",
       "    </tr>\n",
       "    <tr>\n",
       "      <th>3.167136</th>\n",
       "      <td>1</td>\n",
       "    </tr>\n",
       "    <tr>\n",
       "      <th>5.000000</th>\n",
       "      <td>1</td>\n",
       "    </tr>\n",
       "  </tbody>\n",
       "</table>\n",
       "<p>893 rows × 1 columns</p>\n",
       "</div>"
      ],
      "text/plain": [
       "          Unnamed: 0\n",
       "Extra               \n",
       "0.000000           1\n",
       "0.000274           1\n",
       "0.224497           1\n",
       "0.224514           1\n",
       "0.224671           1\n",
       "...              ...\n",
       "3.144674           1\n",
       "3.152041           1\n",
       "3.162473           1\n",
       "3.167136           1\n",
       "5.000000           1\n",
       "\n",
       "[893 rows x 1 columns]"
      ]
     },
     "execution_count": 295,
     "metadata": {},
     "output_type": "execute_result"
    }
   ],
   "source": [
    "houses.groupby(['Extra']).count().iloc[:,:1]\n",
    "#houses['Extra'].max()\n"
   ]
  },
  {
   "cell_type": "code",
   "execution_count": 296,
   "id": "2b214649",
   "metadata": {},
   "outputs": [
    {
     "data": {
      "text/plain": [
       "7788"
      ]
     },
     "execution_count": 296,
     "metadata": {},
     "output_type": "execute_result"
    }
   ],
   "source": [
    "houses['Immoweb ID'].loc[pd.isna(houses['Extra'])].count()"
   ]
  },
  {
   "cell_type": "markdown",
   "id": "32869da3",
   "metadata": {},
   "source": [
    "## Calculating the amount of available rows"
   ]
  },
  {
   "cell_type": "code",
   "execution_count": 297,
   "id": "221a1f77",
   "metadata": {},
   "outputs": [
    {
     "name": "stdout",
     "output_type": "stream",
     "text": [
      "8747,100.0,Unnamed: 0\n",
      "8747,100.0,Immoweb ID\n",
      "8747,100.0,Property type\n",
      "8747,100.0,property sub-type\n",
      "8747,100.0,Price\n",
      "8747,100.0,Eur/m2\n",
      "959,11.0,Extra\n",
      "8747,100.0,Post code\n",
      "6375,73.0,Available as of\n",
      "347,4.0,Property name\n",
      "5600,64.0,Construction year\n",
      "2062,24.0,Floor\n",
      "2292,26.0,Number of floors\n",
      "8747,100.0,Building condition\n",
      "7057,81.0,Number of frontages\n",
      "3365,38.0,Surroundings type\n",
      "8747,100.0,Living area\n",
      "4123,47.0,Living room surface\n",
      "1434,16.0,Dining room\n",
      "6550,75.0,Kitchen type\n",
      "3416,39.0,Kitchen surface\n",
      "8109,93.0,Bedrooms\n",
      "4343,50.0,Bedroom 1 surface\n",
      "3938,45.0,Bedroom 2 surface\n",
      "2854,33.0,Bedroom 3 surface\n",
      "7543,86.0,Bathrooms\n",
      "2877,33.0,Shower rooms\n",
      "6579,75.0,Toilets\n",
      "6647,76.0,Furnished\n",
      "1943,22.0,Armored door\n",
      "3722,43.0,Terrace surface\n",
      "4529,52.0,Elevator\n",
      "3416,39.0,Accessible for disabled people\n",
      "2529,29.0,Visio phone\n",
      "8747,100.0,Primary energy consumption\n",
      "6844,78.0,Energy class\n",
      "8743,100.0,Reference number of the EPC report\n",
      "8747,100.0,CO₂ emission\n",
      "8747,100.0,Yearly theoretical total energy consumption\n",
      "2146,25.0,As built plan\n",
      "6631,76.0,Heating type\n",
      "6931,79.0,Double glazing\n",
      "8520,97.0,Tenement building\n",
      "8073,92.0,Address\n",
      "6863,78.0,External reference\n",
      "8747,100.0,url address\n",
      "3636,42.0,Planning permission obtained\n",
      "3307,38.0,Subdivision permit\n",
      "891,10.0,Available date\n",
      "3670,42.0,Covered parking spaces\n",
      "3331,38.0,Outdoor parking spaces\n",
      "3421,39.0,Proceedings for breach of planning regulations\n",
      "4513,52.0,Flood zone type\n",
      "1259,14.0,Neighbourhood or locality\n",
      "1072,12.0,Office surface\n",
      "3719,43.0,Office\n",
      "3215,37.0,Basement\n",
      "2849,33.0,Intercom\n",
      "3460,40.0,Swimming pool\n",
      "2247,26.0,Street frontage width\n",
      "3898,45.0,TV cable\n",
      "848,10.0,Basement surface\n",
      "1423,16.0,Caretaker\n",
      "3745,43.0,Possible priority purchase right\n",
      "3890,44.0,Latest land use designation\n",
      "674,8.0,How many fireplaces?\n",
      "1964,22.0,Dressing room\n",
      "910,10.0,Laundry room\n",
      "817,9.0,Professional space\n",
      "724,8.0,Terrace orientation\n",
      "2609,30.0,Secure access / alarm\n",
      "587,7.0,Air conditioning\n",
      "747,9.0,Jacuzzi\n",
      "747,9.0,Sauna\n",
      "580,7.0,Internet\n",
      "837,10.0,Conformity certification for fuel tanks\n",
      "1760,20.0,Heat pump\n",
      "1023,12.0,Photovoltaic solar panels\n",
      "1269,15.0,Thermic solar panels\n",
      "973,11.0,Common water heater\n",
      "913,10.0,Type of building\n",
      "855,10.0,Obligation to build\n",
      "1308,15.0,Living room\n",
      "333,4.0,Attic surface\n",
      "109,1.0,Isolated\n",
      "616,7.0,E-level (overall energy performance)\n",
      "1573,18.0,Bedroom 4 surface\n",
      "1325,15.0,Total ground floor buildable\n",
      "2091,24.0,Garden surface\n",
      "1508,17.0,Garden orientation\n",
      "848,10.0,Garden\n",
      "2027,23.0,Terrace\n",
      "10,0.0,Extra information\n",
      "760,9.0,Bedroom 5 surface\n",
      "21,0.0,Sea view\n",
      "427,5.0,Agent's name\n",
      "19,0.0,Single session\n",
      "1,0.0,Terms of visit\n",
      "155,2.0,Number of annexes\n",
      "1095,13.0,Attic\n",
      "4584,52.0,Surface of the plot\n",
      "2750,31.0,Connection to sewer network\n",
      "3695,42.0,Gas, water & electricity\n",
      "383,4.0,Professional space surface\n",
      "693,8.0,Land is facing street\n",
      "764,9.0,Flat land\n",
      "138,2.0,Current monthly revenue\n",
      "619,7.0,Wooded land\n",
      "627,7.0,Plot at rear\n",
      "68,1.0,Percentage rented\n",
      "7,0.0,EPC description\n",
      "0,0.0,Venue of the sale\n",
      "0,0.0,Date of the sale\n"
     ]
    }
   ],
   "source": [
    "columns = houses.columns\n",
    "total_count = houses['Immoweb ID'].count()\n",
    "for col in columns:\n",
    "    count = houses[col].count()\n",
    "    print(f\"{count},{(round(count/total_count*100,0))},{col}\")"
   ]
  },
  {
   "cell_type": "code",
   "execution_count": 298,
   "id": "6176a8f6",
   "metadata": {},
   "outputs": [],
   "source": [
    "\n",
    "def write_dump(obj: list, file_name: str) -> None:\n",
    "    \"\"\"Writes an object to file in a binary format.\n",
    "    :list_to_save : A list that we want to write file\n",
    "    :file_name: A string that contains the file name\n",
    "    \"\"\"\n",
    "    open_file = open(file_name, \"wb\")\n",
    "    pickle.dump(obj, open_file)\n",
    "    open_file.close()\n",
    "\n",
    "# It's better to comment out the actual line, so it's not run by accident. Also it's good to change the file name\n",
    "#write_dump(houses, \"./data/clean_house_data.df\")\n"
   ]
  },
  {
   "cell_type": "code",
   "execution_count": 299,
   "id": "3cd05f92",
   "metadata": {},
   "outputs": [
    {
     "data": {
      "text/plain": [
       "Index(['Unnamed: 0', 'Immoweb ID', 'Property type', 'property sub-type',\n",
       "       'Price', 'Eur/m2', 'Extra', 'Post code', 'Available as of',\n",
       "       'Property name',\n",
       "       ...\n",
       "       'Professional space surface', 'Land is facing street', 'Flat land',\n",
       "       'Current monthly revenue', 'Wooded land', 'Plot at rear',\n",
       "       'Percentage rented', 'EPC description', 'Venue of the sale',\n",
       "       'Date of the sale'],\n",
       "      dtype='object', length=113)"
      ]
     },
     "execution_count": 299,
     "metadata": {},
     "output_type": "execute_result"
    }
   ],
   "source": [
    "houses.columns"
   ]
  },
  {
   "cell_type": "markdown",
   "id": "385135c2",
   "metadata": {},
   "source": [
    "## NADIA \n",
    "## 11. CONSTRUCTION YEAR"
   ]
  },
  {
   "cell_type": "code",
   "execution_count": 300,
   "id": "3d4f08ba",
   "metadata": {},
   "outputs": [
    {
     "data": {
      "text/plain": [
       "dtype('int64')"
      ]
     },
     "execution_count": 300,
     "metadata": {},
     "output_type": "execute_result"
    }
   ],
   "source": [
    "#houses = houses.loc[pd.notna(houses['Construction year'])]\n",
    "#get rid of infinite values\n",
    "houses['Construction year'].replace([np.inf, -np.inf], np.nan, inplace=True)\n",
    "#get rid null values\n",
    "houses['Construction year'].fillna(0, inplace=True)\n",
    "\n",
    "pd.to_numeric(houses['Construction year'], errors = 'coerce')\n",
    "houses['Construction year'] = houses['Construction year'].astype('int')\n",
    "houses['Construction year'].dtypes"
   ]
  },
  {
   "cell_type": "markdown",
   "id": "701650cd",
   "metadata": {},
   "source": [
    "12. TERRACE SURFACE (NOT USING)"
   ]
  },
  {
   "cell_type": "code",
   "execution_count": 301,
   "id": "45e88a2a",
   "metadata": {},
   "outputs": [],
   "source": [
    "#houses = houses.loc[pd.notna(houses['Terrace surface'])]\n",
    "#houses['Terrace surface'] = houses['Terrace surface'].astype('int')\n",
    "#houses['Terrace surface'].dtypes"
   ]
  },
  {
   "cell_type": "markdown",
   "id": "fce9a4ca",
   "metadata": {},
   "source": [
    "## 12. PROPERTY TYPE"
   ]
  },
  {
   "cell_type": "code",
   "execution_count": 302,
   "id": "7a21f4bf",
   "metadata": {},
   "outputs": [
    {
     "data": {
      "text/html": [
       "<div>\n",
       "<style scoped>\n",
       "    .dataframe tbody tr th:only-of-type {\n",
       "        vertical-align: middle;\n",
       "    }\n",
       "\n",
       "    .dataframe tbody tr th {\n",
       "        vertical-align: top;\n",
       "    }\n",
       "\n",
       "    .dataframe thead th {\n",
       "        text-align: right;\n",
       "    }\n",
       "</style>\n",
       "<table border=\"1\" class=\"dataframe\">\n",
       "  <thead>\n",
       "    <tr style=\"text-align: right;\">\n",
       "      <th></th>\n",
       "      <th>Unnamed: 0</th>\n",
       "      <th>Immoweb ID</th>\n",
       "      <th>property sub-type</th>\n",
       "      <th>Price</th>\n",
       "      <th>Eur/m2</th>\n",
       "      <th>Extra</th>\n",
       "      <th>Post code</th>\n",
       "      <th>Available as of</th>\n",
       "      <th>Property name</th>\n",
       "      <th>Construction year</th>\n",
       "      <th>...</th>\n",
       "      <th>Gas, water &amp; electricity</th>\n",
       "      <th>Professional space surface</th>\n",
       "      <th>Land is facing street</th>\n",
       "      <th>Flat land</th>\n",
       "      <th>Current monthly revenue</th>\n",
       "      <th>Wooded land</th>\n",
       "      <th>Plot at rear</th>\n",
       "      <th>Percentage rented</th>\n",
       "      <th>EPC description</th>\n",
       "      <th>Venue of the sale</th>\n",
       "    </tr>\n",
       "    <tr>\n",
       "      <th>Property type</th>\n",
       "      <th></th>\n",
       "      <th></th>\n",
       "      <th></th>\n",
       "      <th></th>\n",
       "      <th></th>\n",
       "      <th></th>\n",
       "      <th></th>\n",
       "      <th></th>\n",
       "      <th></th>\n",
       "      <th></th>\n",
       "      <th></th>\n",
       "      <th></th>\n",
       "      <th></th>\n",
       "      <th></th>\n",
       "      <th></th>\n",
       "      <th></th>\n",
       "      <th></th>\n",
       "      <th></th>\n",
       "      <th></th>\n",
       "      <th></th>\n",
       "      <th></th>\n",
       "    </tr>\n",
       "  </thead>\n",
       "  <tbody>\n",
       "    <tr>\n",
       "      <th>APARTMENT</th>\n",
       "      <td>3675</td>\n",
       "      <td>3675</td>\n",
       "      <td>3675</td>\n",
       "      <td>3675</td>\n",
       "      <td>3675</td>\n",
       "      <td>0</td>\n",
       "      <td>3675</td>\n",
       "      <td>2670</td>\n",
       "      <td>289</td>\n",
       "      <td>3675</td>\n",
       "      <td>...</td>\n",
       "      <td>0</td>\n",
       "      <td>13</td>\n",
       "      <td>0</td>\n",
       "      <td>0</td>\n",
       "      <td>0</td>\n",
       "      <td>0</td>\n",
       "      <td>0</td>\n",
       "      <td>0</td>\n",
       "      <td>5</td>\n",
       "      <td>0</td>\n",
       "    </tr>\n",
       "    <tr>\n",
       "      <th>HOUSE</th>\n",
       "      <td>5072</td>\n",
       "      <td>5072</td>\n",
       "      <td>5072</td>\n",
       "      <td>5072</td>\n",
       "      <td>5072</td>\n",
       "      <td>959</td>\n",
       "      <td>5072</td>\n",
       "      <td>3705</td>\n",
       "      <td>58</td>\n",
       "      <td>5072</td>\n",
       "      <td>...</td>\n",
       "      <td>3695</td>\n",
       "      <td>370</td>\n",
       "      <td>693</td>\n",
       "      <td>764</td>\n",
       "      <td>138</td>\n",
       "      <td>619</td>\n",
       "      <td>627</td>\n",
       "      <td>68</td>\n",
       "      <td>2</td>\n",
       "      <td>0</td>\n",
       "    </tr>\n",
       "  </tbody>\n",
       "</table>\n",
       "<p>2 rows × 111 columns</p>\n",
       "</div>"
      ],
      "text/plain": [
       "               Unnamed: 0  Immoweb ID  property sub-type  Price  Eur/m2  \\\n",
       "Property type                                                             \n",
       "APARTMENT            3675        3675               3675   3675    3675   \n",
       "HOUSE                5072        5072               5072   5072    5072   \n",
       "\n",
       "               Extra  Post code  Available as of  Property name  \\\n",
       "Property type                                                     \n",
       "APARTMENT          0       3675             2670            289   \n",
       "HOUSE            959       5072             3705             58   \n",
       "\n",
       "               Construction year  ...  Gas, water & electricity  \\\n",
       "Property type                     ...                             \n",
       "APARTMENT                   3675  ...                         0   \n",
       "HOUSE                       5072  ...                      3695   \n",
       "\n",
       "               Professional space surface  Land is facing street  Flat land  \\\n",
       "Property type                                                                 \n",
       "APARTMENT                              13                      0          0   \n",
       "HOUSE                                 370                    693        764   \n",
       "\n",
       "               Current monthly revenue  Wooded land  Plot at rear  \\\n",
       "Property type                                                       \n",
       "APARTMENT                            0            0             0   \n",
       "HOUSE                              138          619           627   \n",
       "\n",
       "               Percentage rented  EPC description  Venue of the sale  \n",
       "Property type                                                         \n",
       "APARTMENT                      0                5                  0  \n",
       "HOUSE                         68                2                  0  \n",
       "\n",
       "[2 rows x 111 columns]"
      ]
     },
     "execution_count": 302,
     "metadata": {},
     "output_type": "execute_result"
    }
   ],
   "source": [
    "houses.groupby(['Property type']).count().iloc[:,:-1]"
   ]
  },
  {
   "cell_type": "code",
   "execution_count": 303,
   "id": "995e4298",
   "metadata": {},
   "outputs": [
    {
     "data": {
      "text/html": [
       "<div>\n",
       "<style scoped>\n",
       "    .dataframe tbody tr th:only-of-type {\n",
       "        vertical-align: middle;\n",
       "    }\n",
       "\n",
       "    .dataframe tbody tr th {\n",
       "        vertical-align: top;\n",
       "    }\n",
       "\n",
       "    .dataframe thead th {\n",
       "        text-align: right;\n",
       "    }\n",
       "</style>\n",
       "<table border=\"1\" class=\"dataframe\">\n",
       "  <thead>\n",
       "    <tr style=\"text-align: right;\">\n",
       "      <th></th>\n",
       "      <th>Unnamed: 0</th>\n",
       "      <th>Immoweb ID</th>\n",
       "      <th>property sub-type</th>\n",
       "      <th>Price</th>\n",
       "      <th>Eur/m2</th>\n",
       "      <th>Extra</th>\n",
       "      <th>Post code</th>\n",
       "      <th>Available as of</th>\n",
       "      <th>Property name</th>\n",
       "      <th>Construction year</th>\n",
       "      <th>...</th>\n",
       "      <th>Professional space surface</th>\n",
       "      <th>Land is facing street</th>\n",
       "      <th>Flat land</th>\n",
       "      <th>Current monthly revenue</th>\n",
       "      <th>Wooded land</th>\n",
       "      <th>Plot at rear</th>\n",
       "      <th>Percentage rented</th>\n",
       "      <th>EPC description</th>\n",
       "      <th>Venue of the sale</th>\n",
       "      <th>Date of the sale</th>\n",
       "    </tr>\n",
       "    <tr>\n",
       "      <th>Property type</th>\n",
       "      <th></th>\n",
       "      <th></th>\n",
       "      <th></th>\n",
       "      <th></th>\n",
       "      <th></th>\n",
       "      <th></th>\n",
       "      <th></th>\n",
       "      <th></th>\n",
       "      <th></th>\n",
       "      <th></th>\n",
       "      <th></th>\n",
       "      <th></th>\n",
       "      <th></th>\n",
       "      <th></th>\n",
       "      <th></th>\n",
       "      <th></th>\n",
       "      <th></th>\n",
       "      <th></th>\n",
       "      <th></th>\n",
       "      <th></th>\n",
       "      <th></th>\n",
       "    </tr>\n",
       "  </thead>\n",
       "  <tbody>\n",
       "    <tr>\n",
       "      <th>1</th>\n",
       "      <td>3675</td>\n",
       "      <td>3675</td>\n",
       "      <td>3675</td>\n",
       "      <td>3675</td>\n",
       "      <td>3675</td>\n",
       "      <td>0</td>\n",
       "      <td>3675</td>\n",
       "      <td>2670</td>\n",
       "      <td>289</td>\n",
       "      <td>3675</td>\n",
       "      <td>...</td>\n",
       "      <td>13</td>\n",
       "      <td>0</td>\n",
       "      <td>0</td>\n",
       "      <td>0</td>\n",
       "      <td>0</td>\n",
       "      <td>0</td>\n",
       "      <td>0</td>\n",
       "      <td>5</td>\n",
       "      <td>0</td>\n",
       "      <td>0</td>\n",
       "    </tr>\n",
       "    <tr>\n",
       "      <th>2</th>\n",
       "      <td>5072</td>\n",
       "      <td>5072</td>\n",
       "      <td>5072</td>\n",
       "      <td>5072</td>\n",
       "      <td>5072</td>\n",
       "      <td>959</td>\n",
       "      <td>5072</td>\n",
       "      <td>3705</td>\n",
       "      <td>58</td>\n",
       "      <td>5072</td>\n",
       "      <td>...</td>\n",
       "      <td>370</td>\n",
       "      <td>693</td>\n",
       "      <td>764</td>\n",
       "      <td>138</td>\n",
       "      <td>619</td>\n",
       "      <td>627</td>\n",
       "      <td>68</td>\n",
       "      <td>2</td>\n",
       "      <td>0</td>\n",
       "      <td>0</td>\n",
       "    </tr>\n",
       "  </tbody>\n",
       "</table>\n",
       "<p>2 rows × 112 columns</p>\n",
       "</div>"
      ],
      "text/plain": [
       "               Unnamed: 0  Immoweb ID  property sub-type  Price  Eur/m2  \\\n",
       "Property type                                                             \n",
       "1                    3675        3675               3675   3675    3675   \n",
       "2                    5072        5072               5072   5072    5072   \n",
       "\n",
       "               Extra  Post code  Available as of  Property name  \\\n",
       "Property type                                                     \n",
       "1                  0       3675             2670            289   \n",
       "2                959       5072             3705             58   \n",
       "\n",
       "               Construction year  ...  Professional space surface  \\\n",
       "Property type                     ...                               \n",
       "1                           3675  ...                          13   \n",
       "2                           5072  ...                         370   \n",
       "\n",
       "               Land is facing street  Flat land  Current monthly revenue  \\\n",
       "Property type                                                              \n",
       "1                                  0          0                        0   \n",
       "2                                693        764                      138   \n",
       "\n",
       "               Wooded land  Plot at rear  Percentage rented  EPC description  \\\n",
       "Property type                                                                  \n",
       "1                        0             0                  0                5   \n",
       "2                      619           627                 68                2   \n",
       "\n",
       "               Venue of the sale  Date of the sale  \n",
       "Property type                                       \n",
       "1                              0                 0  \n",
       "2                              0                 0  \n",
       "\n",
       "[2 rows x 112 columns]"
      ]
     },
     "execution_count": 303,
     "metadata": {},
     "output_type": "execute_result"
    }
   ],
   "source": [
    "houses['Property type'] = houses['Property type'].map({'APARTMENT': 1, 'HOUSE': 2})\n",
    "houses.groupby(['Property type']).count()"
   ]
  },
  {
   "cell_type": "code",
   "execution_count": 304,
   "id": "c5359638",
   "metadata": {},
   "outputs": [
    {
     "data": {
      "text/plain": [
       "dtype('int64')"
      ]
     },
     "execution_count": 304,
     "metadata": {},
     "output_type": "execute_result"
    }
   ],
   "source": [
    "houses['Property type'] = houses['Property type'].astype('int')\n",
    "houses['Property type'].dtypes"
   ]
  },
  {
   "cell_type": "markdown",
   "id": "84809501",
   "metadata": {},
   "source": [
    "## DILSAD\n",
    "## 13. Bedrooms"
   ]
  },
  {
   "cell_type": "code",
   "execution_count": 305,
   "id": "a8dfc1d7",
   "metadata": {},
   "outputs": [
    {
     "data": {
      "text/html": [
       "<div>\n",
       "<style scoped>\n",
       "    .dataframe tbody tr th:only-of-type {\n",
       "        vertical-align: middle;\n",
       "    }\n",
       "\n",
       "    .dataframe tbody tr th {\n",
       "        vertical-align: top;\n",
       "    }\n",
       "\n",
       "    .dataframe thead th {\n",
       "        text-align: right;\n",
       "    }\n",
       "</style>\n",
       "<table border=\"1\" class=\"dataframe\">\n",
       "  <thead>\n",
       "    <tr style=\"text-align: right;\">\n",
       "      <th></th>\n",
       "      <th>Unnamed: 0</th>\n",
       "    </tr>\n",
       "    <tr>\n",
       "      <th>Bedrooms</th>\n",
       "      <th></th>\n",
       "    </tr>\n",
       "  </thead>\n",
       "  <tbody>\n",
       "    <tr>\n",
       "      <th>1.0</th>\n",
       "      <td>911</td>\n",
       "    </tr>\n",
       "    <tr>\n",
       "      <th>2.0</th>\n",
       "      <td>1809</td>\n",
       "    </tr>\n",
       "    <tr>\n",
       "      <th>3.0</th>\n",
       "      <td>2111</td>\n",
       "    </tr>\n",
       "    <tr>\n",
       "      <th>4.0</th>\n",
       "      <td>1485</td>\n",
       "    </tr>\n",
       "    <tr>\n",
       "      <th>5.0</th>\n",
       "      <td>813</td>\n",
       "    </tr>\n",
       "    <tr>\n",
       "      <th>6.0</th>\n",
       "      <td>456</td>\n",
       "    </tr>\n",
       "    <tr>\n",
       "      <th>7.0</th>\n",
       "      <td>162</td>\n",
       "    </tr>\n",
       "    <tr>\n",
       "      <th>8.0</th>\n",
       "      <td>119</td>\n",
       "    </tr>\n",
       "    <tr>\n",
       "      <th>9.0</th>\n",
       "      <td>56</td>\n",
       "    </tr>\n",
       "    <tr>\n",
       "      <th>10.0</th>\n",
       "      <td>62</td>\n",
       "    </tr>\n",
       "    <tr>\n",
       "      <th>11.0</th>\n",
       "      <td>28</td>\n",
       "    </tr>\n",
       "    <tr>\n",
       "      <th>12.0</th>\n",
       "      <td>20</td>\n",
       "    </tr>\n",
       "    <tr>\n",
       "      <th>13.0</th>\n",
       "      <td>12</td>\n",
       "    </tr>\n",
       "    <tr>\n",
       "      <th>14.0</th>\n",
       "      <td>12</td>\n",
       "    </tr>\n",
       "    <tr>\n",
       "      <th>15.0</th>\n",
       "      <td>8</td>\n",
       "    </tr>\n",
       "    <tr>\n",
       "      <th>16.0</th>\n",
       "      <td>12</td>\n",
       "    </tr>\n",
       "    <tr>\n",
       "      <th>17.0</th>\n",
       "      <td>2</td>\n",
       "    </tr>\n",
       "    <tr>\n",
       "      <th>18.0</th>\n",
       "      <td>4</td>\n",
       "    </tr>\n",
       "    <tr>\n",
       "      <th>19.0</th>\n",
       "      <td>2</td>\n",
       "    </tr>\n",
       "    <tr>\n",
       "      <th>20.0</th>\n",
       "      <td>2</td>\n",
       "    </tr>\n",
       "    <tr>\n",
       "      <th>21.0</th>\n",
       "      <td>1</td>\n",
       "    </tr>\n",
       "    <tr>\n",
       "      <th>22.0</th>\n",
       "      <td>3</td>\n",
       "    </tr>\n",
       "    <tr>\n",
       "      <th>23.0</th>\n",
       "      <td>2</td>\n",
       "    </tr>\n",
       "    <tr>\n",
       "      <th>25.0</th>\n",
       "      <td>2</td>\n",
       "    </tr>\n",
       "    <tr>\n",
       "      <th>26.0</th>\n",
       "      <td>1</td>\n",
       "    </tr>\n",
       "    <tr>\n",
       "      <th>27.0</th>\n",
       "      <td>1</td>\n",
       "    </tr>\n",
       "    <tr>\n",
       "      <th>28.0</th>\n",
       "      <td>1</td>\n",
       "    </tr>\n",
       "    <tr>\n",
       "      <th>30.0</th>\n",
       "      <td>1</td>\n",
       "    </tr>\n",
       "    <tr>\n",
       "      <th>36.0</th>\n",
       "      <td>2</td>\n",
       "    </tr>\n",
       "    <tr>\n",
       "      <th>38.0</th>\n",
       "      <td>1</td>\n",
       "    </tr>\n",
       "    <tr>\n",
       "      <th>39.0</th>\n",
       "      <td>1</td>\n",
       "    </tr>\n",
       "    <tr>\n",
       "      <th>46.0</th>\n",
       "      <td>1</td>\n",
       "    </tr>\n",
       "    <tr>\n",
       "      <th>50.0</th>\n",
       "      <td>1</td>\n",
       "    </tr>\n",
       "    <tr>\n",
       "      <th>70.0</th>\n",
       "      <td>1</td>\n",
       "    </tr>\n",
       "    <tr>\n",
       "      <th>90.0</th>\n",
       "      <td>1</td>\n",
       "    </tr>\n",
       "    <tr>\n",
       "      <th>94.0</th>\n",
       "      <td>1</td>\n",
       "    </tr>\n",
       "    <tr>\n",
       "      <th>100.0</th>\n",
       "      <td>1</td>\n",
       "    </tr>\n",
       "    <tr>\n",
       "      <th>204.0</th>\n",
       "      <td>1</td>\n",
       "    </tr>\n",
       "  </tbody>\n",
       "</table>\n",
       "</div>"
      ],
      "text/plain": [
       "          Unnamed: 0\n",
       "Bedrooms            \n",
       "1.0              911\n",
       "2.0             1809\n",
       "3.0             2111\n",
       "4.0             1485\n",
       "5.0              813\n",
       "6.0              456\n",
       "7.0              162\n",
       "8.0              119\n",
       "9.0               56\n",
       "10.0              62\n",
       "11.0              28\n",
       "12.0              20\n",
       "13.0              12\n",
       "14.0              12\n",
       "15.0               8\n",
       "16.0              12\n",
       "17.0               2\n",
       "18.0               4\n",
       "19.0               2\n",
       "20.0               2\n",
       "21.0               1\n",
       "22.0               3\n",
       "23.0               2\n",
       "25.0               2\n",
       "26.0               1\n",
       "27.0               1\n",
       "28.0               1\n",
       "30.0               1\n",
       "36.0               2\n",
       "38.0               1\n",
       "39.0               1\n",
       "46.0               1\n",
       "50.0               1\n",
       "70.0               1\n",
       "90.0               1\n",
       "94.0               1\n",
       "100.0              1\n",
       "204.0              1"
      ]
     },
     "execution_count": 305,
     "metadata": {},
     "output_type": "execute_result"
    }
   ],
   "source": [
    "houses.groupby(['Bedrooms']).count().iloc[:,:1]"
   ]
  },
  {
   "cell_type": "code",
   "execution_count": 306,
   "id": "963797a4",
   "metadata": {},
   "outputs": [
    {
     "data": {
      "text/plain": [
       "638"
      ]
     },
     "execution_count": 306,
     "metadata": {},
     "output_type": "execute_result"
    }
   ],
   "source": [
    "houses['Bedrooms'].isnull().sum()"
   ]
  },
  {
   "cell_type": "code",
   "execution_count": 307,
   "id": "7f9d0234",
   "metadata": {},
   "outputs": [
    {
     "data": {
      "text/plain": [
       "7.293929347204756"
      ]
     },
     "execution_count": 307,
     "metadata": {},
     "output_type": "execute_result"
    }
   ],
   "source": [
    "houses['Bedrooms'].isnull().sum()*100/len(houses)"
   ]
  },
  {
   "cell_type": "markdown",
   "id": "6a597a4d",
   "metadata": {},
   "source": [
    "The missing value percentage is 7.63 which is quite good!"
   ]
  },
  {
   "cell_type": "code",
   "execution_count": 308,
   "id": "a4c968ef",
   "metadata": {},
   "outputs": [
    {
     "name": "stderr",
     "output_type": "stream",
     "text": [
      "/var/folders/d1/8xyd7pjd39940tkljh7m_crm0000gp/T/ipykernel_9112/725562088.py:2: SettingWithCopyWarning: \n",
      "A value is trying to be set on a copy of a slice from a DataFrame.\n",
      "Try using .loc[row_indexer,col_indexer] = value instead\n",
      "\n",
      "See the caveats in the documentation: https://pandas.pydata.org/pandas-docs/stable/user_guide/indexing.html#returning-a-view-versus-a-copy\n",
      "  bedroom_dropna['Bedrooms'] = bedroom_dropna['Bedrooms'].astype('int64')\n"
     ]
    }
   ],
   "source": [
    "bedroom_dropna = houses.loc[pd.notna(houses['Bedrooms'])]\n",
    "bedroom_dropna['Bedrooms'] = bedroom_dropna['Bedrooms'].astype('int64')"
   ]
  },
  {
   "cell_type": "code",
   "execution_count": 309,
   "id": "a0d5836f",
   "metadata": {},
   "outputs": [
    {
     "data": {
      "text/plain": [
       "dtype('int64')"
      ]
     },
     "execution_count": 309,
     "metadata": {},
     "output_type": "execute_result"
    }
   ],
   "source": [
    "bedroom_dropna.Bedrooms.dtype"
   ]
  },
  {
   "cell_type": "code",
   "execution_count": 310,
   "id": "62fa8990",
   "metadata": {},
   "outputs": [
    {
     "data": {
      "text/plain": [
       "0.4071732273372961"
      ]
     },
     "execution_count": 310,
     "metadata": {},
     "output_type": "execute_result"
    }
   ],
   "source": [
    "corr = bedroom_dropna['Price'].corr(bedroom_dropna['Bedrooms'], method='pearson')\n",
    "corr"
   ]
  },
  {
   "cell_type": "markdown",
   "id": "0ddced1c",
   "metadata": {},
   "source": [
    "The correlation between the price and bedroom number is 0.4 which means there is a moderate correlation between two variables."
   ]
  },
  {
   "cell_type": "code",
   "execution_count": 311,
   "id": "b02f1158",
   "metadata": {},
   "outputs": [
    {
     "data": {
      "text/plain": [
       "count    8109.000000\n",
       "mean        3.610556\n",
       "std         3.815848\n",
       "min         1.000000\n",
       "25%         2.000000\n",
       "50%         3.000000\n",
       "75%         4.000000\n",
       "max       204.000000\n",
       "Name: Bedrooms, dtype: float64"
      ]
     },
     "execution_count": 311,
     "metadata": {},
     "output_type": "execute_result"
    }
   ],
   "source": [
    "bedroom_dropna['Bedrooms'].describe()"
   ]
  },
  {
   "cell_type": "code",
   "execution_count": 312,
   "id": "d5e237c1",
   "metadata": {},
   "outputs": [
    {
     "data": {
      "image/png": "[encoded data removed]",
      "text/plain": [
       "<Figure size 432x288 with 1 Axes>"
      ]
     },
     "metadata": {},
     "output_type": "display_data"
    }
   ],
   "source": [
    "x = bedroom_dropna['Bedrooms']\n",
    "y = bedroom_dropna['Price']\n",
    "plt.scatter(x, y)\n",
    "plt.xlabel('Number of Bedrooms')\n",
    "plt.ylabel('Price')\n",
    "plt.title('Number of Bedroom vs Price')\n",
    "plt.show()\n",
    "plt.style.use('dark_background')"
   ]
  },
  {
   "cell_type": "markdown",
   "id": "6b024fa5",
   "metadata": {},
   "source": [
    "## 14. Garden"
   ]
  },
  {
   "cell_type": "code",
   "execution_count": 313,
   "id": "b9e3023f",
   "metadata": {},
   "outputs": [
    {
     "data": {
      "text/html": [
       "<div>\n",
       "<style scoped>\n",
       "    .dataframe tbody tr th:only-of-type {\n",
       "        vertical-align: middle;\n",
       "    }\n",
       "\n",
       "    .dataframe tbody tr th {\n",
       "        vertical-align: top;\n",
       "    }\n",
       "\n",
       "    .dataframe thead th {\n",
       "        text-align: right;\n",
       "    }\n",
       "</style>\n",
       "<table border=\"1\" class=\"dataframe\">\n",
       "  <thead>\n",
       "    <tr style=\"text-align: right;\">\n",
       "      <th></th>\n",
       "      <th>Unnamed: 0</th>\n",
       "    </tr>\n",
       "    <tr>\n",
       "      <th>Garden</th>\n",
       "      <th></th>\n",
       "    </tr>\n",
       "  </thead>\n",
       "  <tbody>\n",
       "    <tr>\n",
       "      <th>Yes</th>\n",
       "      <td>848</td>\n",
       "    </tr>\n",
       "  </tbody>\n",
       "</table>\n",
       "</div>"
      ],
      "text/plain": [
       "        Unnamed: 0\n",
       "Garden            \n",
       "Yes            848"
      ]
     },
     "execution_count": 313,
     "metadata": {},
     "output_type": "execute_result"
    }
   ],
   "source": [
    "houses.groupby(['Garden']).count().iloc[:,:1]"
   ]
  },
  {
   "cell_type": "code",
   "execution_count": 314,
   "id": "a9084319",
   "metadata": {},
   "outputs": [
    {
     "data": {
      "text/plain": [
       "0        NaN\n",
       "3        NaN\n",
       "4        NaN\n",
       "5        NaN\n",
       "6        NaN\n",
       "        ... \n",
       "14592    NaN\n",
       "14609    NaN\n",
       "14612    NaN\n",
       "14614    NaN\n",
       "14615    NaN\n",
       "Name: Garden, Length: 8747, dtype: object"
      ]
     },
     "execution_count": 314,
     "metadata": {},
     "output_type": "execute_result"
    }
   ],
   "source": [
    "houses.loc[:, 'Garden']"
   ]
  },
  {
   "cell_type": "code",
   "execution_count": 315,
   "id": "1ff216d8",
   "metadata": {},
   "outputs": [
    {
     "data": {
      "text/plain": [
       "array([nan, 'Yes'], dtype=object)"
      ]
     },
     "execution_count": 315,
     "metadata": {},
     "output_type": "execute_result"
    }
   ],
   "source": [
    "gar_uniq = houses['Garden'].unique()\n",
    "gar_uniq"
   ]
  },
  {
   "cell_type": "code",
   "execution_count": 316,
   "id": "7e2dce11",
   "metadata": {},
   "outputs": [
    {
     "data": {
      "text/plain": [
       "7899"
      ]
     },
     "execution_count": 316,
     "metadata": {},
     "output_type": "execute_result"
    }
   ],
   "source": [
    "houses.Garden.isnull().sum()"
   ]
  },
  {
   "cell_type": "code",
   "execution_count": 317,
   "id": "6cd758da",
   "metadata": {},
   "outputs": [
    {
     "data": {
      "text/plain": [
       "90.30524751343317"
      ]
     },
     "execution_count": 317,
     "metadata": {},
     "output_type": "execute_result"
    }
   ],
   "source": [
    "houses.Garden.isnull().sum()*100/len(houses)"
   ]
  },
  {
   "cell_type": "markdown",
   "id": "5a5c65f2",
   "metadata": {},
   "source": [
    "The percentage of missing value is 90%, it is quite high"
   ]
  },
  {
   "cell_type": "code",
   "execution_count": 318,
   "id": "7a76c391",
   "metadata": {},
   "outputs": [
    {
     "name": "stdout",
     "output_type": "stream",
     "text": [
      "7899\n",
      "6656\n"
     ]
    }
   ],
   "source": [
    "print(houses['Garden'].isnull().sum())\n",
    "print(houses['Garden surface'].isnull().sum())\n",
    "\n",
    "houses['Garden'] = houses['Garden'].fillna(houses['Garden surface'].notnull())"
   ]
  },
  {
   "cell_type": "markdown",
   "id": "008d1009",
   "metadata": {},
   "source": [
    "Although there are missing values in Garden column there are values in the related index of Garden surface column. Therefore I filled these data points as binary value according to Garden surface column."
   ]
  },
  {
   "cell_type": "code",
   "execution_count": 319,
   "id": "06c06209",
   "metadata": {},
   "outputs": [
    {
     "data": {
      "text/plain": [
       "array([ 0.,  1., nan])"
      ]
     },
     "execution_count": 319,
     "metadata": {},
     "output_type": "execute_result"
    }
   ],
   "source": [
    "def garden_conv(value : str) -> int:\n",
    "    if value == False: \n",
    "        return 0\n",
    "    elif value == True:\n",
    "        return 1\n",
    "\n",
    "houses['Garden'] = houses['Garden'].apply(garden_conv)\n",
    "houses['Garden'].unique()"
   ]
  },
  {
   "cell_type": "markdown",
   "id": "6b9a7900",
   "metadata": {},
   "source": [
    "## 15. Garden Surface"
   ]
  },
  {
   "cell_type": "code",
   "execution_count": 320,
   "id": "8eb034ab",
   "metadata": {},
   "outputs": [
    {
     "data": {
      "text/plain": [
       "Garden surface\n",
       "1.0         0\n",
       "2.0         0\n",
       "4.0         0\n",
       "5.0         0\n",
       "6.0         0\n",
       "           ..\n",
       "66441.0     0\n",
       "80778.0     0\n",
       "150000.0    0\n",
       "203900.0    0\n",
       "950002.0    0\n",
       "Name: Date of the sale, Length: 630, dtype: int64"
      ]
     },
     "execution_count": 320,
     "metadata": {},
     "output_type": "execute_result"
    }
   ],
   "source": [
    "houses.groupby(['Garden surface']).count().iloc[:, -1]"
   ]
  },
  {
   "cell_type": "code",
   "execution_count": 321,
   "id": "667a276a",
   "metadata": {},
   "outputs": [
    {
     "data": {
      "text/plain": [
       "6656"
      ]
     },
     "execution_count": 321,
     "metadata": {},
     "output_type": "execute_result"
    }
   ],
   "source": [
    "houses['Garden surface'].isnull().sum()"
   ]
  },
  {
   "cell_type": "markdown",
   "id": "0d3e98f9",
   "metadata": {},
   "source": [
    "The percentage of missing value is 77.66"
   ]
  },
  {
   "cell_type": "markdown",
   "id": "6fcc78d3",
   "metadata": {},
   "source": [
    "## THE FINAL RESULT"
   ]
  },
  {
   "cell_type": "code",
   "execution_count": 322,
   "id": "2d5cf736",
   "metadata": {},
   "outputs": [
    {
     "name": "stderr",
     "output_type": "stream",
     "text": [
      "/var/folders/d1/8xyd7pjd39940tkljh7m_crm0000gp/T/ipykernel_9112/2321825642.py:1: FutureWarning: In a future version of pandas all arguments of DataFrame.drop except for the argument 'labels' will be keyword-only.\n",
      "  houses.drop(houses.columns.difference(['Immoweb ID', 'Eur/m2', 'Price HTML', 'Garden surface', 'url address', 'Property type', 'property sub-type', 'Price', 'Price (sr only)', 'Extra', 'Post code', 'Construction year', 'Kitchen type', 'Bedrooms', 'Terrace surface', 'Swimming pool', 'Garden', 'Living area', 'Energy class', 'Building condition', 'Double glazing', 'Surface of the plot' ]), 1, inplace=True)\n"
     ]
    },
    {
     "data": {
      "text/html": [
       "<div>\n",
       "<style scoped>\n",
       "    .dataframe tbody tr th:only-of-type {\n",
       "        vertical-align: middle;\n",
       "    }\n",
       "\n",
       "    .dataframe tbody tr th {\n",
       "        vertical-align: top;\n",
       "    }\n",
       "\n",
       "    .dataframe thead th {\n",
       "        text-align: right;\n",
       "    }\n",
       "</style>\n",
       "<table border=\"1\" class=\"dataframe\">\n",
       "  <thead>\n",
       "    <tr style=\"text-align: right;\">\n",
       "      <th></th>\n",
       "      <th>Immoweb ID</th>\n",
       "      <th>Property type</th>\n",
       "      <th>property sub-type</th>\n",
       "      <th>Price</th>\n",
       "      <th>Eur/m2</th>\n",
       "      <th>Extra</th>\n",
       "      <th>Post code</th>\n",
       "      <th>Construction year</th>\n",
       "      <th>Building condition</th>\n",
       "      <th>Living area</th>\n",
       "      <th>Kitchen type</th>\n",
       "      <th>Bedrooms</th>\n",
       "      <th>Terrace surface</th>\n",
       "      <th>Energy class</th>\n",
       "      <th>Double glazing</th>\n",
       "      <th>url address</th>\n",
       "      <th>Swimming pool</th>\n",
       "      <th>Garden surface</th>\n",
       "      <th>Garden</th>\n",
       "      <th>Surface of the plot</th>\n",
       "    </tr>\n",
       "  </thead>\n",
       "  <tbody>\n",
       "    <tr>\n",
       "      <th>0</th>\n",
       "      <td>9739983</td>\n",
       "      <td>1</td>\n",
       "      <td>PENTHOUSE</td>\n",
       "      <td>476000</td>\n",
       "      <td>3051.282051</td>\n",
       "      <td>NaN</td>\n",
       "      <td>1130</td>\n",
       "      <td>2017</td>\n",
       "      <td>4</td>\n",
       "      <td>156</td>\n",
       "      <td>10.0</td>\n",
       "      <td>3.0</td>\n",
       "      <td>43.0</td>\n",
       "      <td>6.5</td>\n",
       "      <td>2.0</td>\n",
       "      <td>https://www.immoweb.be/en/classified/penthouse...</td>\n",
       "      <td>NaN</td>\n",
       "      <td>NaN</td>\n",
       "      <td>0.0</td>\n",
       "      <td>NaN</td>\n",
       "    </tr>\n",
       "    <tr>\n",
       "      <th>3</th>\n",
       "      <td>9737424</td>\n",
       "      <td>1</td>\n",
       "      <td>PENTHOUSE</td>\n",
       "      <td>399000</td>\n",
       "      <td>3800.000000</td>\n",
       "      <td>NaN</td>\n",
       "      <td>1200</td>\n",
       "      <td>1992</td>\n",
       "      <td>3</td>\n",
       "      <td>105</td>\n",
       "      <td>4.0</td>\n",
       "      <td>2.0</td>\n",
       "      <td>42.0</td>\n",
       "      <td>5.0</td>\n",
       "      <td>NaN</td>\n",
       "      <td>https://www.immoweb.be/en/classified/penthouse...</td>\n",
       "      <td>0.0</td>\n",
       "      <td>NaN</td>\n",
       "      <td>0.0</td>\n",
       "      <td>NaN</td>\n",
       "    </tr>\n",
       "    <tr>\n",
       "      <th>4</th>\n",
       "      <td>9737272</td>\n",
       "      <td>1</td>\n",
       "      <td>PENTHOUSE</td>\n",
       "      <td>499000</td>\n",
       "      <td>3118.750000</td>\n",
       "      <td>NaN</td>\n",
       "      <td>1190</td>\n",
       "      <td>2018</td>\n",
       "      <td>4</td>\n",
       "      <td>160</td>\n",
       "      <td>10.0</td>\n",
       "      <td>3.0</td>\n",
       "      <td>11.0</td>\n",
       "      <td>6.0</td>\n",
       "      <td>2.0</td>\n",
       "      <td>https://www.immoweb.be/en/classified/penthouse...</td>\n",
       "      <td>0.0</td>\n",
       "      <td>NaN</td>\n",
       "      <td>0.0</td>\n",
       "      <td>NaN</td>\n",
       "    </tr>\n",
       "    <tr>\n",
       "      <th>5</th>\n",
       "      <td>9737235</td>\n",
       "      <td>1</td>\n",
       "      <td>PENTHOUSE</td>\n",
       "      <td>1495000</td>\n",
       "      <td>7119.047619</td>\n",
       "      <td>NaN</td>\n",
       "      <td>1050</td>\n",
       "      <td>2019</td>\n",
       "      <td>4</td>\n",
       "      <td>210</td>\n",
       "      <td>10.0</td>\n",
       "      <td>4.0</td>\n",
       "      <td>100.0</td>\n",
       "      <td>6.0</td>\n",
       "      <td>2.0</td>\n",
       "      <td>https://www.immoweb.be/en/classified/penthouse...</td>\n",
       "      <td>NaN</td>\n",
       "      <td>NaN</td>\n",
       "      <td>0.0</td>\n",
       "      <td>NaN</td>\n",
       "    </tr>\n",
       "    <tr>\n",
       "      <th>6</th>\n",
       "      <td>9729720</td>\n",
       "      <td>1</td>\n",
       "      <td>PENTHOUSE</td>\n",
       "      <td>179000</td>\n",
       "      <td>2841.269841</td>\n",
       "      <td>NaN</td>\n",
       "      <td>1140</td>\n",
       "      <td>1970</td>\n",
       "      <td>3</td>\n",
       "      <td>63</td>\n",
       "      <td>7.0</td>\n",
       "      <td>1.0</td>\n",
       "      <td>9.0</td>\n",
       "      <td>1.5</td>\n",
       "      <td>2.0</td>\n",
       "      <td>https://www.immoweb.be/en/classified/penthouse...</td>\n",
       "      <td>NaN</td>\n",
       "      <td>NaN</td>\n",
       "      <td>0.0</td>\n",
       "      <td>NaN</td>\n",
       "    </tr>\n",
       "    <tr>\n",
       "      <th>...</th>\n",
       "      <td>...</td>\n",
       "      <td>...</td>\n",
       "      <td>...</td>\n",
       "      <td>...</td>\n",
       "      <td>...</td>\n",
       "      <td>...</td>\n",
       "      <td>...</td>\n",
       "      <td>...</td>\n",
       "      <td>...</td>\n",
       "      <td>...</td>\n",
       "      <td>...</td>\n",
       "      <td>...</td>\n",
       "      <td>...</td>\n",
       "      <td>...</td>\n",
       "      <td>...</td>\n",
       "      <td>...</td>\n",
       "      <td>...</td>\n",
       "      <td>...</td>\n",
       "      <td>...</td>\n",
       "      <td>...</td>\n",
       "    </tr>\n",
       "    <tr>\n",
       "      <th>14592</th>\n",
       "      <td>9353716</td>\n",
       "      <td>1</td>\n",
       "      <td>SERVICE_FLAT</td>\n",
       "      <td>299000</td>\n",
       "      <td>4211.267606</td>\n",
       "      <td>NaN</td>\n",
       "      <td>9500</td>\n",
       "      <td>0</td>\n",
       "      <td>4</td>\n",
       "      <td>71</td>\n",
       "      <td>10.0</td>\n",
       "      <td>1.0</td>\n",
       "      <td>16.0</td>\n",
       "      <td>7.0</td>\n",
       "      <td>NaN</td>\n",
       "      <td>https://www.immoweb.be/en/classified/service-f...</td>\n",
       "      <td>0.0</td>\n",
       "      <td>NaN</td>\n",
       "      <td>0.0</td>\n",
       "      <td>NaN</td>\n",
       "    </tr>\n",
       "    <tr>\n",
       "      <th>14609</th>\n",
       "      <td>8931427</td>\n",
       "      <td>1</td>\n",
       "      <td>SERVICE_FLAT</td>\n",
       "      <td>286000</td>\n",
       "      <td>4400.000000</td>\n",
       "      <td>NaN</td>\n",
       "      <td>9100</td>\n",
       "      <td>0</td>\n",
       "      <td>3</td>\n",
       "      <td>65</td>\n",
       "      <td>NaN</td>\n",
       "      <td>1.0</td>\n",
       "      <td>NaN</td>\n",
       "      <td>NaN</td>\n",
       "      <td>2.0</td>\n",
       "      <td>https://www.immoweb.be/en/classified/service-f...</td>\n",
       "      <td>10.0</td>\n",
       "      <td>NaN</td>\n",
       "      <td>0.0</td>\n",
       "      <td>NaN</td>\n",
       "    </tr>\n",
       "    <tr>\n",
       "      <th>14612</th>\n",
       "      <td>9653921</td>\n",
       "      <td>1</td>\n",
       "      <td>SERVICE_FLAT</td>\n",
       "      <td>250000</td>\n",
       "      <td>3968.253968</td>\n",
       "      <td>NaN</td>\n",
       "      <td>9000</td>\n",
       "      <td>0</td>\n",
       "      <td>4</td>\n",
       "      <td>63</td>\n",
       "      <td>4.0</td>\n",
       "      <td>1.0</td>\n",
       "      <td>5.0</td>\n",
       "      <td>NaN</td>\n",
       "      <td>NaN</td>\n",
       "      <td>https://www.immoweb.be/en/classified/service-f...</td>\n",
       "      <td>NaN</td>\n",
       "      <td>NaN</td>\n",
       "      <td>0.0</td>\n",
       "      <td>NaN</td>\n",
       "    </tr>\n",
       "    <tr>\n",
       "      <th>14614</th>\n",
       "      <td>9540791</td>\n",
       "      <td>1</td>\n",
       "      <td>SERVICE_FLAT</td>\n",
       "      <td>369000</td>\n",
       "      <td>6709.090909</td>\n",
       "      <td>NaN</td>\n",
       "      <td>8400</td>\n",
       "      <td>2021</td>\n",
       "      <td>4</td>\n",
       "      <td>55</td>\n",
       "      <td>NaN</td>\n",
       "      <td>1.0</td>\n",
       "      <td>NaN</td>\n",
       "      <td>NaN</td>\n",
       "      <td>NaN</td>\n",
       "      <td>https://www.immoweb.be/en/classified/service-f...</td>\n",
       "      <td>NaN</td>\n",
       "      <td>NaN</td>\n",
       "      <td>0.0</td>\n",
       "      <td>NaN</td>\n",
       "    </tr>\n",
       "    <tr>\n",
       "      <th>14615</th>\n",
       "      <td>8041977</td>\n",
       "      <td>1</td>\n",
       "      <td>SERVICE_FLAT</td>\n",
       "      <td>217000</td>\n",
       "      <td>3338.461538</td>\n",
       "      <td>NaN</td>\n",
       "      <td>9880</td>\n",
       "      <td>2019</td>\n",
       "      <td>4</td>\n",
       "      <td>65</td>\n",
       "      <td>NaN</td>\n",
       "      <td>1.0</td>\n",
       "      <td>24.0</td>\n",
       "      <td>NaN</td>\n",
       "      <td>0.0</td>\n",
       "      <td>https://www.immoweb.be/en/classified/service-f...</td>\n",
       "      <td>NaN</td>\n",
       "      <td>NaN</td>\n",
       "      <td>0.0</td>\n",
       "      <td>NaN</td>\n",
       "    </tr>\n",
       "  </tbody>\n",
       "</table>\n",
       "<p>8747 rows × 20 columns</p>\n",
       "</div>"
      ],
      "text/plain": [
       "       Immoweb ID  Property type property sub-type    Price       Eur/m2  \\\n",
       "0         9739983              1         PENTHOUSE   476000  3051.282051   \n",
       "3         9737424              1         PENTHOUSE   399000  3800.000000   \n",
       "4         9737272              1         PENTHOUSE   499000  3118.750000   \n",
       "5         9737235              1         PENTHOUSE  1495000  7119.047619   \n",
       "6         9729720              1         PENTHOUSE   179000  2841.269841   \n",
       "...           ...            ...               ...      ...          ...   \n",
       "14592     9353716              1      SERVICE_FLAT   299000  4211.267606   \n",
       "14609     8931427              1      SERVICE_FLAT   286000  4400.000000   \n",
       "14612     9653921              1      SERVICE_FLAT   250000  3968.253968   \n",
       "14614     9540791              1      SERVICE_FLAT   369000  6709.090909   \n",
       "14615     8041977              1      SERVICE_FLAT   217000  3338.461538   \n",
       "\n",
       "       Extra  Post code  Construction year  Building condition  Living area  \\\n",
       "0        NaN       1130               2017                   4          156   \n",
       "3        NaN       1200               1992                   3          105   \n",
       "4        NaN       1190               2018                   4          160   \n",
       "5        NaN       1050               2019                   4          210   \n",
       "6        NaN       1140               1970                   3           63   \n",
       "...      ...        ...                ...                 ...          ...   \n",
       "14592    NaN       9500                  0                   4           71   \n",
       "14609    NaN       9100                  0                   3           65   \n",
       "14612    NaN       9000                  0                   4           63   \n",
       "14614    NaN       8400               2021                   4           55   \n",
       "14615    NaN       9880               2019                   4           65   \n",
       "\n",
       "       Kitchen type  Bedrooms  Terrace surface  Energy class  Double glazing  \\\n",
       "0              10.0       3.0             43.0           6.5             2.0   \n",
       "3               4.0       2.0             42.0           5.0             NaN   \n",
       "4              10.0       3.0             11.0           6.0             2.0   \n",
       "5              10.0       4.0            100.0           6.0             2.0   \n",
       "6               7.0       1.0              9.0           1.5             2.0   \n",
       "...             ...       ...              ...           ...             ...   \n",
       "14592          10.0       1.0             16.0           7.0             NaN   \n",
       "14609           NaN       1.0              NaN           NaN             2.0   \n",
       "14612           4.0       1.0              5.0           NaN             NaN   \n",
       "14614           NaN       1.0              NaN           NaN             NaN   \n",
       "14615           NaN       1.0             24.0           NaN             0.0   \n",
       "\n",
       "                                             url address  Swimming pool  \\\n",
       "0      https://www.immoweb.be/en/classified/penthouse...            NaN   \n",
       "3      https://www.immoweb.be/en/classified/penthouse...            0.0   \n",
       "4      https://www.immoweb.be/en/classified/penthouse...            0.0   \n",
       "5      https://www.immoweb.be/en/classified/penthouse...            NaN   \n",
       "6      https://www.immoweb.be/en/classified/penthouse...            NaN   \n",
       "...                                                  ...            ...   \n",
       "14592  https://www.immoweb.be/en/classified/service-f...            0.0   \n",
       "14609  https://www.immoweb.be/en/classified/service-f...           10.0   \n",
       "14612  https://www.immoweb.be/en/classified/service-f...            NaN   \n",
       "14614  https://www.immoweb.be/en/classified/service-f...            NaN   \n",
       "14615  https://www.immoweb.be/en/classified/service-f...            NaN   \n",
       "\n",
       "       Garden surface  Garden  Surface of the plot  \n",
       "0                 NaN     0.0                  NaN  \n",
       "3                 NaN     0.0                  NaN  \n",
       "4                 NaN     0.0                  NaN  \n",
       "5                 NaN     0.0                  NaN  \n",
       "6                 NaN     0.0                  NaN  \n",
       "...               ...     ...                  ...  \n",
       "14592             NaN     0.0                  NaN  \n",
       "14609             NaN     0.0                  NaN  \n",
       "14612             NaN     0.0                  NaN  \n",
       "14614             NaN     0.0                  NaN  \n",
       "14615             NaN     0.0                  NaN  \n",
       "\n",
       "[8747 rows x 20 columns]"
      ]
     },
     "execution_count": 322,
     "metadata": {},
     "output_type": "execute_result"
    }
   ],
   "source": [
    "houses.drop(houses.columns.difference(['Immoweb ID', 'Eur/m2', 'Price HTML', 'Garden surface', 'url address', 'Property type', 'property sub-type', 'Price', 'Price (sr only)', 'Extra', 'Post code', 'Construction year', 'Kitchen type', 'Bedrooms', 'Terrace surface', 'Swimming pool', 'Garden', 'Living area', 'Energy class', 'Building condition', 'Double glazing', 'Surface of the plot' ]), 1, inplace=True)\n",
    "houses"
   ]
  },
  {
   "cell_type": "code",
   "execution_count": 323,
   "id": "dd4975c6",
   "metadata": {},
   "outputs": [
    {
     "name": "stdout",
     "output_type": "stream",
     "text": [
      "<class 'pandas.core.frame.DataFrame'>\n",
      "Int64Index: 8747 entries, 0 to 14615\n",
      "Data columns (total 20 columns):\n",
      " #   Column               Non-Null Count  Dtype  \n",
      "---  ------               --------------  -----  \n",
      " 0   Immoweb ID           8747 non-null   int64  \n",
      " 1   Property type        8747 non-null   int64  \n",
      " 2   property sub-type    8747 non-null   object \n",
      " 3   Price                8747 non-null   int64  \n",
      " 4   Eur/m2               8747 non-null   float64\n",
      " 5   Extra                959 non-null    float64\n",
      " 6   Post code            8747 non-null   int64  \n",
      " 7   Construction year    8747 non-null   int64  \n",
      " 8   Building condition   8747 non-null   int64  \n",
      " 9   Living area          8747 non-null   int64  \n",
      " 10  Kitchen type         6550 non-null   float64\n",
      " 11  Bedrooms             8109 non-null   float64\n",
      " 12  Terrace surface      3722 non-null   float64\n",
      " 13  Energy class         6844 non-null   float64\n",
      " 14  Double glazing       6931 non-null   float64\n",
      " 15  url address          8747 non-null   object \n",
      " 16  Swimming pool        3460 non-null   float64\n",
      " 17  Garden surface       2091 non-null   float64\n",
      " 18  Garden               7899 non-null   float64\n",
      " 19  Surface of the plot  4584 non-null   float64\n",
      "dtypes: float64(11), int64(7), object(2)\n",
      "memory usage: 1.4+ MB\n"
     ]
    }
   ],
   "source": [
    "houses.info()"
   ]
  },
  {
   "cell_type": "markdown",
   "id": "794cab54",
   "metadata": {},
   "source": [
    "Pearson Method\n",
    "\n",
    "The method gives information about the correlation, as well as the direction of the relationship between two continous variables\n",
    "\n"
   ]
  },
  {
   "cell_type": "code",
   "execution_count": 324,
   "id": "eb3da1dd",
   "metadata": {},
   "outputs": [
    {
     "data": {
      "text/html": [
       "<div>\n",
       "<style scoped>\n",
       "    .dataframe tbody tr th:only-of-type {\n",
       "        vertical-align: middle;\n",
       "    }\n",
       "\n",
       "    .dataframe tbody tr th {\n",
       "        vertical-align: top;\n",
       "    }\n",
       "\n",
       "    .dataframe thead th {\n",
       "        text-align: right;\n",
       "    }\n",
       "</style>\n",
       "<table border=\"1\" class=\"dataframe\">\n",
       "  <thead>\n",
       "    <tr style=\"text-align: right;\">\n",
       "      <th></th>\n",
       "      <th>Immoweb ID</th>\n",
       "      <th>Property type</th>\n",
       "      <th>Price</th>\n",
       "      <th>Eur/m2</th>\n",
       "      <th>Extra</th>\n",
       "      <th>Post code</th>\n",
       "      <th>Construction year</th>\n",
       "      <th>Building condition</th>\n",
       "      <th>Living area</th>\n",
       "      <th>Kitchen type</th>\n",
       "      <th>Bedrooms</th>\n",
       "      <th>Terrace surface</th>\n",
       "      <th>Energy class</th>\n",
       "      <th>Double glazing</th>\n",
       "      <th>Swimming pool</th>\n",
       "      <th>Garden surface</th>\n",
       "      <th>Garden</th>\n",
       "      <th>Surface of the plot</th>\n",
       "    </tr>\n",
       "  </thead>\n",
       "  <tbody>\n",
       "    <tr>\n",
       "      <th>Immoweb ID</th>\n",
       "      <td>1.000000</td>\n",
       "      <td>0.069241</td>\n",
       "      <td>-0.091552</td>\n",
       "      <td>-0.039882</td>\n",
       "      <td>-0.066286</td>\n",
       "      <td>-0.047854</td>\n",
       "      <td>-0.002298</td>\n",
       "      <td>-0.066707</td>\n",
       "      <td>-0.042088</td>\n",
       "      <td>-0.031191</td>\n",
       "      <td>-0.035370</td>\n",
       "      <td>-0.000680</td>\n",
       "      <td>-0.024336</td>\n",
       "      <td>0.034728</td>\n",
       "      <td>-0.032995</td>\n",
       "      <td>-0.057753</td>\n",
       "      <td>0.078376</td>\n",
       "      <td>-0.089296</td>\n",
       "    </tr>\n",
       "    <tr>\n",
       "      <th>Property type</th>\n",
       "      <td>0.069241</td>\n",
       "      <td>1.000000</td>\n",
       "      <td>0.245416</td>\n",
       "      <td>-0.209870</td>\n",
       "      <td>NaN</td>\n",
       "      <td>0.044865</td>\n",
       "      <td>-0.080494</td>\n",
       "      <td>-0.285993</td>\n",
       "      <td>0.347943</td>\n",
       "      <td>-0.137475</td>\n",
       "      <td>0.294425</td>\n",
       "      <td>0.050876</td>\n",
       "      <td>-0.206957</td>\n",
       "      <td>0.033373</td>\n",
       "      <td>0.285247</td>\n",
       "      <td>0.036166</td>\n",
       "      <td>0.256189</td>\n",
       "      <td>NaN</td>\n",
       "    </tr>\n",
       "    <tr>\n",
       "      <th>Price</th>\n",
       "      <td>-0.091552</td>\n",
       "      <td>0.245416</td>\n",
       "      <td>1.000000</td>\n",
       "      <td>0.222326</td>\n",
       "      <td>0.437888</td>\n",
       "      <td>-0.114504</td>\n",
       "      <td>0.072914</td>\n",
       "      <td>0.114684</td>\n",
       "      <td>0.558398</td>\n",
       "      <td>0.157841</td>\n",
       "      <td>0.407173</td>\n",
       "      <td>0.093207</td>\n",
       "      <td>0.067042</td>\n",
       "      <td>0.025557</td>\n",
       "      <td>0.309481</td>\n",
       "      <td>0.178540</td>\n",
       "      <td>0.055908</td>\n",
       "      <td>0.396942</td>\n",
       "    </tr>\n",
       "    <tr>\n",
       "      <th>Eur/m2</th>\n",
       "      <td>-0.039882</td>\n",
       "      <td>-0.209870</td>\n",
       "      <td>0.222326</td>\n",
       "      <td>1.000000</td>\n",
       "      <td>0.287755</td>\n",
       "      <td>-0.033441</td>\n",
       "      <td>0.065266</td>\n",
       "      <td>0.180641</td>\n",
       "      <td>-0.113452</td>\n",
       "      <td>0.114398</td>\n",
       "      <td>-0.066957</td>\n",
       "      <td>-0.012062</td>\n",
       "      <td>0.100442</td>\n",
       "      <td>-0.013343</td>\n",
       "      <td>-0.017191</td>\n",
       "      <td>0.011213</td>\n",
       "      <td>-0.066502</td>\n",
       "      <td>0.173919</td>\n",
       "    </tr>\n",
       "    <tr>\n",
       "      <th>Extra</th>\n",
       "      <td>-0.066286</td>\n",
       "      <td>NaN</td>\n",
       "      <td>0.437888</td>\n",
       "      <td>0.287755</td>\n",
       "      <td>1.000000</td>\n",
       "      <td>-0.098233</td>\n",
       "      <td>0.117930</td>\n",
       "      <td>0.408997</td>\n",
       "      <td>0.316128</td>\n",
       "      <td>0.628538</td>\n",
       "      <td>0.077311</td>\n",
       "      <td>0.293511</td>\n",
       "      <td>0.517327</td>\n",
       "      <td>0.161842</td>\n",
       "      <td>0.804586</td>\n",
       "      <td>0.182358</td>\n",
       "      <td>-0.008071</td>\n",
       "      <td>0.216007</td>\n",
       "    </tr>\n",
       "    <tr>\n",
       "      <th>Post code</th>\n",
       "      <td>-0.047854</td>\n",
       "      <td>0.044865</td>\n",
       "      <td>-0.114504</td>\n",
       "      <td>-0.033441</td>\n",
       "      <td>-0.098233</td>\n",
       "      <td>1.000000</td>\n",
       "      <td>-0.064681</td>\n",
       "      <td>0.029261</td>\n",
       "      <td>-0.018735</td>\n",
       "      <td>-0.111177</td>\n",
       "      <td>-0.023418</td>\n",
       "      <td>0.001054</td>\n",
       "      <td>0.172104</td>\n",
       "      <td>-0.111431</td>\n",
       "      <td>-0.021811</td>\n",
       "      <td>-0.011091</td>\n",
       "      <td>-0.070663</td>\n",
       "      <td>0.008129</td>\n",
       "    </tr>\n",
       "    <tr>\n",
       "      <th>Construction year</th>\n",
       "      <td>-0.002298</td>\n",
       "      <td>-0.080494</td>\n",
       "      <td>0.072914</td>\n",
       "      <td>0.065266</td>\n",
       "      <td>0.117930</td>\n",
       "      <td>-0.064681</td>\n",
       "      <td>1.000000</td>\n",
       "      <td>0.091201</td>\n",
       "      <td>-0.017266</td>\n",
       "      <td>0.056928</td>\n",
       "      <td>-0.015736</td>\n",
       "      <td>-0.020294</td>\n",
       "      <td>0.128092</td>\n",
       "      <td>-0.014847</td>\n",
       "      <td>0.054589</td>\n",
       "      <td>-0.039030</td>\n",
       "      <td>0.064240</td>\n",
       "      <td>-0.028988</td>\n",
       "    </tr>\n",
       "    <tr>\n",
       "      <th>Building condition</th>\n",
       "      <td>-0.066707</td>\n",
       "      <td>-0.285993</td>\n",
       "      <td>0.114684</td>\n",
       "      <td>0.180641</td>\n",
       "      <td>0.408997</td>\n",
       "      <td>0.029261</td>\n",
       "      <td>0.091201</td>\n",
       "      <td>1.000000</td>\n",
       "      <td>-0.079612</td>\n",
       "      <td>0.347320</td>\n",
       "      <td>-0.094036</td>\n",
       "      <td>0.012894</td>\n",
       "      <td>0.443791</td>\n",
       "      <td>0.084851</td>\n",
       "      <td>0.047538</td>\n",
       "      <td>-0.016290</td>\n",
       "      <td>-0.023734</td>\n",
       "      <td>0.014981</td>\n",
       "    </tr>\n",
       "    <tr>\n",
       "      <th>Living area</th>\n",
       "      <td>-0.042088</td>\n",
       "      <td>0.347943</td>\n",
       "      <td>0.558398</td>\n",
       "      <td>-0.113452</td>\n",
       "      <td>0.316128</td>\n",
       "      <td>-0.018735</td>\n",
       "      <td>-0.017266</td>\n",
       "      <td>-0.079612</td>\n",
       "      <td>1.000000</td>\n",
       "      <td>-0.005749</td>\n",
       "      <td>0.478322</td>\n",
       "      <td>0.210614</td>\n",
       "      <td>-0.018237</td>\n",
       "      <td>-0.001344</td>\n",
       "      <td>0.270956</td>\n",
       "      <td>0.132244</td>\n",
       "      <td>0.082786</td>\n",
       "      <td>0.193224</td>\n",
       "    </tr>\n",
       "    <tr>\n",
       "      <th>Kitchen type</th>\n",
       "      <td>-0.031191</td>\n",
       "      <td>-0.137475</td>\n",
       "      <td>0.157841</td>\n",
       "      <td>0.114398</td>\n",
       "      <td>0.628538</td>\n",
       "      <td>-0.111177</td>\n",
       "      <td>0.056928</td>\n",
       "      <td>0.347320</td>\n",
       "      <td>-0.005749</td>\n",
       "      <td>1.000000</td>\n",
       "      <td>-0.052871</td>\n",
       "      <td>0.041226</td>\n",
       "      <td>0.183948</td>\n",
       "      <td>0.084332</td>\n",
       "      <td>0.075941</td>\n",
       "      <td>0.001783</td>\n",
       "      <td>0.006425</td>\n",
       "      <td>0.016732</td>\n",
       "    </tr>\n",
       "    <tr>\n",
       "      <th>Bedrooms</th>\n",
       "      <td>-0.035370</td>\n",
       "      <td>0.294425</td>\n",
       "      <td>0.407173</td>\n",
       "      <td>-0.066957</td>\n",
       "      <td>0.077311</td>\n",
       "      <td>-0.023418</td>\n",
       "      <td>-0.015736</td>\n",
       "      <td>-0.094036</td>\n",
       "      <td>0.478322</td>\n",
       "      <td>-0.052871</td>\n",
       "      <td>1.000000</td>\n",
       "      <td>0.111080</td>\n",
       "      <td>-0.054057</td>\n",
       "      <td>0.027632</td>\n",
       "      <td>0.155022</td>\n",
       "      <td>0.105366</td>\n",
       "      <td>0.060946</td>\n",
       "      <td>0.120883</td>\n",
       "    </tr>\n",
       "    <tr>\n",
       "      <th>Terrace surface</th>\n",
       "      <td>-0.000680</td>\n",
       "      <td>0.050876</td>\n",
       "      <td>0.093207</td>\n",
       "      <td>-0.012062</td>\n",
       "      <td>0.293511</td>\n",
       "      <td>0.001054</td>\n",
       "      <td>-0.020294</td>\n",
       "      <td>0.012894</td>\n",
       "      <td>0.210614</td>\n",
       "      <td>0.041226</td>\n",
       "      <td>0.111080</td>\n",
       "      <td>1.000000</td>\n",
       "      <td>0.026734</td>\n",
       "      <td>0.016486</td>\n",
       "      <td>0.242698</td>\n",
       "      <td>0.067950</td>\n",
       "      <td>0.039902</td>\n",
       "      <td>0.072527</td>\n",
       "    </tr>\n",
       "    <tr>\n",
       "      <th>Energy class</th>\n",
       "      <td>-0.024336</td>\n",
       "      <td>-0.206957</td>\n",
       "      <td>0.067042</td>\n",
       "      <td>0.100442</td>\n",
       "      <td>0.517327</td>\n",
       "      <td>0.172104</td>\n",
       "      <td>0.128092</td>\n",
       "      <td>0.443791</td>\n",
       "      <td>-0.018237</td>\n",
       "      <td>0.183948</td>\n",
       "      <td>-0.054057</td>\n",
       "      <td>0.026734</td>\n",
       "      <td>1.000000</td>\n",
       "      <td>0.027420</td>\n",
       "      <td>0.115272</td>\n",
       "      <td>-0.035365</td>\n",
       "      <td>-0.049803</td>\n",
       "      <td>-0.021891</td>\n",
       "    </tr>\n",
       "    <tr>\n",
       "      <th>Double glazing</th>\n",
       "      <td>0.034728</td>\n",
       "      <td>0.033373</td>\n",
       "      <td>0.025557</td>\n",
       "      <td>-0.013343</td>\n",
       "      <td>0.161842</td>\n",
       "      <td>-0.111431</td>\n",
       "      <td>-0.014847</td>\n",
       "      <td>0.084851</td>\n",
       "      <td>-0.001344</td>\n",
       "      <td>0.084332</td>\n",
       "      <td>0.027632</td>\n",
       "      <td>0.016486</td>\n",
       "      <td>0.027420</td>\n",
       "      <td>1.000000</td>\n",
       "      <td>0.074650</td>\n",
       "      <td>0.002632</td>\n",
       "      <td>0.064485</td>\n",
       "      <td>-0.002942</td>\n",
       "    </tr>\n",
       "    <tr>\n",
       "      <th>Swimming pool</th>\n",
       "      <td>-0.032995</td>\n",
       "      <td>0.285247</td>\n",
       "      <td>0.309481</td>\n",
       "      <td>-0.017191</td>\n",
       "      <td>0.804586</td>\n",
       "      <td>-0.021811</td>\n",
       "      <td>0.054589</td>\n",
       "      <td>0.047538</td>\n",
       "      <td>0.270956</td>\n",
       "      <td>0.075941</td>\n",
       "      <td>0.155022</td>\n",
       "      <td>0.242698</td>\n",
       "      <td>0.115272</td>\n",
       "      <td>0.074650</td>\n",
       "      <td>1.000000</td>\n",
       "      <td>0.010709</td>\n",
       "      <td>0.083228</td>\n",
       "      <td>0.104145</td>\n",
       "    </tr>\n",
       "    <tr>\n",
       "      <th>Garden surface</th>\n",
       "      <td>-0.057753</td>\n",
       "      <td>0.036166</td>\n",
       "      <td>0.178540</td>\n",
       "      <td>0.011213</td>\n",
       "      <td>0.182358</td>\n",
       "      <td>-0.011091</td>\n",
       "      <td>-0.039030</td>\n",
       "      <td>-0.016290</td>\n",
       "      <td>0.132244</td>\n",
       "      <td>0.001783</td>\n",
       "      <td>0.105366</td>\n",
       "      <td>0.067950</td>\n",
       "      <td>-0.035365</td>\n",
       "      <td>0.002632</td>\n",
       "      <td>0.010709</td>\n",
       "      <td>1.000000</td>\n",
       "      <td>NaN</td>\n",
       "      <td>0.530485</td>\n",
       "    </tr>\n",
       "    <tr>\n",
       "      <th>Garden</th>\n",
       "      <td>0.078376</td>\n",
       "      <td>0.256189</td>\n",
       "      <td>0.055908</td>\n",
       "      <td>-0.066502</td>\n",
       "      <td>-0.008071</td>\n",
       "      <td>-0.070663</td>\n",
       "      <td>0.064240</td>\n",
       "      <td>-0.023734</td>\n",
       "      <td>0.082786</td>\n",
       "      <td>0.006425</td>\n",
       "      <td>0.060946</td>\n",
       "      <td>0.039902</td>\n",
       "      <td>-0.049803</td>\n",
       "      <td>0.064485</td>\n",
       "      <td>0.083228</td>\n",
       "      <td>NaN</td>\n",
       "      <td>1.000000</td>\n",
       "      <td>-0.025251</td>\n",
       "    </tr>\n",
       "    <tr>\n",
       "      <th>Surface of the plot</th>\n",
       "      <td>-0.089296</td>\n",
       "      <td>NaN</td>\n",
       "      <td>0.396942</td>\n",
       "      <td>0.173919</td>\n",
       "      <td>0.216007</td>\n",
       "      <td>0.008129</td>\n",
       "      <td>-0.028988</td>\n",
       "      <td>0.014981</td>\n",
       "      <td>0.193224</td>\n",
       "      <td>0.016732</td>\n",
       "      <td>0.120883</td>\n",
       "      <td>0.072527</td>\n",
       "      <td>-0.021891</td>\n",
       "      <td>-0.002942</td>\n",
       "      <td>0.104145</td>\n",
       "      <td>0.530485</td>\n",
       "      <td>-0.025251</td>\n",
       "      <td>1.000000</td>\n",
       "    </tr>\n",
       "  </tbody>\n",
       "</table>\n",
       "</div>"
      ],
      "text/plain": [
       "                     Immoweb ID  Property type     Price    Eur/m2     Extra  \\\n",
       "Immoweb ID             1.000000       0.069241 -0.091552 -0.039882 -0.066286   \n",
       "Property type          0.069241       1.000000  0.245416 -0.209870       NaN   \n",
       "Price                 -0.091552       0.245416  1.000000  0.222326  0.437888   \n",
       "Eur/m2                -0.039882      -0.209870  0.222326  1.000000  0.287755   \n",
       "Extra                 -0.066286            NaN  0.437888  0.287755  1.000000   \n",
       "Post code             -0.047854       0.044865 -0.114504 -0.033441 -0.098233   \n",
       "Construction year     -0.002298      -0.080494  0.072914  0.065266  0.117930   \n",
       "Building condition    -0.066707      -0.285993  0.114684  0.180641  0.408997   \n",
       "Living area           -0.042088       0.347943  0.558398 -0.113452  0.316128   \n",
       "Kitchen type          -0.031191      -0.137475  0.157841  0.114398  0.628538   \n",
       "Bedrooms              -0.035370       0.294425  0.407173 -0.066957  0.077311   \n",
       "Terrace surface       -0.000680       0.050876  0.093207 -0.012062  0.293511   \n",
       "Energy class          -0.024336      -0.206957  0.067042  0.100442  0.517327   \n",
       "Double glazing         0.034728       0.033373  0.025557 -0.013343  0.161842   \n",
       "Swimming pool         -0.032995       0.285247  0.309481 -0.017191  0.804586   \n",
       "Garden surface        -0.057753       0.036166  0.178540  0.011213  0.182358   \n",
       "Garden                 0.078376       0.256189  0.055908 -0.066502 -0.008071   \n",
       "Surface of the plot   -0.089296            NaN  0.396942  0.173919  0.216007   \n",
       "\n",
       "                     Post code  Construction year  Building condition  \\\n",
       "Immoweb ID           -0.047854          -0.002298           -0.066707   \n",
       "Property type         0.044865          -0.080494           -0.285993   \n",
       "Price                -0.114504           0.072914            0.114684   \n",
       "Eur/m2               -0.033441           0.065266            0.180641   \n",
       "Extra                -0.098233           0.117930            0.408997   \n",
       "Post code             1.000000          -0.064681            0.029261   \n",
       "Construction year    -0.064681           1.000000            0.091201   \n",
       "Building condition    0.029261           0.091201            1.000000   \n",
       "Living area          -0.018735          -0.017266           -0.079612   \n",
       "Kitchen type         -0.111177           0.056928            0.347320   \n",
       "Bedrooms             -0.023418          -0.015736           -0.094036   \n",
       "Terrace surface       0.001054          -0.020294            0.012894   \n",
       "Energy class          0.172104           0.128092            0.443791   \n",
       "Double glazing       -0.111431          -0.014847            0.084851   \n",
       "Swimming pool        -0.021811           0.054589            0.047538   \n",
       "Garden surface       -0.011091          -0.039030           -0.016290   \n",
       "Garden               -0.070663           0.064240           -0.023734   \n",
       "Surface of the plot   0.008129          -0.028988            0.014981   \n",
       "\n",
       "                     Living area  Kitchen type  Bedrooms  Terrace surface  \\\n",
       "Immoweb ID             -0.042088     -0.031191 -0.035370        -0.000680   \n",
       "Property type           0.347943     -0.137475  0.294425         0.050876   \n",
       "Price                   0.558398      0.157841  0.407173         0.093207   \n",
       "Eur/m2                 -0.113452      0.114398 -0.066957        -0.012062   \n",
       "Extra                   0.316128      0.628538  0.077311         0.293511   \n",
       "Post code              -0.018735     -0.111177 -0.023418         0.001054   \n",
       "Construction year      -0.017266      0.056928 -0.015736        -0.020294   \n",
       "Building condition     -0.079612      0.347320 -0.094036         0.012894   \n",
       "Living area             1.000000     -0.005749  0.478322         0.210614   \n",
       "Kitchen type           -0.005749      1.000000 -0.052871         0.041226   \n",
       "Bedrooms                0.478322     -0.052871  1.000000         0.111080   \n",
       "Terrace surface         0.210614      0.041226  0.111080         1.000000   \n",
       "Energy class           -0.018237      0.183948 -0.054057         0.026734   \n",
       "Double glazing         -0.001344      0.084332  0.027632         0.016486   \n",
       "Swimming pool           0.270956      0.075941  0.155022         0.242698   \n",
       "Garden surface          0.132244      0.001783  0.105366         0.067950   \n",
       "Garden                  0.082786      0.006425  0.060946         0.039902   \n",
       "Surface of the plot     0.193224      0.016732  0.120883         0.072527   \n",
       "\n",
       "                     Energy class  Double glazing  Swimming pool  \\\n",
       "Immoweb ID              -0.024336        0.034728      -0.032995   \n",
       "Property type           -0.206957        0.033373       0.285247   \n",
       "Price                    0.067042        0.025557       0.309481   \n",
       "Eur/m2                   0.100442       -0.013343      -0.017191   \n",
       "Extra                    0.517327        0.161842       0.804586   \n",
       "Post code                0.172104       -0.111431      -0.021811   \n",
       "Construction year        0.128092       -0.014847       0.054589   \n",
       "Building condition       0.443791        0.084851       0.047538   \n",
       "Living area             -0.018237       -0.001344       0.270956   \n",
       "Kitchen type             0.183948        0.084332       0.075941   \n",
       "Bedrooms                -0.054057        0.027632       0.155022   \n",
       "Terrace surface          0.026734        0.016486       0.242698   \n",
       "Energy class             1.000000        0.027420       0.115272   \n",
       "Double glazing           0.027420        1.000000       0.074650   \n",
       "Swimming pool            0.115272        0.074650       1.000000   \n",
       "Garden surface          -0.035365        0.002632       0.010709   \n",
       "Garden                  -0.049803        0.064485       0.083228   \n",
       "Surface of the plot     -0.021891       -0.002942       0.104145   \n",
       "\n",
       "                     Garden surface    Garden  Surface of the plot  \n",
       "Immoweb ID                -0.057753  0.078376            -0.089296  \n",
       "Property type              0.036166  0.256189                  NaN  \n",
       "Price                      0.178540  0.055908             0.396942  \n",
       "Eur/m2                     0.011213 -0.066502             0.173919  \n",
       "Extra                      0.182358 -0.008071             0.216007  \n",
       "Post code                 -0.011091 -0.070663             0.008129  \n",
       "Construction year         -0.039030  0.064240            -0.028988  \n",
       "Building condition        -0.016290 -0.023734             0.014981  \n",
       "Living area                0.132244  0.082786             0.193224  \n",
       "Kitchen type               0.001783  0.006425             0.016732  \n",
       "Bedrooms                   0.105366  0.060946             0.120883  \n",
       "Terrace surface            0.067950  0.039902             0.072527  \n",
       "Energy class              -0.035365 -0.049803            -0.021891  \n",
       "Double glazing             0.002632  0.064485            -0.002942  \n",
       "Swimming pool              0.010709  0.083228             0.104145  \n",
       "Garden surface             1.000000       NaN             0.530485  \n",
       "Garden                          NaN  1.000000            -0.025251  \n",
       "Surface of the plot        0.530485 -0.025251             1.000000  "
      ]
     },
     "execution_count": 324,
     "metadata": {},
     "output_type": "execute_result"
    }
   ],
   "source": [
    "a = houses.corr(method = 'pearson', min_periods = 1)\n",
    "a"
   ]
  },
  {
   "cell_type": "code",
   "execution_count": 325,
   "id": "f3c4ec82",
   "metadata": {},
   "outputs": [
    {
     "data": {
      "text/plain": [
       "Price                  1.000000\n",
       "Living area            0.558398\n",
       "Extra                  0.437888\n",
       "Bedrooms               0.407173\n",
       "Surface of the plot    0.396942\n",
       "Swimming pool          0.309481\n",
       "Property type          0.245416\n",
       "Eur/m2                 0.222326\n",
       "Garden surface         0.178540\n",
       "Kitchen type           0.157841\n",
       "Building condition     0.114684\n",
       "Terrace surface        0.093207\n",
       "Construction year      0.072914\n",
       "Energy class           0.067042\n",
       "Garden                 0.055908\n",
       "Double glazing         0.025557\n",
       "Immoweb ID            -0.091552\n",
       "Post code             -0.114504\n",
       "Name: Price, dtype: float64"
      ]
     },
     "execution_count": 325,
     "metadata": {},
     "output_type": "execute_result"
    }
   ],
   "source": [
    "a['Price'].sort_values(ascending = False)"
   ]
  },
  {
   "cell_type": "code",
   "execution_count": 326,
   "id": "2931c057",
   "metadata": {},
   "outputs": [
    {
     "data": {
      "image/png": "[encoded data removed]",
      "text/plain": [
       "<Figure size 936x432 with 2 Axes>"
      ]
     },
     "metadata": {},
     "output_type": "display_data"
    }
   ],
   "source": [
    "import seaborn as sns\n",
    "plt.style.use('dark_background')\n",
    "plt.figure(figsize=(13, 6))\n",
    "sns.heatmap(a, vmax=1, annot=True, linewidths=.5,  cmap=\"Blues\")\n",
    "plt.xticks(rotation=30, horizontalalignment='right')\n",
    "plt.show()"
   ]
  },
  {
   "cell_type": "code",
   "execution_count": 327,
   "id": "110d70c1",
   "metadata": {},
   "outputs": [
    {
     "data": {
      "text/plain": [
       "Text(0, 0.5, 'Price')"
      ]
     },
     "execution_count": 327,
     "metadata": {},
     "output_type": "execute_result"
    },
    {
     "data": {
      "image/png": "[encoded data removed]",
      "text/plain": [
       "<Figure size 432x288 with 1 Axes>"
      ]
     },
     "metadata": {},
     "output_type": "display_data"
    }
   ],
   "source": [
    "import seaborn as sns\n",
    "import matplotlib.pyplot as plt\n",
    "plt.style.use('dark_background')\n",
    "ax = a.plot.scatter(x='Energy class', y='Price', sharex=False)\n",
    "ax.set_xlabel('Energy class')\n",
    "ax.set_ylabel('Price')"
   ]
  },
  {
   "cell_type": "code",
   "execution_count": 328,
   "id": "176d72d7",
   "metadata": {},
   "outputs": [
    {
     "data": {
      "image/png": "[encoded data removed]",
      "text/plain": [
       "<Figure size 360x360 with 1 Axes>"
      ]
     },
     "metadata": {},
     "output_type": "display_data"
    }
   ],
   "source": [
    "import seaborn as sns\n",
    "plt.style.use('dark_background')\n",
    "ax = sns.lmplot(x='Energy class', y='Price', data=a)\n"
   ]
  },
  {
   "cell_type": "code",
   "execution_count": 329,
   "id": "f68be2f6",
   "metadata": {},
   "outputs": [
    {
     "data": {
      "image/png": "[encoded data removed]",
      "text/plain": [
       "<Figure size 360x360 with 1 Axes>"
      ]
     },
     "metadata": {},
     "output_type": "display_data"
    }
   ],
   "source": [
    "import seaborn as sns\n",
    "plt.style.use('dark_background')\n",
    "ax = sns.lmplot(x='Property type', y='Price', data=a)"
   ]
  },
  {
   "cell_type": "code",
   "execution_count": 330,
   "id": "b925d701",
   "metadata": {},
   "outputs": [
    {
     "data": {
      "image/png": "[encoded data removed]",
      "text/plain": [
       "<Figure size 360x360 with 1 Axes>"
      ]
     },
     "metadata": {},
     "output_type": "display_data"
    }
   ],
   "source": [
    "import seaborn as sns\n",
    "plt.style.use('dark_background')\n",
    "ax = sns.lmplot(x='Eur/m2', y='Price', data=a)"
   ]
  },
  {
   "cell_type": "code",
   "execution_count": 331,
   "id": "8eca6b0d",
   "metadata": {},
   "outputs": [
    {
     "data": {
      "image/png": "[encoded data removed]",
      "text/plain": [
       "<Figure size 360x360 with 1 Axes>"
      ]
     },
     "metadata": {},
     "output_type": "display_data"
    }
   ],
   "source": [
    "import seaborn as sns\n",
    "plt.style.use('dark_background')\n",
    "ax = sns.lmplot(x='Extra', y='Price', data=a)"
   ]
  },
  {
   "cell_type": "code",
   "execution_count": 332,
   "id": "008537b4",
   "metadata": {},
   "outputs": [
    {
     "data": {
      "image/png": "[encoded data removed]",
      "text/plain": [
       "<Figure size 360x360 with 1 Axes>"
      ]
     },
     "metadata": {},
     "output_type": "display_data"
    }
   ],
   "source": [
    "import seaborn as sns\n",
    "plt.style.use('dark_background')\n",
    "ax = sns.lmplot(x='Post code', y='Price', data=a)"
   ]
  },
  {
   "cell_type": "code",
   "execution_count": 333,
   "id": "ba4f0c30",
   "metadata": {},
   "outputs": [
    {
     "data": {
      "image/png": "[encoded data removed]",
      "text/plain": [
       "<Figure size 360x360 with 1 Axes>"
      ]
     },
     "metadata": {},
     "output_type": "display_data"
    }
   ],
   "source": [
    "import seaborn as sns\n",
    "plt.style.use('dark_background')\n",
    "ax = sns.lmplot(x='Construction year', y='Price', data=a)"
   ]
  },
  {
   "cell_type": "code",
   "execution_count": 334,
   "id": "9682d6e8",
   "metadata": {},
   "outputs": [
    {
     "data": {
      "image/png": "[encoded data removed]",
      "text/plain": [
       "<Figure size 360x360 with 1 Axes>"
      ]
     },
     "metadata": {},
     "output_type": "display_data"
    }
   ],
   "source": [
    "import seaborn as sns\n",
    "plt.style.use('dark_background')\n",
    "ax = sns.lmplot(x='Building condition', y='Price', data=a)"
   ]
  },
  {
   "cell_type": "code",
   "execution_count": 335,
   "id": "4454fe5d",
   "metadata": {},
   "outputs": [
    {
     "data": {
      "image/png": "[encoded data removed]",
      "text/plain": [
       "<Figure size 360x360 with 1 Axes>"
      ]
     },
     "metadata": {},
     "output_type": "display_data"
    }
   ],
   "source": [
    "import seaborn as sns\n",
    "plt.style.use('dark_background')\n",
    "ax = sns.lmplot(x='Living area', y='Price', data=a)"
   ]
  },
  {
   "cell_type": "code",
   "execution_count": 336,
   "id": "aa87d40d",
   "metadata": {},
   "outputs": [
    {
     "data": {
      "image/png": "[encoded data removed]",
      "text/plain": [
       "<Figure size 360x360 with 1 Axes>"
      ]
     },
     "metadata": {},
     "output_type": "display_data"
    }
   ],
   "source": [
    "import seaborn as sns\n",
    "plt.style.use('dark_background')\n",
    "ax = sns.lmplot(x='Kitchen type', y='Price', data=a)"
   ]
  },
  {
   "cell_type": "code",
   "execution_count": 337,
   "id": "3553e46e",
   "metadata": {},
   "outputs": [
    {
     "data": {
      "image/png": "[encoded data removed]",
      "text/plain": [
       "<Figure size 360x360 with 1 Axes>"
      ]
     },
     "metadata": {},
     "output_type": "display_data"
    }
   ],
   "source": [
    "import seaborn as sns\n",
    "plt.style.use('dark_background')\n",
    "ax = sns.lmplot(x='Terrace surface', y='Price', data=a)"
   ]
  },
  {
   "cell_type": "code",
   "execution_count": 338,
   "id": "431b97d9",
   "metadata": {},
   "outputs": [
    {
     "data": {
      "image/png": "[encoded data removed]",
      "text/plain": [
       "<Figure size 360x360 with 1 Axes>"
      ]
     },
     "metadata": {},
     "output_type": "display_data"
    }
   ],
   "source": [
    "import seaborn as sns\n",
    "plt.style.use('dark_background')\n",
    "ax = sns.lmplot(x='Double glazing', y='Price', data=a)"
   ]
  },
  {
   "cell_type": "code",
   "execution_count": 339,
   "id": "f8a37fae",
   "metadata": {},
   "outputs": [
    {
     "data": {
      "image/png": "[encoded data removed]",
      "text/plain": [
       "<Figure size 360x360 with 1 Axes>"
      ]
     },
     "metadata": {},
     "output_type": "display_data"
    }
   ],
   "source": [
    "import seaborn as sns\n",
    "plt.style.use('dark_background')\n",
    "ax = sns.lmplot(x='Swimming pool', y='Price', data=a)"
   ]
  },
  {
   "cell_type": "code",
   "execution_count": 340,
   "id": "a51c5220",
   "metadata": {},
   "outputs": [
    {
     "data": {
      "image/png": "[encoded data removed]",
      "text/plain": [
       "<Figure size 360x360 with 1 Axes>"
      ]
     },
     "metadata": {},
     "output_type": "display_data"
    }
   ],
   "source": [
    "import seaborn as sns\n",
    "plt.style.use('dark_background')\n",
    "ax = sns.lmplot(x='Garden', y='Price', data=a)"
   ]
  },
  {
   "cell_type": "code",
   "execution_count": 341,
   "id": "4614c0ee",
   "metadata": {},
   "outputs": [
    {
     "data": {
      "image/png": "[encoded data removed]",
      "text/plain": [
       "<Figure size 360x360 with 1 Axes>"
      ]
     },
     "metadata": {},
     "output_type": "display_data"
    }
   ],
   "source": [
    "import seaborn as sns\n",
    "plt.style.use('dark_background')\n",
    "ax = sns.lmplot(x='Surface of the plot', y='Price', data=a)"
   ]
  },
  {
   "cell_type": "markdown",
   "id": "111ab262",
   "metadata": {},
   "source": [
    "Spearman Method\n",
    "\n",
    "The method determines the strength and direction of the monotonic relationship between two variables. A monotonic relationship is a relationship that does one of the following: (1) as the value of one variable increases, so does the value of the other variable; or (2) as the value of one variable increases, the other variable value decreases"
   ]
  },
  {
   "cell_type": "code",
   "execution_count": 342,
   "id": "74c71b08",
   "metadata": {},
   "outputs": [],
   "source": [
    "b = houses.corr(method='spearman')\n"
   ]
  },
  {
   "cell_type": "markdown",
   "id": "5fb089fd",
   "metadata": {},
   "source": [
    "## Municipality"
   ]
  },
  {
   "cell_type": "code",
   "execution_count": 343,
   "id": "b3a62922",
   "metadata": {},
   "outputs": [],
   "source": [
    "#houses.drop(houses.columns.difference(['Immoweb ID', 'url address', 'Property type', 'property sub-type', 'Price', 'Price (sr only)', 'Extra', 'Post code', 'Construction year', 'Kitchen type', 'Bedrooms', 'Terrace surface', 'Swimming pool', 'Garden', 'Living area', 'Energy class', 'Building condition', 'Double glazing', 'Surface of the plot' ]), 1, inplace=True)\n",
    "#houses.info()"
   ]
  },
  {
   "cell_type": "code",
   "execution_count": 344,
   "id": "a7b574f7",
   "metadata": {},
   "outputs": [
    {
     "data": {
      "text/plain": [
       "0                haren-(bru.)\n",
       "3        woluwe-saint-lambert\n",
       "4                      forest\n",
       "5                     ixelles\n",
       "6                       evere\n",
       "                 ...         \n",
       "14592          geraardsbergen\n",
       "14609            sint-niklaas\n",
       "14612                    gent\n",
       "14614                oostende\n",
       "14615                  aalter\n",
       "Name: Municipality, Length: 8747, dtype: object"
      ]
     },
     "execution_count": 344,
     "metadata": {},
     "output_type": "execute_result"
    }
   ],
   "source": [
    "houses = houses.rename(columns={\"Tenement building\" : \"Municipality\"})\n",
    "mylist = []\n",
    "\n",
    "for elem in houses['url address']:\n",
    "    name = elem.split(\"/\")\n",
    "    mylist.append(name[7])\n",
    "\n",
    "houses[\"Municipality\"] = mylist\n",
    "houses['Municipality']"
   ]
  },
  {
   "cell_type": "markdown",
   "id": "9bf783c0",
   "metadata": {},
   "source": [
    "### Changing the datatype of Post code"
   ]
  },
  {
   "cell_type": "code",
   "execution_count": 345,
   "id": "abfeabed",
   "metadata": {},
   "outputs": [],
   "source": [
    "houses['Post code'] = houses['Post code'].astype(int)"
   ]
  },
  {
   "cell_type": "code",
   "execution_count": 346,
   "id": "b5e30df0",
   "metadata": {},
   "outputs": [],
   "source": [
    "houses = houses.rename(columns={\"Heating type\":\"Region\"})\n",
    "for x in houses:\n",
    "    if x == \"Post code\":\n",
    "        for code in houses[x]:\n",
    "            if code >= 9000 and code <= 9999:\n",
    "                houses.loc[houses[\"Post code\"] == code, \"Region\"] = \"East Flanders Province\"\n",
    "            if code >= 1000 and code <= 1299:\n",
    "                houses.loc[houses[\"Post code\"] == code, \"Region\"] = \"Brussels Capital Region\"\n",
    "            if code >= 1300 and code <= 1499:\n",
    "                houses.loc[houses[\"Post code\"] == code, \"Region\"] = \"Walloon Brabant Province\"\n",
    "            if code >= 1500 and code <= 1999:\n",
    "                houses.loc[houses[\"Post code\"] == code, \"Region\"] = \"Flemish Brabant Province\"\n",
    "            if code >= 2000 and code <= 2999:\n",
    "                houses.loc[houses[\"Post code\"] == code, \"Region\"] = \"Antwerp Province\"\n",
    "            if code >= 3000 and code <= 3499:\n",
    "                houses.loc[houses[\"Post code\"] == code, \"Region\"] = \"Flemish Brabant Province\"\n",
    "            if code >= 3500 and code <= 3999:\n",
    "                houses.loc[houses[\"Post code\"] == code, \"Region\"] = \"Limburg Province\"\n",
    "            if code >= 4000 and code <= 4999:\n",
    "                houses.loc[houses[\"Post code\"] == code, \"Region\"] = \"Liège Province\"\n",
    "            if code >= 5000 and code <= 5999:\n",
    "                houses.loc[houses[\"Post code\"] == code, \"Region\"] = \"Namur Province\"\n",
    "            if code >= 6000 and code <= 6599:\n",
    "                houses.loc[houses[\"Post code\"] == code, \"Region\"] = \"Hainaut Province\"\n",
    "            if code >= 6600 and code <= 6999:\n",
    "                houses.loc[houses[\"Post code\"] == code, \"Region\"] = \"Luxembourg Province\"\n",
    "            if code >= 7000 and code <= 7999:\n",
    "                houses.loc[houses[\"Post code\"] == code, \"Region\"] = \"Hainaut Province\"\n",
    "            if code >= 8000 and code <= 8999:\n",
    "                houses.loc[houses[\"Post code\"] == code, \"Region\"] = \"West Flanders Province\"\n",
    "            if code >= 9000 and code <= 9999:\n",
    "                houses.loc[houses[\"Post code\"] == code, \"Region\"] = \"East Flanders Province\""
   ]
  },
  {
   "cell_type": "markdown",
   "id": "d6f40ac4",
   "metadata": {},
   "source": [
    "houses['Immoweb ID'].count()\n",
    "houses['Region']"
   ]
  },
  {
   "cell_type": "code",
   "execution_count": 347,
   "id": "39aecbf4",
   "metadata": {},
   "outputs": [
    {
     "data": {
      "text/plain": [
       "0        Brussels Capital Region\n",
       "3        Brussels Capital Region\n",
       "4        Brussels Capital Region\n",
       "5        Brussels Capital Region\n",
       "6        Brussels Capital Region\n",
       "                  ...           \n",
       "14592     East Flanders Province\n",
       "14609     East Flanders Province\n",
       "14612     East Flanders Province\n",
       "14614     West Flanders Province\n",
       "14615     East Flanders Province\n",
       "Name: Region, Length: 8747, dtype: object"
      ]
     },
     "execution_count": 347,
     "metadata": {},
     "output_type": "execute_result"
    }
   ],
   "source": [
    "houses['Immoweb ID'].count()\n",
    "houses['Region']"
   ]
  },
  {
   "cell_type": "code",
   "execution_count": 348,
   "id": "198f890e",
   "metadata": {},
   "outputs": [],
   "source": [
    "houses.to_csv('/Users/nadanadia/Downloads/Pythons/clean_data_nadia.csv')"
   ]
  },
  {
   "cell_type": "markdown",
   "id": "7728b684",
   "metadata": {},
   "source": [
    "# Compile the data based on postcode"
   ]
  },
  {
   "cell_type": "markdown",
   "id": "ed04adf4",
   "metadata": {},
   "source": [
    "Calculate the value of post code descending"
   ]
  },
  {
   "cell_type": "code",
   "execution_count": 349,
   "id": "c0add961",
   "metadata": {},
   "outputs": [
    {
     "data": {
      "text/plain": [
       "1000    208\n",
       "1180    193\n",
       "1050    179\n",
       "8300    145\n",
       "2000    139\n",
       "       ... \n",
       "6661      1\n",
       "1461      1\n",
       "7621      1\n",
       "5564      1\n",
       "7032      1\n",
       "Name: Post code, Length: 847, dtype: int64"
      ]
     },
     "execution_count": 349,
     "metadata": {},
     "output_type": "execute_result"
    }
   ],
   "source": [
    "houses2= houses[\"Post code\"].value_counts(ascending=False)\n",
    "houses2\n"
   ]
  },
  {
   "cell_type": "markdown",
   "id": "6be80f4f",
   "metadata": {},
   "source": [
    "Delete if the total of house is less than 10 per post code"
   ]
  },
  {
   "cell_type": "code",
   "execution_count": 350,
   "id": "723a93b4",
   "metadata": {},
   "outputs": [
    {
     "name": "stdout",
     "output_type": "stream",
     "text": [
      "Total no of Post code where data is more than 10 = 191\n",
      "Total no of Post code where data is less than 10 = 656\n"
     ]
    }
   ],
   "source": [
    "print(\"Total no of Post code where data is more than 10 = %s\" % (len(houses2[houses2 > 10])))\n",
    "print(\"Total no of Post code where data is less than 10 = %s\" % (len(houses2[houses2 <= 10])))"
   ]
  },
  {
   "cell_type": "code",
   "execution_count": 351,
   "id": "a2781f8a",
   "metadata": {},
   "outputs": [
    {
     "data": {
      "text/plain": [
       "192"
      ]
     },
     "execution_count": 351,
     "metadata": {},
     "output_type": "execute_result"
    }
   ],
   "source": [
    "less_10 = houses2[houses2 <= 10]\n",
    "houses2 = houses[\"Post code\"].apply(lambda x: 'other' if x in less_10 else x)\n",
    "len(houses2.unique())"
   ]
  },
  {
   "cell_type": "code",
   "execution_count": 352,
   "id": "f3c78c25",
   "metadata": {},
   "outputs": [],
   "source": [
    "houses[\"Post code\"] = houses2"
   ]
  },
  {
   "cell_type": "markdown",
   "id": "950404d0",
   "metadata": {},
   "source": [
    "# Dummies"
   ]
  },
  {
   "cell_type": "code",
   "execution_count": 353,
   "id": "4dc0675a",
   "metadata": {},
   "outputs": [
    {
     "data": {
      "text/html": [
       "<div>\n",
       "<style scoped>\n",
       "    .dataframe tbody tr th:only-of-type {\n",
       "        vertical-align: middle;\n",
       "    }\n",
       "\n",
       "    .dataframe tbody tr th {\n",
       "        vertical-align: top;\n",
       "    }\n",
       "\n",
       "    .dataframe thead th {\n",
       "        text-align: right;\n",
       "    }\n",
       "</style>\n",
       "<table border=\"1\" class=\"dataframe\">\n",
       "  <thead>\n",
       "    <tr style=\"text-align: right;\">\n",
       "      <th></th>\n",
       "      <th>Immoweb ID</th>\n",
       "      <th>Property type</th>\n",
       "      <th>Price</th>\n",
       "      <th>Eur/m2</th>\n",
       "      <th>Extra</th>\n",
       "      <th>Construction year</th>\n",
       "      <th>Building condition</th>\n",
       "      <th>Living area</th>\n",
       "      <th>Kitchen type</th>\n",
       "      <th>Bedrooms</th>\n",
       "      <th>...</th>\n",
       "      <th>Post code_9500</th>\n",
       "      <th>Post code_9550</th>\n",
       "      <th>Post code_9600</th>\n",
       "      <th>Post code_9620</th>\n",
       "      <th>Post code_9700</th>\n",
       "      <th>Post code_9880</th>\n",
       "      <th>Post code_9890</th>\n",
       "      <th>Post code_9900</th>\n",
       "      <th>Post code_9940</th>\n",
       "      <th>Post code_other</th>\n",
       "    </tr>\n",
       "  </thead>\n",
       "  <tbody>\n",
       "    <tr>\n",
       "      <th>0</th>\n",
       "      <td>9739983</td>\n",
       "      <td>1</td>\n",
       "      <td>476000</td>\n",
       "      <td>3051.282051</td>\n",
       "      <td>NaN</td>\n",
       "      <td>2017</td>\n",
       "      <td>4</td>\n",
       "      <td>156</td>\n",
       "      <td>10.0</td>\n",
       "      <td>3.0</td>\n",
       "      <td>...</td>\n",
       "      <td>0</td>\n",
       "      <td>0</td>\n",
       "      <td>0</td>\n",
       "      <td>0</td>\n",
       "      <td>0</td>\n",
       "      <td>0</td>\n",
       "      <td>0</td>\n",
       "      <td>0</td>\n",
       "      <td>0</td>\n",
       "      <td>1</td>\n",
       "    </tr>\n",
       "    <tr>\n",
       "      <th>3</th>\n",
       "      <td>9737424</td>\n",
       "      <td>1</td>\n",
       "      <td>399000</td>\n",
       "      <td>3800.000000</td>\n",
       "      <td>NaN</td>\n",
       "      <td>1992</td>\n",
       "      <td>3</td>\n",
       "      <td>105</td>\n",
       "      <td>4.0</td>\n",
       "      <td>2.0</td>\n",
       "      <td>...</td>\n",
       "      <td>0</td>\n",
       "      <td>0</td>\n",
       "      <td>0</td>\n",
       "      <td>0</td>\n",
       "      <td>0</td>\n",
       "      <td>0</td>\n",
       "      <td>0</td>\n",
       "      <td>0</td>\n",
       "      <td>0</td>\n",
       "      <td>0</td>\n",
       "    </tr>\n",
       "    <tr>\n",
       "      <th>4</th>\n",
       "      <td>9737272</td>\n",
       "      <td>1</td>\n",
       "      <td>499000</td>\n",
       "      <td>3118.750000</td>\n",
       "      <td>NaN</td>\n",
       "      <td>2018</td>\n",
       "      <td>4</td>\n",
       "      <td>160</td>\n",
       "      <td>10.0</td>\n",
       "      <td>3.0</td>\n",
       "      <td>...</td>\n",
       "      <td>0</td>\n",
       "      <td>0</td>\n",
       "      <td>0</td>\n",
       "      <td>0</td>\n",
       "      <td>0</td>\n",
       "      <td>0</td>\n",
       "      <td>0</td>\n",
       "      <td>0</td>\n",
       "      <td>0</td>\n",
       "      <td>0</td>\n",
       "    </tr>\n",
       "    <tr>\n",
       "      <th>5</th>\n",
       "      <td>9737235</td>\n",
       "      <td>1</td>\n",
       "      <td>1495000</td>\n",
       "      <td>7119.047619</td>\n",
       "      <td>NaN</td>\n",
       "      <td>2019</td>\n",
       "      <td>4</td>\n",
       "      <td>210</td>\n",
       "      <td>10.0</td>\n",
       "      <td>4.0</td>\n",
       "      <td>...</td>\n",
       "      <td>0</td>\n",
       "      <td>0</td>\n",
       "      <td>0</td>\n",
       "      <td>0</td>\n",
       "      <td>0</td>\n",
       "      <td>0</td>\n",
       "      <td>0</td>\n",
       "      <td>0</td>\n",
       "      <td>0</td>\n",
       "      <td>0</td>\n",
       "    </tr>\n",
       "    <tr>\n",
       "      <th>6</th>\n",
       "      <td>9729720</td>\n",
       "      <td>1</td>\n",
       "      <td>179000</td>\n",
       "      <td>2841.269841</td>\n",
       "      <td>NaN</td>\n",
       "      <td>1970</td>\n",
       "      <td>3</td>\n",
       "      <td>63</td>\n",
       "      <td>7.0</td>\n",
       "      <td>1.0</td>\n",
       "      <td>...</td>\n",
       "      <td>0</td>\n",
       "      <td>0</td>\n",
       "      <td>0</td>\n",
       "      <td>0</td>\n",
       "      <td>0</td>\n",
       "      <td>0</td>\n",
       "      <td>0</td>\n",
       "      <td>0</td>\n",
       "      <td>0</td>\n",
       "      <td>0</td>\n",
       "    </tr>\n",
       "  </tbody>\n",
       "</table>\n",
       "<p>5 rows × 231 columns</p>\n",
       "</div>"
      ],
      "text/plain": [
       "   Immoweb ID  Property type    Price       Eur/m2  Extra  Construction year  \\\n",
       "0     9739983              1   476000  3051.282051    NaN               2017   \n",
       "3     9737424              1   399000  3800.000000    NaN               1992   \n",
       "4     9737272              1   499000  3118.750000    NaN               2018   \n",
       "5     9737235              1  1495000  7119.047619    NaN               2019   \n",
       "6     9729720              1   179000  2841.269841    NaN               1970   \n",
       "\n",
       "   Building condition  Living area  Kitchen type  Bedrooms  ...  \\\n",
       "0                   4          156          10.0       3.0  ...   \n",
       "3                   3          105           4.0       2.0  ...   \n",
       "4                   4          160          10.0       3.0  ...   \n",
       "5                   4          210          10.0       4.0  ...   \n",
       "6                   3           63           7.0       1.0  ...   \n",
       "\n",
       "   Post code_9500  Post code_9550  Post code_9600 Post code_9620  \\\n",
       "0               0               0               0              0   \n",
       "3               0               0               0              0   \n",
       "4               0               0               0              0   \n",
       "5               0               0               0              0   \n",
       "6               0               0               0              0   \n",
       "\n",
       "   Post code_9700  Post code_9880  Post code_9890  Post code_9900  \\\n",
       "0               0               0               0               0   \n",
       "3               0               0               0               0   \n",
       "4               0               0               0               0   \n",
       "5               0               0               0               0   \n",
       "6               0               0               0               0   \n",
       "\n",
       "  Post code_9940 Post code_other  \n",
       "0              0               1  \n",
       "3              0               0  \n",
       "4              0               0  \n",
       "5              0               0  \n",
       "6              0               0  \n",
       "\n",
       "[5 rows x 231 columns]"
      ]
     },
     "execution_count": 353,
     "metadata": {},
     "output_type": "execute_result"
    }
   ],
   "source": [
    "data_dummies = pd.get_dummies(houses, columns=['property sub-type', 'Post code'], drop_first=True)\n",
    "data_dummies.head() \n"
   ]
  },
  {
   "cell_type": "code",
   "execution_count": 354,
   "id": "f77d136d",
   "metadata": {},
   "outputs": [],
   "source": [
    "data_dummies.to_csv('/Users/nadanadia/Downloads/Pythons/data_dummies.csv')"
   ]
  },
  {
   "cell_type": "markdown",
   "id": "22f18fab",
   "metadata": {},
   "source": [
    "# Make Price as Log"
   ]
  },
  {
   "cell_type": "code",
   "execution_count": 355,
   "id": "0a684011",
   "metadata": {},
   "outputs": [
    {
     "data": {
      "text/html": [
       "<div>\n",
       "<style scoped>\n",
       "    .dataframe tbody tr th:only-of-type {\n",
       "        vertical-align: middle;\n",
       "    }\n",
       "\n",
       "    .dataframe tbody tr th {\n",
       "        vertical-align: top;\n",
       "    }\n",
       "\n",
       "    .dataframe thead th {\n",
       "        text-align: right;\n",
       "    }\n",
       "</style>\n",
       "<table border=\"1\" class=\"dataframe\">\n",
       "  <thead>\n",
       "    <tr style=\"text-align: right;\">\n",
       "      <th></th>\n",
       "      <th>Immoweb ID</th>\n",
       "      <th>Property type</th>\n",
       "      <th>Price</th>\n",
       "      <th>Eur/m2</th>\n",
       "      <th>Extra</th>\n",
       "      <th>Construction year</th>\n",
       "      <th>Building condition</th>\n",
       "      <th>Living area</th>\n",
       "      <th>Kitchen type</th>\n",
       "      <th>Bedrooms</th>\n",
       "      <th>...</th>\n",
       "      <th>Post code_9550</th>\n",
       "      <th>Post code_9600</th>\n",
       "      <th>Post code_9620</th>\n",
       "      <th>Post code_9700</th>\n",
       "      <th>Post code_9880</th>\n",
       "      <th>Post code_9890</th>\n",
       "      <th>Post code_9900</th>\n",
       "      <th>Post code_9940</th>\n",
       "      <th>Post code_other</th>\n",
       "      <th>log_price</th>\n",
       "    </tr>\n",
       "  </thead>\n",
       "  <tbody>\n",
       "    <tr>\n",
       "      <th>0</th>\n",
       "      <td>9739983</td>\n",
       "      <td>1</td>\n",
       "      <td>476000</td>\n",
       "      <td>3051.282051</td>\n",
       "      <td>NaN</td>\n",
       "      <td>2017</td>\n",
       "      <td>4</td>\n",
       "      <td>156</td>\n",
       "      <td>10.0</td>\n",
       "      <td>3.0</td>\n",
       "      <td>...</td>\n",
       "      <td>0</td>\n",
       "      <td>0</td>\n",
       "      <td>0</td>\n",
       "      <td>0</td>\n",
       "      <td>0</td>\n",
       "      <td>0</td>\n",
       "      <td>0</td>\n",
       "      <td>0</td>\n",
       "      <td>1</td>\n",
       "      <td>13.073173</td>\n",
       "    </tr>\n",
       "    <tr>\n",
       "      <th>3</th>\n",
       "      <td>9737424</td>\n",
       "      <td>1</td>\n",
       "      <td>399000</td>\n",
       "      <td>3800.000000</td>\n",
       "      <td>NaN</td>\n",
       "      <td>1992</td>\n",
       "      <td>3</td>\n",
       "      <td>105</td>\n",
       "      <td>4.0</td>\n",
       "      <td>2.0</td>\n",
       "      <td>...</td>\n",
       "      <td>0</td>\n",
       "      <td>0</td>\n",
       "      <td>0</td>\n",
       "      <td>0</td>\n",
       "      <td>0</td>\n",
       "      <td>0</td>\n",
       "      <td>0</td>\n",
       "      <td>0</td>\n",
       "      <td>0</td>\n",
       "      <td>12.896717</td>\n",
       "    </tr>\n",
       "    <tr>\n",
       "      <th>4</th>\n",
       "      <td>9737272</td>\n",
       "      <td>1</td>\n",
       "      <td>499000</td>\n",
       "      <td>3118.750000</td>\n",
       "      <td>NaN</td>\n",
       "      <td>2018</td>\n",
       "      <td>4</td>\n",
       "      <td>160</td>\n",
       "      <td>10.0</td>\n",
       "      <td>3.0</td>\n",
       "      <td>...</td>\n",
       "      <td>0</td>\n",
       "      <td>0</td>\n",
       "      <td>0</td>\n",
       "      <td>0</td>\n",
       "      <td>0</td>\n",
       "      <td>0</td>\n",
       "      <td>0</td>\n",
       "      <td>0</td>\n",
       "      <td>0</td>\n",
       "      <td>13.120361</td>\n",
       "    </tr>\n",
       "    <tr>\n",
       "      <th>5</th>\n",
       "      <td>9737235</td>\n",
       "      <td>1</td>\n",
       "      <td>1495000</td>\n",
       "      <td>7119.047619</td>\n",
       "      <td>NaN</td>\n",
       "      <td>2019</td>\n",
       "      <td>4</td>\n",
       "      <td>210</td>\n",
       "      <td>10.0</td>\n",
       "      <td>4.0</td>\n",
       "      <td>...</td>\n",
       "      <td>0</td>\n",
       "      <td>0</td>\n",
       "      <td>0</td>\n",
       "      <td>0</td>\n",
       "      <td>0</td>\n",
       "      <td>0</td>\n",
       "      <td>0</td>\n",
       "      <td>0</td>\n",
       "      <td>0</td>\n",
       "      <td>14.217637</td>\n",
       "    </tr>\n",
       "    <tr>\n",
       "      <th>6</th>\n",
       "      <td>9729720</td>\n",
       "      <td>1</td>\n",
       "      <td>179000</td>\n",
       "      <td>2841.269841</td>\n",
       "      <td>NaN</td>\n",
       "      <td>1970</td>\n",
       "      <td>3</td>\n",
       "      <td>63</td>\n",
       "      <td>7.0</td>\n",
       "      <td>1.0</td>\n",
       "      <td>...</td>\n",
       "      <td>0</td>\n",
       "      <td>0</td>\n",
       "      <td>0</td>\n",
       "      <td>0</td>\n",
       "      <td>0</td>\n",
       "      <td>0</td>\n",
       "      <td>0</td>\n",
       "      <td>0</td>\n",
       "      <td>0</td>\n",
       "      <td>12.095141</td>\n",
       "    </tr>\n",
       "    <tr>\n",
       "      <th>...</th>\n",
       "      <td>...</td>\n",
       "      <td>...</td>\n",
       "      <td>...</td>\n",
       "      <td>...</td>\n",
       "      <td>...</td>\n",
       "      <td>...</td>\n",
       "      <td>...</td>\n",
       "      <td>...</td>\n",
       "      <td>...</td>\n",
       "      <td>...</td>\n",
       "      <td>...</td>\n",
       "      <td>...</td>\n",
       "      <td>...</td>\n",
       "      <td>...</td>\n",
       "      <td>...</td>\n",
       "      <td>...</td>\n",
       "      <td>...</td>\n",
       "      <td>...</td>\n",
       "      <td>...</td>\n",
       "      <td>...</td>\n",
       "      <td>...</td>\n",
       "    </tr>\n",
       "    <tr>\n",
       "      <th>14592</th>\n",
       "      <td>9353716</td>\n",
       "      <td>1</td>\n",
       "      <td>299000</td>\n",
       "      <td>4211.267606</td>\n",
       "      <td>NaN</td>\n",
       "      <td>0</td>\n",
       "      <td>4</td>\n",
       "      <td>71</td>\n",
       "      <td>10.0</td>\n",
       "      <td>1.0</td>\n",
       "      <td>...</td>\n",
       "      <td>0</td>\n",
       "      <td>0</td>\n",
       "      <td>0</td>\n",
       "      <td>0</td>\n",
       "      <td>0</td>\n",
       "      <td>0</td>\n",
       "      <td>0</td>\n",
       "      <td>0</td>\n",
       "      <td>0</td>\n",
       "      <td>12.608199</td>\n",
       "    </tr>\n",
       "    <tr>\n",
       "      <th>14609</th>\n",
       "      <td>8931427</td>\n",
       "      <td>1</td>\n",
       "      <td>286000</td>\n",
       "      <td>4400.000000</td>\n",
       "      <td>NaN</td>\n",
       "      <td>0</td>\n",
       "      <td>3</td>\n",
       "      <td>65</td>\n",
       "      <td>NaN</td>\n",
       "      <td>1.0</td>\n",
       "      <td>...</td>\n",
       "      <td>0</td>\n",
       "      <td>0</td>\n",
       "      <td>0</td>\n",
       "      <td>0</td>\n",
       "      <td>0</td>\n",
       "      <td>0</td>\n",
       "      <td>0</td>\n",
       "      <td>0</td>\n",
       "      <td>0</td>\n",
       "      <td>12.563747</td>\n",
       "    </tr>\n",
       "    <tr>\n",
       "      <th>14612</th>\n",
       "      <td>9653921</td>\n",
       "      <td>1</td>\n",
       "      <td>250000</td>\n",
       "      <td>3968.253968</td>\n",
       "      <td>NaN</td>\n",
       "      <td>0</td>\n",
       "      <td>4</td>\n",
       "      <td>63</td>\n",
       "      <td>4.0</td>\n",
       "      <td>1.0</td>\n",
       "      <td>...</td>\n",
       "      <td>0</td>\n",
       "      <td>0</td>\n",
       "      <td>0</td>\n",
       "      <td>0</td>\n",
       "      <td>0</td>\n",
       "      <td>0</td>\n",
       "      <td>0</td>\n",
       "      <td>0</td>\n",
       "      <td>0</td>\n",
       "      <td>12.429216</td>\n",
       "    </tr>\n",
       "    <tr>\n",
       "      <th>14614</th>\n",
       "      <td>9540791</td>\n",
       "      <td>1</td>\n",
       "      <td>369000</td>\n",
       "      <td>6709.090909</td>\n",
       "      <td>NaN</td>\n",
       "      <td>2021</td>\n",
       "      <td>4</td>\n",
       "      <td>55</td>\n",
       "      <td>NaN</td>\n",
       "      <td>1.0</td>\n",
       "      <td>...</td>\n",
       "      <td>0</td>\n",
       "      <td>0</td>\n",
       "      <td>0</td>\n",
       "      <td>0</td>\n",
       "      <td>0</td>\n",
       "      <td>0</td>\n",
       "      <td>0</td>\n",
       "      <td>0</td>\n",
       "      <td>0</td>\n",
       "      <td>12.818552</td>\n",
       "    </tr>\n",
       "    <tr>\n",
       "      <th>14615</th>\n",
       "      <td>8041977</td>\n",
       "      <td>1</td>\n",
       "      <td>217000</td>\n",
       "      <td>3338.461538</td>\n",
       "      <td>NaN</td>\n",
       "      <td>2019</td>\n",
       "      <td>4</td>\n",
       "      <td>65</td>\n",
       "      <td>NaN</td>\n",
       "      <td>1.0</td>\n",
       "      <td>...</td>\n",
       "      <td>0</td>\n",
       "      <td>0</td>\n",
       "      <td>0</td>\n",
       "      <td>0</td>\n",
       "      <td>1</td>\n",
       "      <td>0</td>\n",
       "      <td>0</td>\n",
       "      <td>0</td>\n",
       "      <td>0</td>\n",
       "      <td>12.287653</td>\n",
       "    </tr>\n",
       "  </tbody>\n",
       "</table>\n",
       "<p>8747 rows × 232 columns</p>\n",
       "</div>"
      ],
      "text/plain": [
       "       Immoweb ID  Property type    Price       Eur/m2  Extra  \\\n",
       "0         9739983              1   476000  3051.282051    NaN   \n",
       "3         9737424              1   399000  3800.000000    NaN   \n",
       "4         9737272              1   499000  3118.750000    NaN   \n",
       "5         9737235              1  1495000  7119.047619    NaN   \n",
       "6         9729720              1   179000  2841.269841    NaN   \n",
       "...           ...            ...      ...          ...    ...   \n",
       "14592     9353716              1   299000  4211.267606    NaN   \n",
       "14609     8931427              1   286000  4400.000000    NaN   \n",
       "14612     9653921              1   250000  3968.253968    NaN   \n",
       "14614     9540791              1   369000  6709.090909    NaN   \n",
       "14615     8041977              1   217000  3338.461538    NaN   \n",
       "\n",
       "       Construction year  Building condition  Living area  Kitchen type  \\\n",
       "0                   2017                   4          156          10.0   \n",
       "3                   1992                   3          105           4.0   \n",
       "4                   2018                   4          160          10.0   \n",
       "5                   2019                   4          210          10.0   \n",
       "6                   1970                   3           63           7.0   \n",
       "...                  ...                 ...          ...           ...   \n",
       "14592                  0                   4           71          10.0   \n",
       "14609                  0                   3           65           NaN   \n",
       "14612                  0                   4           63           4.0   \n",
       "14614               2021                   4           55           NaN   \n",
       "14615               2019                   4           65           NaN   \n",
       "\n",
       "       Bedrooms  ...  Post code_9550  Post code_9600  Post code_9620  \\\n",
       "0           3.0  ...               0               0               0   \n",
       "3           2.0  ...               0               0               0   \n",
       "4           3.0  ...               0               0               0   \n",
       "5           4.0  ...               0               0               0   \n",
       "6           1.0  ...               0               0               0   \n",
       "...         ...  ...             ...             ...             ...   \n",
       "14592       1.0  ...               0               0               0   \n",
       "14609       1.0  ...               0               0               0   \n",
       "14612       1.0  ...               0               0               0   \n",
       "14614       1.0  ...               0               0               0   \n",
       "14615       1.0  ...               0               0               0   \n",
       "\n",
       "      Post code_9700  Post code_9880  Post code_9890  Post code_9900  \\\n",
       "0                  0               0               0               0   \n",
       "3                  0               0               0               0   \n",
       "4                  0               0               0               0   \n",
       "5                  0               0               0               0   \n",
       "6                  0               0               0               0   \n",
       "...              ...             ...             ...             ...   \n",
       "14592              0               0               0               0   \n",
       "14609              0               0               0               0   \n",
       "14612              0               0               0               0   \n",
       "14614              0               0               0               0   \n",
       "14615              0               1               0               0   \n",
       "\n",
       "       Post code_9940 Post code_other  log_price  \n",
       "0                   0               1  13.073173  \n",
       "3                   0               0  12.896717  \n",
       "4                   0               0  13.120361  \n",
       "5                   0               0  14.217637  \n",
       "6                   0               0  12.095141  \n",
       "...               ...             ...        ...  \n",
       "14592               0               0  12.608199  \n",
       "14609               0               0  12.563747  \n",
       "14612               0               0  12.429216  \n",
       "14614               0               0  12.818552  \n",
       "14615               0               0  12.287653  \n",
       "\n",
       "[8747 rows x 232 columns]"
      ]
     },
     "execution_count": 355,
     "metadata": {},
     "output_type": "execute_result"
    }
   ],
   "source": [
    "log_price = np.log(data_dummies['Price'])\n",
    "\n",
    "# Then we add it to our data frame\n",
    "data_dummies['log_price'] = log_price\n",
    "data_dummies"
   ]
  },
  {
   "cell_type": "code",
   "execution_count": 356,
   "id": "8267538a",
   "metadata": {},
   "outputs": [],
   "source": [
    "data_dummies = data_dummies.drop(['Price'], axis=1)"
   ]
  },
  {
   "cell_type": "code",
   "execution_count": 357,
   "id": "666313d1",
   "metadata": {},
   "outputs": [
    {
     "data": {
      "text/html": [
       "<div>\n",
       "<style scoped>\n",
       "    .dataframe tbody tr th:only-of-type {\n",
       "        vertical-align: middle;\n",
       "    }\n",
       "\n",
       "    .dataframe tbody tr th {\n",
       "        vertical-align: top;\n",
       "    }\n",
       "\n",
       "    .dataframe thead th {\n",
       "        text-align: right;\n",
       "    }\n",
       "</style>\n",
       "<table border=\"1\" class=\"dataframe\">\n",
       "  <thead>\n",
       "    <tr style=\"text-align: right;\">\n",
       "      <th></th>\n",
       "      <th>Immoweb ID</th>\n",
       "      <th>Property type</th>\n",
       "      <th>Eur/m2</th>\n",
       "      <th>Extra</th>\n",
       "      <th>Construction year</th>\n",
       "      <th>Building condition</th>\n",
       "      <th>Living area</th>\n",
       "      <th>Kitchen type</th>\n",
       "      <th>Bedrooms</th>\n",
       "      <th>Terrace surface</th>\n",
       "      <th>...</th>\n",
       "      <th>Post code_9550</th>\n",
       "      <th>Post code_9600</th>\n",
       "      <th>Post code_9620</th>\n",
       "      <th>Post code_9700</th>\n",
       "      <th>Post code_9880</th>\n",
       "      <th>Post code_9890</th>\n",
       "      <th>Post code_9900</th>\n",
       "      <th>Post code_9940</th>\n",
       "      <th>Post code_other</th>\n",
       "      <th>log_price</th>\n",
       "    </tr>\n",
       "  </thead>\n",
       "  <tbody>\n",
       "    <tr>\n",
       "      <th>0</th>\n",
       "      <td>9739983</td>\n",
       "      <td>1</td>\n",
       "      <td>3051.282051</td>\n",
       "      <td>NaN</td>\n",
       "      <td>2017</td>\n",
       "      <td>4</td>\n",
       "      <td>156</td>\n",
       "      <td>10.0</td>\n",
       "      <td>3.0</td>\n",
       "      <td>43.0</td>\n",
       "      <td>...</td>\n",
       "      <td>0</td>\n",
       "      <td>0</td>\n",
       "      <td>0</td>\n",
       "      <td>0</td>\n",
       "      <td>0</td>\n",
       "      <td>0</td>\n",
       "      <td>0</td>\n",
       "      <td>0</td>\n",
       "      <td>1</td>\n",
       "      <td>13.073173</td>\n",
       "    </tr>\n",
       "    <tr>\n",
       "      <th>3</th>\n",
       "      <td>9737424</td>\n",
       "      <td>1</td>\n",
       "      <td>3800.000000</td>\n",
       "      <td>NaN</td>\n",
       "      <td>1992</td>\n",
       "      <td>3</td>\n",
       "      <td>105</td>\n",
       "      <td>4.0</td>\n",
       "      <td>2.0</td>\n",
       "      <td>42.0</td>\n",
       "      <td>...</td>\n",
       "      <td>0</td>\n",
       "      <td>0</td>\n",
       "      <td>0</td>\n",
       "      <td>0</td>\n",
       "      <td>0</td>\n",
       "      <td>0</td>\n",
       "      <td>0</td>\n",
       "      <td>0</td>\n",
       "      <td>0</td>\n",
       "      <td>12.896717</td>\n",
       "    </tr>\n",
       "    <tr>\n",
       "      <th>4</th>\n",
       "      <td>9737272</td>\n",
       "      <td>1</td>\n",
       "      <td>3118.750000</td>\n",
       "      <td>NaN</td>\n",
       "      <td>2018</td>\n",
       "      <td>4</td>\n",
       "      <td>160</td>\n",
       "      <td>10.0</td>\n",
       "      <td>3.0</td>\n",
       "      <td>11.0</td>\n",
       "      <td>...</td>\n",
       "      <td>0</td>\n",
       "      <td>0</td>\n",
       "      <td>0</td>\n",
       "      <td>0</td>\n",
       "      <td>0</td>\n",
       "      <td>0</td>\n",
       "      <td>0</td>\n",
       "      <td>0</td>\n",
       "      <td>0</td>\n",
       "      <td>13.120361</td>\n",
       "    </tr>\n",
       "    <tr>\n",
       "      <th>5</th>\n",
       "      <td>9737235</td>\n",
       "      <td>1</td>\n",
       "      <td>7119.047619</td>\n",
       "      <td>NaN</td>\n",
       "      <td>2019</td>\n",
       "      <td>4</td>\n",
       "      <td>210</td>\n",
       "      <td>10.0</td>\n",
       "      <td>4.0</td>\n",
       "      <td>100.0</td>\n",
       "      <td>...</td>\n",
       "      <td>0</td>\n",
       "      <td>0</td>\n",
       "      <td>0</td>\n",
       "      <td>0</td>\n",
       "      <td>0</td>\n",
       "      <td>0</td>\n",
       "      <td>0</td>\n",
       "      <td>0</td>\n",
       "      <td>0</td>\n",
       "      <td>14.217637</td>\n",
       "    </tr>\n",
       "    <tr>\n",
       "      <th>6</th>\n",
       "      <td>9729720</td>\n",
       "      <td>1</td>\n",
       "      <td>2841.269841</td>\n",
       "      <td>NaN</td>\n",
       "      <td>1970</td>\n",
       "      <td>3</td>\n",
       "      <td>63</td>\n",
       "      <td>7.0</td>\n",
       "      <td>1.0</td>\n",
       "      <td>9.0</td>\n",
       "      <td>...</td>\n",
       "      <td>0</td>\n",
       "      <td>0</td>\n",
       "      <td>0</td>\n",
       "      <td>0</td>\n",
       "      <td>0</td>\n",
       "      <td>0</td>\n",
       "      <td>0</td>\n",
       "      <td>0</td>\n",
       "      <td>0</td>\n",
       "      <td>12.095141</td>\n",
       "    </tr>\n",
       "  </tbody>\n",
       "</table>\n",
       "<p>5 rows × 231 columns</p>\n",
       "</div>"
      ],
      "text/plain": [
       "   Immoweb ID  Property type       Eur/m2  Extra  Construction year  \\\n",
       "0     9739983              1  3051.282051    NaN               2017   \n",
       "3     9737424              1  3800.000000    NaN               1992   \n",
       "4     9737272              1  3118.750000    NaN               2018   \n",
       "5     9737235              1  7119.047619    NaN               2019   \n",
       "6     9729720              1  2841.269841    NaN               1970   \n",
       "\n",
       "   Building condition  Living area  Kitchen type  Bedrooms  Terrace surface  \\\n",
       "0                   4          156          10.0       3.0             43.0   \n",
       "3                   3          105           4.0       2.0             42.0   \n",
       "4                   4          160          10.0       3.0             11.0   \n",
       "5                   4          210          10.0       4.0            100.0   \n",
       "6                   3           63           7.0       1.0              9.0   \n",
       "\n",
       "   ...  Post code_9550  Post code_9600 Post code_9620  Post code_9700  \\\n",
       "0  ...               0               0              0               0   \n",
       "3  ...               0               0              0               0   \n",
       "4  ...               0               0              0               0   \n",
       "5  ...               0               0              0               0   \n",
       "6  ...               0               0              0               0   \n",
       "\n",
       "   Post code_9880  Post code_9890  Post code_9900 Post code_9940  \\\n",
       "0               0               0               0              0   \n",
       "3               0               0               0              0   \n",
       "4               0               0               0              0   \n",
       "5               0               0               0              0   \n",
       "6               0               0               0              0   \n",
       "\n",
       "  Post code_other  log_price  \n",
       "0               1  13.073173  \n",
       "3               0  12.896717  \n",
       "4               0  13.120361  \n",
       "5               0  14.217637  \n",
       "6               0  12.095141  \n",
       "\n",
       "[5 rows x 231 columns]"
      ]
     },
     "execution_count": 357,
     "metadata": {},
     "output_type": "execute_result"
    }
   ],
   "source": [
    "data_dummies.head() "
   ]
  },
  {
   "cell_type": "markdown",
   "id": "1af60845",
   "metadata": {},
   "source": [
    "# Regression"
   ]
  },
  {
   "cell_type": "markdown",
   "id": "e11b1864",
   "metadata": {},
   "source": [
    "https://www.freecodecamp.org/news/how-to-build-and-train-linear-and-logistic-regression-ml-models-in-python/"
   ]
  },
  {
   "cell_type": "code",
   "execution_count": 358,
   "id": "67b6d06b",
   "metadata": {},
   "outputs": [],
   "source": [
    "from sklearn.model_selection import train_test_split \n",
    "houses = data_dummies.drop(columns=['Immoweb ID', 'url address', 'Municipality', 'Region'], axis=1)\n",
    "\n",
    "#get rid of infinite values\n",
    "houses.replace([np.inf, -np.inf], np.nan, inplace=True)\n",
    "#get rid null values\n",
    "houses.fillna(0, inplace=True)\n"
   ]
  },
  {
   "cell_type": "code",
   "execution_count": 359,
   "id": "feafce5c",
   "metadata": {},
   "outputs": [
    {
     "name": "stdout",
     "output_type": "stream",
     "text": [
      "X shape :  (8747, 226)\n",
      "y shape :  (8747,)\n"
     ]
    }
   ],
   "source": [
    "X = houses.drop(['log_price'], axis =1)\n",
    "y = houses['log_price']\n",
    "print(\"X shape : \", X.shape)\n",
    "print(\"y shape : \", y.shape)"
   ]
  },
  {
   "cell_type": "code",
   "execution_count": 360,
   "id": "6e5f6aeb",
   "metadata": {},
   "outputs": [
    {
     "name": "stdout",
     "output_type": "stream",
     "text": [
      "Shape of X_train:  (6997, 226)\n",
      "Shape of X_test:  (1750, 226)\n",
      "Shape of y_train:  (6997,)\n",
      "Shape of y_test:  (1750,)\n"
     ]
    }
   ],
   "source": [
    "\n",
    "X_train, X_test, y_train, y_test = train_test_split(X, y, test_size=0.2, random_state=0)\n",
    "\n",
    "print(\"Shape of X_train: \", X_train.shape)\n",
    "print(\"Shape of X_test: \", X_test.shape)\n",
    "print(\"Shape of y_train: \", y_train.shape)\n",
    "print(\"Shape of y_test: \", y_test.shape)"
   ]
  },
  {
   "cell_type": "markdown",
   "id": "e8ddbab8",
   "metadata": {},
   "source": [
    "# Train the model"
   ]
  },
  {
   "cell_type": "code",
   "execution_count": 361,
   "id": "70ca62d0",
   "metadata": {},
   "outputs": [
    {
     "data": {
      "text/plain": [
       "0.7106689918193991"
      ]
     },
     "execution_count": 361,
     "metadata": {},
     "output_type": "execute_result"
    }
   ],
   "source": [
    "from sklearn.linear_model import LinearRegression\n",
    "\n",
    "regressor = LinearRegression()\n",
    "regressor.fit(X_train, y_train)\n",
    "regressor.score(X_train, y_train)"
   ]
  },
  {
   "cell_type": "code",
   "execution_count": 375,
   "id": "e39b32dd",
   "metadata": {},
   "outputs": [
    {
     "data": {
      "text/plain": [
       "0.8607639354434523"
      ]
     },
     "execution_count": 375,
     "metadata": {},
     "output_type": "execute_result"
    }
   ],
   "source": [
    "from sklearn.linear_model import LinearRegression\n",
    "\n",
    "regressor = LinearRegression()\n",
    "regressor.fit(X_test, y_test)\n",
    "regressor.score(X_test, y_test)"
   ]
  },
  {
   "cell_type": "code",
   "execution_count": 363,
   "id": "b9c25f81",
   "metadata": {},
   "outputs": [
    {
     "data": {
      "text/plain": [
       "array([ 6.52385939e-01,  1.86073611e-04, -2.04437096e-03,  2.83930171e-05,\n",
       "        7.81213352e-02,  1.61200827e-03,  6.81109933e-03,  3.42448207e-03,\n",
       "       -1.03966567e-04,  8.78384888e-03,  9.03813895e-03,  1.90865790e-02,\n",
       "        2.08207764e-06, -5.49810433e-04,  5.85411159e-02, -1.83191437e-01,\n",
       "       -2.43171247e-01, -1.26693446e+00, -9.23704569e-02,  2.58704117e-01,\n",
       "        9.76839041e-02,  1.78749309e-01, -6.82088734e-01,  1.16985287e-01,\n",
       "       -1.38615113e+00,  5.23865167e-01,  2.98782697e-01,  7.12519292e-02,\n",
       "       -8.80946962e-02, -2.17481083e-01,  2.98031891e-01, -1.20970317e-01,\n",
       "       -1.78435434e-01,  3.39237777e-01,  9.41534081e-02,  3.02724805e-02,\n",
       "       -1.41465189e-02,  2.20212223e-01,  1.61501037e-01,  4.72056731e-02,\n",
       "       -1.02250610e-01, -8.68117950e-02, -1.03200304e-01,  2.91503062e-02,\n",
       "       -5.55474790e-02, -2.01567600e-02, -2.28916285e-01,  1.73258863e-01,\n",
       "        2.99858660e-01,  2.02934060e-01,  4.24161630e-02, -1.35612741e-03,\n",
       "       -1.12234683e-01, -2.69699445e-01, -2.68518145e-01, -1.44056995e-01,\n",
       "       -6.18984714e-02, -1.37036273e-01, -2.38348785e-11,  5.40454512e-02,\n",
       "        6.16626073e-02, -1.57403318e-01, -5.72333049e-02, -2.63999860e-02,\n",
       "       -2.60836533e-01, -7.64451719e-02, -1.43775123e-01, -2.31955511e-01,\n",
       "       -2.91793642e-01, -2.95454792e-01, -8.36482858e-02,  9.10977474e-02,\n",
       "       -1.21698266e-01, -4.12196864e-01, -2.14353483e-01, -1.73881800e-01,\n",
       "        2.29321514e-02, -1.01249176e-01, -2.25828209e-01,  1.71351507e-01,\n",
       "       -6.14548325e-02,  4.68948367e-03, -1.01299228e-01, -3.54242882e-02,\n",
       "       -1.41818570e-01,  2.00460060e-02,  8.54927647e-03,  9.18067672e-02,\n",
       "        1.19715314e-01, -2.11081894e-02, -2.11793996e-01,  2.51198479e-01,\n",
       "       -2.76813075e-01, -2.71250205e-01, -8.32770543e-02, -1.13240703e-02,\n",
       "       -1.83500442e-01, -1.04956224e-01, -1.63866752e-01, -1.42774978e-01,\n",
       "       -1.32275546e-02, -2.59804925e-01, -1.64213432e-01, -1.92815992e-01,\n",
       "       -2.29627080e-01, -7.23819339e-02, -9.90480643e-02, -1.44995694e-01,\n",
       "        4.59618686e-02, -5.21098865e-02, -1.17877881e-03, -7.49387086e-02,\n",
       "       -1.25961909e-01, -2.41988969e-01, -1.23397538e-01,  4.16617707e-01,\n",
       "       -4.62407469e-01, -3.02343600e-01, -6.54908475e-03, -1.79661903e-01,\n",
       "        1.47708076e-01, -7.33804528e-02,  9.38721147e-02, -5.33012005e-02,\n",
       "       -2.93853333e-01,  6.80600932e-02, -2.12315444e-01, -4.57120568e-01,\n",
       "       -5.76273120e-02, -6.41549489e-01, -8.66443051e-02,  8.06455475e-02,\n",
       "       -5.57343466e-01, -1.98368484e-01,  8.61039340e-02, -2.22044605e-16,\n",
       "       -3.85075702e-02, -2.23581219e-02, -4.82734947e-02, -4.37150316e-16,\n",
       "       -4.85767882e-02, -2.45747053e-01, -1.44345123e-01, -3.38836242e-01,\n",
       "       -4.67075114e-01, -5.26570571e-01, -3.60833924e-01, -5.73674567e-01,\n",
       "       -5.31857194e-01, -3.47444125e-01, -4.87680458e-01, -6.41696925e-01,\n",
       "       -1.25380299e-01, -3.17318237e-01, -2.50318205e-01, -2.58852532e-01,\n",
       "       -1.88932298e-01, -3.53065128e-01, -4.79549926e-01, -7.48344281e-01,\n",
       "       -6.69334295e-01, -7.05912854e-01, -6.21463075e-01, -4.62354457e-01,\n",
       "       -5.81614040e-01, -3.28507980e-01, -5.67223925e-01, -2.07253447e-01,\n",
       "       -4.06310490e-01, -2.09211436e-01, -4.98125073e-01, -5.01491350e-01,\n",
       "       -5.76190299e-01, -1.55183040e-01, -4.61469111e-01, -1.23193839e-01,\n",
       "       -2.27992064e-03,  2.35079349e-01, -1.33867633e-01, -3.36115467e-01,\n",
       "        7.44353502e-02, -1.16281658e-01, -9.63357550e-02, -2.44792334e-01,\n",
       "       -5.25383989e-02, -1.95983601e-01, -2.20549008e-01, -3.20283746e-01,\n",
       "       -2.31865691e-01, -9.02482933e-02, -1.64611293e-01, -9.13049467e-02,\n",
       "       -2.21555127e-02, -9.71802422e-02, -1.79827560e-01, -6.68052051e-02,\n",
       "       -2.03269650e-01,  1.15476164e-01, -1.20308777e-02, -2.21497405e-01,\n",
       "       -3.99544603e-01, -3.51260574e-01,  1.86032427e-01, -3.38922914e-01,\n",
       "        7.26934365e-02, -2.36157455e-01,  1.59808287e-03, -1.59398576e-01,\n",
       "       -1.55198438e-01, -3.80308305e-01, -4.99600361e-16,  2.14250107e-01,\n",
       "       -1.98537569e-01, -1.75558498e-01, -2.40853382e-01, -1.34072056e-01,\n",
       "       -1.50622440e-01, -4.07128980e-01, -4.77855732e-01, -2.90145060e-01,\n",
       "       -2.14264103e-01,  1.25943727e-02, -1.52242604e-01, -1.69135522e-01,\n",
       "        9.20507023e-02, -2.80214202e-01])"
      ]
     },
     "execution_count": 363,
     "metadata": {},
     "output_type": "execute_result"
    }
   ],
   "source": [
    "regressor.coef_ "
   ]
  },
  {
   "cell_type": "code",
   "execution_count": 364,
   "id": "9d98141c",
   "metadata": {},
   "outputs": [
    {
     "data": {
      "text/plain": [
       "10.753574268850137"
      ]
     },
     "execution_count": 364,
     "metadata": {},
     "output_type": "execute_result"
    }
   ],
   "source": [
    "regressor.intercept_"
   ]
  },
  {
   "cell_type": "code",
   "execution_count": 385,
   "id": "151d3800",
   "metadata": {},
   "outputs": [
    {
     "ename": "TypeError",
     "evalue": "Index(...) must be called with a collection of some kind, 'Municipality' was passed",
     "output_type": "error",
     "traceback": [
      "\u001b[0;31m---------------------------------------------------------------------------\u001b[0m",
      "\u001b[0;31mTypeError\u001b[0m                                 Traceback (most recent call last)",
      "Input \u001b[0;32mIn [385]\u001b[0m, in \u001b[0;36m<module>\u001b[0;34m\u001b[0m\n\u001b[0;32m----> 1\u001b[0m \u001b[43mpd\u001b[49m\u001b[38;5;241;43m.\u001b[39;49m\u001b[43mDataFrame\u001b[49m\u001b[43m(\u001b[49m\u001b[43mregressor\u001b[49m\u001b[38;5;241;43m.\u001b[39;49m\u001b[43mcoef_\u001b[49m\u001b[43m,\u001b[49m\u001b[43m \u001b[49m\u001b[43mx\u001b[49m\u001b[43m,\u001b[49m\u001b[43m \u001b[49m\u001b[43mcolumns\u001b[49m\u001b[43m \u001b[49m\u001b[38;5;241;43m=\u001b[39;49m\u001b[43m \u001b[49m\u001b[43m[\u001b[49m\u001b[38;5;124;43m'\u001b[39;49m\u001b[38;5;124;43mCoeff\u001b[39;49m\u001b[38;5;124;43m'\u001b[39;49m\u001b[43m]\u001b[49m\u001b[43m)\u001b[49m\n",
      "File \u001b[0;32m/Library/Frameworks/Python.framework/Versions/3.9/lib/python3.9/site-packages/pandas/core/frame.py:695\u001b[0m, in \u001b[0;36mDataFrame.__init__\u001b[0;34m(self, data, index, columns, dtype, copy)\u001b[0m\n\u001b[1;32m    685\u001b[0m         mgr \u001b[38;5;241m=\u001b[39m dict_to_mgr(\n\u001b[1;32m    686\u001b[0m             \u001b[38;5;66;03m# error: Item \"ndarray\" of \"Union[ndarray, Series, Index]\" has no\u001b[39;00m\n\u001b[1;32m    687\u001b[0m             \u001b[38;5;66;03m# attribute \"name\"\u001b[39;00m\n\u001b[0;32m   (...)\u001b[0m\n\u001b[1;32m    692\u001b[0m             typ\u001b[38;5;241m=\u001b[39mmanager,\n\u001b[1;32m    693\u001b[0m         )\n\u001b[1;32m    694\u001b[0m     \u001b[38;5;28;01melse\u001b[39;00m:\n\u001b[0;32m--> 695\u001b[0m         mgr \u001b[38;5;241m=\u001b[39m \u001b[43mndarray_to_mgr\u001b[49m\u001b[43m(\u001b[49m\n\u001b[1;32m    696\u001b[0m \u001b[43m            \u001b[49m\u001b[43mdata\u001b[49m\u001b[43m,\u001b[49m\n\u001b[1;32m    697\u001b[0m \u001b[43m            \u001b[49m\u001b[43mindex\u001b[49m\u001b[43m,\u001b[49m\n\u001b[1;32m    698\u001b[0m \u001b[43m            \u001b[49m\u001b[43mcolumns\u001b[49m\u001b[43m,\u001b[49m\n\u001b[1;32m    699\u001b[0m \u001b[43m            \u001b[49m\u001b[43mdtype\u001b[49m\u001b[38;5;241;43m=\u001b[39;49m\u001b[43mdtype\u001b[49m\u001b[43m,\u001b[49m\n\u001b[1;32m    700\u001b[0m \u001b[43m            \u001b[49m\u001b[43mcopy\u001b[49m\u001b[38;5;241;43m=\u001b[39;49m\u001b[43mcopy\u001b[49m\u001b[43m,\u001b[49m\n\u001b[1;32m    701\u001b[0m \u001b[43m            \u001b[49m\u001b[43mtyp\u001b[49m\u001b[38;5;241;43m=\u001b[39;49m\u001b[43mmanager\u001b[49m\u001b[43m,\u001b[49m\n\u001b[1;32m    702\u001b[0m \u001b[43m        \u001b[49m\u001b[43m)\u001b[49m\n\u001b[1;32m    704\u001b[0m \u001b[38;5;66;03m# For data is list-like, or Iterable (will consume into list)\u001b[39;00m\n\u001b[1;32m    705\u001b[0m \u001b[38;5;28;01melif\u001b[39;00m is_list_like(data):\n",
      "File \u001b[0;32m/Library/Frameworks/Python.framework/Versions/3.9/lib/python3.9/site-packages/pandas/core/internals/construction.py:347\u001b[0m, in \u001b[0;36mndarray_to_mgr\u001b[0;34m(values, index, columns, dtype, copy, typ)\u001b[0m\n\u001b[1;32m    344\u001b[0m     values \u001b[38;5;241m=\u001b[39m values\u001b[38;5;241m.\u001b[39mreshape(shape)\n\u001b[1;32m    346\u001b[0m \u001b[38;5;66;03m# _prep_ndarray ensures that values.ndim == 2 at this point\u001b[39;00m\n\u001b[0;32m--> 347\u001b[0m index, columns \u001b[38;5;241m=\u001b[39m \u001b[43m_get_axes\u001b[49m\u001b[43m(\u001b[49m\n\u001b[1;32m    348\u001b[0m \u001b[43m    \u001b[49m\u001b[43mvalues\u001b[49m\u001b[38;5;241;43m.\u001b[39;49m\u001b[43mshape\u001b[49m\u001b[43m[\u001b[49m\u001b[38;5;241;43m0\u001b[39;49m\u001b[43m]\u001b[49m\u001b[43m,\u001b[49m\u001b[43m \u001b[49m\u001b[43mvalues\u001b[49m\u001b[38;5;241;43m.\u001b[39;49m\u001b[43mshape\u001b[49m\u001b[43m[\u001b[49m\u001b[38;5;241;43m1\u001b[39;49m\u001b[43m]\u001b[49m\u001b[43m,\u001b[49m\u001b[43m \u001b[49m\u001b[43mindex\u001b[49m\u001b[38;5;241;43m=\u001b[39;49m\u001b[43mindex\u001b[49m\u001b[43m,\u001b[49m\u001b[43m \u001b[49m\u001b[43mcolumns\u001b[49m\u001b[38;5;241;43m=\u001b[39;49m\u001b[43mcolumns\u001b[49m\n\u001b[1;32m    349\u001b[0m \u001b[43m\u001b[49m\u001b[43m)\u001b[49m\n\u001b[1;32m    351\u001b[0m _check_values_indices_shape_match(values, index, columns)\n\u001b[1;32m    353\u001b[0m \u001b[38;5;28;01mif\u001b[39;00m typ \u001b[38;5;241m==\u001b[39m \u001b[38;5;124m\"\u001b[39m\u001b[38;5;124marray\u001b[39m\u001b[38;5;124m\"\u001b[39m:\n",
      "File \u001b[0;32m/Library/Frameworks/Python.framework/Versions/3.9/lib/python3.9/site-packages/pandas/core/internals/construction.py:756\u001b[0m, in \u001b[0;36m_get_axes\u001b[0;34m(N, K, index, columns)\u001b[0m\n\u001b[1;32m    754\u001b[0m     index \u001b[38;5;241m=\u001b[39m default_index(N)\n\u001b[1;32m    755\u001b[0m \u001b[38;5;28;01melse\u001b[39;00m:\n\u001b[0;32m--> 756\u001b[0m     index \u001b[38;5;241m=\u001b[39m \u001b[43mensure_index\u001b[49m\u001b[43m(\u001b[49m\u001b[43mindex\u001b[49m\u001b[43m)\u001b[49m\n\u001b[1;32m    758\u001b[0m \u001b[38;5;28;01mif\u001b[39;00m columns \u001b[38;5;129;01mis\u001b[39;00m \u001b[38;5;28;01mNone\u001b[39;00m:\n\u001b[1;32m    759\u001b[0m     columns \u001b[38;5;241m=\u001b[39m default_index(K)\n",
      "File \u001b[0;32m/Library/Frameworks/Python.framework/Versions/3.9/lib/python3.9/site-packages/pandas/core/indexes/base.py:7043\u001b[0m, in \u001b[0;36mensure_index\u001b[0;34m(index_like, copy)\u001b[0m\n\u001b[1;32m   7041\u001b[0m         \u001b[38;5;28;01mreturn\u001b[39;00m Index\u001b[38;5;241m.\u001b[39m_with_infer(index_like, copy\u001b[38;5;241m=\u001b[39mcopy, tupleize_cols\u001b[38;5;241m=\u001b[39m\u001b[38;5;28;01mFalse\u001b[39;00m)\n\u001b[1;32m   7042\u001b[0m \u001b[38;5;28;01melse\u001b[39;00m:\n\u001b[0;32m-> 7043\u001b[0m     \u001b[38;5;28;01mreturn\u001b[39;00m \u001b[43mIndex\u001b[49m\u001b[38;5;241;43m.\u001b[39;49m\u001b[43m_with_infer\u001b[49m\u001b[43m(\u001b[49m\u001b[43mindex_like\u001b[49m\u001b[43m,\u001b[49m\u001b[43m \u001b[49m\u001b[43mcopy\u001b[49m\u001b[38;5;241;43m=\u001b[39;49m\u001b[43mcopy\u001b[49m\u001b[43m)\u001b[49m\n",
      "File \u001b[0;32m/Library/Frameworks/Python.framework/Versions/3.9/lib/python3.9/site-packages/pandas/core/indexes/base.py:680\u001b[0m, in \u001b[0;36mIndex._with_infer\u001b[0;34m(cls, *args, **kwargs)\u001b[0m\n\u001b[1;32m    678\u001b[0m \u001b[38;5;28;01mwith\u001b[39;00m warnings\u001b[38;5;241m.\u001b[39mcatch_warnings():\n\u001b[1;32m    679\u001b[0m     warnings\u001b[38;5;241m.\u001b[39mfilterwarnings(\u001b[38;5;124m\"\u001b[39m\u001b[38;5;124mignore\u001b[39m\u001b[38;5;124m\"\u001b[39m, \u001b[38;5;124m\"\u001b[39m\u001b[38;5;124m.*the Index constructor\u001b[39m\u001b[38;5;124m\"\u001b[39m, \u001b[38;5;167;01mFutureWarning\u001b[39;00m)\n\u001b[0;32m--> 680\u001b[0m     result \u001b[38;5;241m=\u001b[39m \u001b[38;5;28;43mcls\u001b[39;49m\u001b[43m(\u001b[49m\u001b[38;5;241;43m*\u001b[39;49m\u001b[43margs\u001b[49m\u001b[43m,\u001b[49m\u001b[43m \u001b[49m\u001b[38;5;241;43m*\u001b[39;49m\u001b[38;5;241;43m*\u001b[39;49m\u001b[43mkwargs\u001b[49m\u001b[43m)\u001b[49m\n\u001b[1;32m    682\u001b[0m \u001b[38;5;28;01mif\u001b[39;00m result\u001b[38;5;241m.\u001b[39mdtype \u001b[38;5;241m==\u001b[39m _dtype_obj \u001b[38;5;129;01mand\u001b[39;00m \u001b[38;5;129;01mnot\u001b[39;00m result\u001b[38;5;241m.\u001b[39m_is_multi:\n\u001b[1;32m    683\u001b[0m     \u001b[38;5;66;03m# error: Argument 1 to \"maybe_convert_objects\" has incompatible type\u001b[39;00m\n\u001b[1;32m    684\u001b[0m     \u001b[38;5;66;03m# \"Union[ExtensionArray, ndarray[Any, Any]]\"; expected\u001b[39;00m\n\u001b[1;32m    685\u001b[0m     \u001b[38;5;66;03m# \"ndarray[Any, Any]\"\u001b[39;00m\n\u001b[1;32m    686\u001b[0m     values \u001b[38;5;241m=\u001b[39m lib\u001b[38;5;241m.\u001b[39mmaybe_convert_objects(result\u001b[38;5;241m.\u001b[39m_values)  \u001b[38;5;66;03m# type: ignore[arg-type]\u001b[39;00m\n",
      "File \u001b[0;32m/Library/Frameworks/Python.framework/Versions/3.9/lib/python3.9/site-packages/pandas/core/indexes/base.py:508\u001b[0m, in \u001b[0;36mIndex.__new__\u001b[0;34m(cls, data, dtype, copy, name, tupleize_cols, **kwargs)\u001b[0m\n\u001b[1;32m    505\u001b[0m     \u001b[38;5;28;01mreturn\u001b[39;00m klass\u001b[38;5;241m.\u001b[39m_simple_new(arr, name)\n\u001b[1;32m    507\u001b[0m \u001b[38;5;28;01melif\u001b[39;00m is_scalar(data):\n\u001b[0;32m--> 508\u001b[0m     \u001b[38;5;28;01mraise\u001b[39;00m \u001b[38;5;28mcls\u001b[39m\u001b[38;5;241m.\u001b[39m_scalar_data_error(data)\n\u001b[1;32m    509\u001b[0m \u001b[38;5;28;01melif\u001b[39;00m \u001b[38;5;28mhasattr\u001b[39m(data, \u001b[38;5;124m\"\u001b[39m\u001b[38;5;124m__array__\u001b[39m\u001b[38;5;124m\"\u001b[39m):\n\u001b[1;32m    510\u001b[0m     \u001b[38;5;28;01mreturn\u001b[39;00m Index(np\u001b[38;5;241m.\u001b[39masarray(data), dtype\u001b[38;5;241m=\u001b[39mdtype, copy\u001b[38;5;241m=\u001b[39mcopy, name\u001b[38;5;241m=\u001b[39mname, \u001b[38;5;241m*\u001b[39m\u001b[38;5;241m*\u001b[39mkwargs)\n",
      "\u001b[0;31mTypeError\u001b[0m: Index(...) must be called with a collection of some kind, 'Municipality' was passed"
     ]
    }
   ],
   "source": [
    "pd.DataFrame(regressor.coef_, x, columns = ['Coeff'])"
   ]
  },
  {
   "cell_type": "code",
   "execution_count": 379,
   "id": "32dcfebf",
   "metadata": {},
   "outputs": [
    {
     "data": {
      "image/png": "[encoded data removed]",
      "text/plain": [
       "<Figure size 432x288 with 1 Axes>"
      ]
     },
     "metadata": {},
     "output_type": "display_data"
    }
   ],
   "source": [
    "y_predtrain = regressor.predict(X_train)\n",
    "plt.scatter(y_train, y_predtrain)\n",
    "plt.xlabel(\"Targets (y_train)\", size=18)\n",
    "plt.ylabel(\"Predictions (y_predtrain)\", size=18)\n",
    "plt.show()"
   ]
  },
  {
   "cell_type": "code",
   "execution_count": 380,
   "id": "3cfc6eba",
   "metadata": {},
   "outputs": [
    {
     "data": {
      "image/png": "[encoded data removed]",
      "text/plain": [
       "<Figure size 432x288 with 1 Axes>"
      ]
     },
     "metadata": {},
     "output_type": "display_data"
    }
   ],
   "source": [
    "y_predtest = regressor.predict(X_test)\n",
    "plt.scatter(y_test, y_predtest)\n",
    "plt.xlabel(\"Targets (y_test)\", size=18)\n",
    "plt.ylabel(\"Predictions (y_predtest)\", size=18)\n",
    "plt.show()"
   ]
  },
  {
   "cell_type": "markdown",
   "id": "6ec09bf0",
   "metadata": {},
   "source": [
    "Now that we have trained our algorithm, it's time to make some predictions. "
   ]
  },
  {
   "cell_type": "code",
   "execution_count": 382,
   "id": "41ec9141",
   "metadata": {},
   "outputs": [
    {
     "name": "stdout",
     "output_type": "stream",
     "text": [
      "The model result for training set\n",
      "RMSE is 0.6864648136487238\n",
      "R2 score is 0.19202575625537333\n",
      "\n",
      "\n",
      "The model result for testing set\n",
      "RMSE is 0.2842918589727888\n",
      "R2 score is 0.8607639354434523\n"
     ]
    }
   ],
   "source": [
    "from sklearn.metrics import mean_squared_error as MSE\n",
    "from sklearn.metrics import r2_score\n",
    "y_predtrain = regressor.predict(X_train)\n",
    "rmse = (np.sqrt(MSE(y_train, y_predtrain)))\n",
    "r2 = r2_score(y_train, y_predtrain)\n",
    "print(\"The model result for training set\")\n",
    "print(\"RMSE is {}\".format(rmse))\n",
    "print(\"R2 score is {}\".format(r2))\n",
    "\n",
    "y_predtest = regressor.predict(X_test)\n",
    "rmse = (np.sqrt(MSE(y_test, y_predtest)))\n",
    "r2 = r2_score(y_test, y_predtest)\n",
    "print(\"\\n\")\n",
    "print(\"The model result for testing set\")\n",
    "print(\"RMSE is {}\".format(rmse))\n",
    "print(\"R2 score is {}\".format(r2))\n"
   ]
  },
  {
   "cell_type": "code",
   "execution_count": null,
   "id": "26e0613c",
   "metadata": {},
   "outputs": [],
   "source": []
  }
 ],
 "metadata": {
  "interpreter": {
   "hash": "edcf0e90d66bb1b7c2ba8f102df394780f53fc7b2ebe9d09583afa653c778b2a"
  },
  "kernelspec": {
   "display_name": "Python 3.9.9 64-bit (conda)",
   "language": "python",
   "name": "python3"
  },
  "language_info": {
   "codemirror_mode": {
    "name": "ipython",
    "version": 3
   },
   "file_extension": ".py",
   "mimetype": "text/x-python",
   "name": "python",
   "nbconvert_exporter": "python",
   "pygments_lexer": "ipython3",
   "version": "3.9.1"
  }
 },
 "nbformat": 4,
 "nbformat_minor": 5
}
